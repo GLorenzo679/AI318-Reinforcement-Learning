{
 "cells": [
  {
   "cell_type": "markdown",
   "metadata": {},
   "source": [
    "# Reinforcement Learning\n",
    "\n",
    "# 7. Parametric Bandits\n"
   ]
  },
  {
   "cell_type": "markdown",
   "metadata": {},
   "source": [
    "The objective of this lab is to recommend contents (here movies) using **parametric bandits**. The rewards are binary (like or dislike).\n"
   ]
  },
  {
   "cell_type": "markdown",
   "metadata": {},
   "source": [
    "## Imports\n"
   ]
  },
  {
   "cell_type": "code",
   "execution_count": 951,
   "metadata": {},
   "outputs": [],
   "source": [
    "import numpy as np\n",
    "import pandas as pd\n",
    "\n",
    "import matplotlib.pyplot as plt"
   ]
  },
  {
   "cell_type": "markdown",
   "metadata": {},
   "source": [
    "You will need `ipywidgets` to simulate the interactions with the user.\n"
   ]
  },
  {
   "cell_type": "code",
   "execution_count": 952,
   "metadata": {},
   "outputs": [],
   "source": [
    "#!pip install ipywidgets"
   ]
  },
  {
   "cell_type": "code",
   "execution_count": 953,
   "metadata": {},
   "outputs": [],
   "source": [
    "from ipywidgets import AppLayout, Button, GridspecLayout, Image, Layout"
   ]
  },
  {
   "cell_type": "code",
   "execution_count": 954,
   "metadata": {},
   "outputs": [],
   "source": [
    "#!pip install scikit-learn"
   ]
  },
  {
   "cell_type": "code",
   "execution_count": 955,
   "metadata": {},
   "outputs": [],
   "source": [
    "from sklearn.linear_model import LogisticRegression\n",
    "from sklearn.preprocessing import MultiLabelBinarizer\n",
    "from scipy.stats import spearmanr"
   ]
  },
  {
   "cell_type": "markdown",
   "metadata": {},
   "source": [
    "## Data\n"
   ]
  },
  {
   "cell_type": "markdown",
   "metadata": {},
   "source": [
    "We work on a catalogue of 1037 movies available in 2015.\n"
   ]
  },
  {
   "cell_type": "code",
   "execution_count": 956,
   "metadata": {},
   "outputs": [],
   "source": [
    "catalogue = pd.read_pickle(\"./data/movie_database.pickle\")"
   ]
  },
  {
   "cell_type": "code",
   "execution_count": 957,
   "metadata": {},
   "outputs": [
    {
     "data": {
      "text/plain": [
       "1037"
      ]
     },
     "execution_count": 957,
     "metadata": {},
     "output_type": "execute_result"
    }
   ],
   "source": [
    "len(catalogue)"
   ]
  },
  {
   "cell_type": "code",
   "execution_count": 958,
   "metadata": {},
   "outputs": [
    {
     "data": {
      "text/html": [
       "<div>\n",
       "<style scoped>\n",
       "    .dataframe tbody tr th:only-of-type {\n",
       "        vertical-align: middle;\n",
       "    }\n",
       "\n",
       "    .dataframe tbody tr th {\n",
       "        vertical-align: top;\n",
       "    }\n",
       "\n",
       "    .dataframe thead th {\n",
       "        text-align: right;\n",
       "    }\n",
       "</style>\n",
       "<table border=\"1\" class=\"dataframe\">\n",
       "  <thead>\n",
       "    <tr style=\"text-align: right;\">\n",
       "      <th></th>\n",
       "      <th>Actors</th>\n",
       "      <th>Awards</th>\n",
       "      <th>Country</th>\n",
       "      <th>Director</th>\n",
       "      <th>Genre</th>\n",
       "      <th>Language</th>\n",
       "      <th>Rated</th>\n",
       "      <th>Released</th>\n",
       "      <th>Title</th>\n",
       "      <th>imdbID</th>\n",
       "      <th>imdbRating</th>\n",
       "      <th>Metascore</th>\n",
       "      <th>Box_office</th>\n",
       "      <th>imdbVotes</th>\n",
       "      <th>Runtime</th>\n",
       "      <th>poster</th>\n",
       "    </tr>\n",
       "  </thead>\n",
       "  <tbody>\n",
       "    <tr>\n",
       "      <th>0</th>\n",
       "      <td>[Mark Hamill, Harrison Ford, Carrie Fisher, Bi...</td>\n",
       "      <td>Won 1 Oscar. Another 15 wins &amp; 18 nominations.</td>\n",
       "      <td>[USA]</td>\n",
       "      <td>[Irvin Kershner]</td>\n",
       "      <td>[Action, Adventure, Fantasy]</td>\n",
       "      <td>[English]</td>\n",
       "      <td>[PG]</td>\n",
       "      <td>1980-06-20</td>\n",
       "      <td>Star Wars: Episode V - The Empire Strikes Back</td>\n",
       "      <td>tt0080684</td>\n",
       "      <td>8.8</td>\n",
       "      <td>79.0</td>\n",
       "      <td>290158751.0</td>\n",
       "      <td>799579.0</td>\n",
       "      <td>124.0</td>\n",
       "      <td>b'\\xff\\xd8\\xff\\xe0\\x00\\x10JFIF\\x00\\x01\\x01\\x00...</td>\n",
       "    </tr>\n",
       "    <tr>\n",
       "      <th>1</th>\n",
       "      <td>[Kareem Abdul-Jabbar, Lloyd Bridges, Peter Gra...</td>\n",
       "      <td>Nominated for 1 Golden Globe. Another 2 wins &amp;...</td>\n",
       "      <td>[USA]</td>\n",
       "      <td>[Jim Abrahams, David Zucker, Jerry Zucker]</td>\n",
       "      <td>[Comedy]</td>\n",
       "      <td>[English]</td>\n",
       "      <td>[PG]</td>\n",
       "      <td>1980-07-02</td>\n",
       "      <td>Airplane!</td>\n",
       "      <td>tt0080339</td>\n",
       "      <td>7.8</td>\n",
       "      <td>NaN</td>\n",
       "      <td>83400000.0</td>\n",
       "      <td>154994.0</td>\n",
       "      <td>88.0</td>\n",
       "      <td>b'\\xff\\xd8\\xff\\xe0\\x00\\x10JFIF\\x00\\x01\\x01\\x00...</td>\n",
       "    </tr>\n",
       "    <tr>\n",
       "      <th>2</th>\n",
       "      <td>[John Belushi, Dan Aykroyd, James Brown, Cab C...</td>\n",
       "      <td>1 win.</td>\n",
       "      <td>[USA]</td>\n",
       "      <td>[John Landis]</td>\n",
       "      <td>[Action, Comedy, Crime]</td>\n",
       "      <td>[English]</td>\n",
       "      <td>[R]</td>\n",
       "      <td>1980-06-20</td>\n",
       "      <td>The Blues Brothers</td>\n",
       "      <td>tt0080455</td>\n",
       "      <td>7.9</td>\n",
       "      <td>NaN</td>\n",
       "      <td>54200000.0</td>\n",
       "      <td>138196.0</td>\n",
       "      <td>133.0</td>\n",
       "      <td>b'\\xff\\xd8\\xff\\xe0\\x00\\x10JFIF\\x00\\x01\\x01\\x00...</td>\n",
       "    </tr>\n",
       "    <tr>\n",
       "      <th>3</th>\n",
       "      <td>[Jack Nicholson, Shelley Duvall, Danny Lloyd, ...</td>\n",
       "      <td>3 wins &amp; 5 nominations.</td>\n",
       "      <td>[USA, UK]</td>\n",
       "      <td>[Stanley Kubrick]</td>\n",
       "      <td>[Drama, Horror]</td>\n",
       "      <td>[English]</td>\n",
       "      <td>[R]</td>\n",
       "      <td>1980-05-23</td>\n",
       "      <td>The Shining</td>\n",
       "      <td>tt0081505</td>\n",
       "      <td>8.4</td>\n",
       "      <td>61.0</td>\n",
       "      <td>NaN</td>\n",
       "      <td>584323.0</td>\n",
       "      <td>146.0</td>\n",
       "      <td>b'\\xff\\xd8\\xff\\xe0\\x00\\x10JFIF\\x00\\x01\\x01\\x00...</td>\n",
       "    </tr>\n",
       "    <tr>\n",
       "      <th>4</th>\n",
       "      <td>[Anthony Hopkins, John Hurt, Anne Bancroft, Jo...</td>\n",
       "      <td>Nominated for 8 Oscars. Another 10 wins &amp; 14 n...</td>\n",
       "      <td>[USA, UK]</td>\n",
       "      <td>[David Lynch]</td>\n",
       "      <td>[Biography, Drama]</td>\n",
       "      <td>[English]</td>\n",
       "      <td>[PG]</td>\n",
       "      <td>1980-10-10</td>\n",
       "      <td>The Elephant Man</td>\n",
       "      <td>tt0080678</td>\n",
       "      <td>8.2</td>\n",
       "      <td>NaN</td>\n",
       "      <td>NaN</td>\n",
       "      <td>156572.0</td>\n",
       "      <td>124.0</td>\n",
       "      <td>b'\\xff\\xd8\\xff\\xe0\\x00\\x10JFIF\\x00\\x01\\x01\\x00...</td>\n",
       "    </tr>\n",
       "  </tbody>\n",
       "</table>\n",
       "</div>"
      ],
      "text/plain": [
       "                                              Actors  \\\n",
       "0  [Mark Hamill, Harrison Ford, Carrie Fisher, Bi...   \n",
       "1  [Kareem Abdul-Jabbar, Lloyd Bridges, Peter Gra...   \n",
       "2  [John Belushi, Dan Aykroyd, James Brown, Cab C...   \n",
       "3  [Jack Nicholson, Shelley Duvall, Danny Lloyd, ...   \n",
       "4  [Anthony Hopkins, John Hurt, Anne Bancroft, Jo...   \n",
       "\n",
       "                                              Awards    Country  \\\n",
       "0     Won 1 Oscar. Another 15 wins & 18 nominations.      [USA]   \n",
       "1  Nominated for 1 Golden Globe. Another 2 wins &...      [USA]   \n",
       "2                                             1 win.      [USA]   \n",
       "3                            3 wins & 5 nominations.  [USA, UK]   \n",
       "4  Nominated for 8 Oscars. Another 10 wins & 14 n...  [USA, UK]   \n",
       "\n",
       "                                     Director                         Genre  \\\n",
       "0                            [Irvin Kershner]  [Action, Adventure, Fantasy]   \n",
       "1  [Jim Abrahams, David Zucker, Jerry Zucker]                      [Comedy]   \n",
       "2                               [John Landis]       [Action, Comedy, Crime]   \n",
       "3                           [Stanley Kubrick]               [Drama, Horror]   \n",
       "4                               [David Lynch]            [Biography, Drama]   \n",
       "\n",
       "    Language Rated   Released                                           Title  \\\n",
       "0  [English]  [PG] 1980-06-20  Star Wars: Episode V - The Empire Strikes Back   \n",
       "1  [English]  [PG] 1980-07-02                                       Airplane!   \n",
       "2  [English]   [R] 1980-06-20                              The Blues Brothers   \n",
       "3  [English]   [R] 1980-05-23                                     The Shining   \n",
       "4  [English]  [PG] 1980-10-10                                The Elephant Man   \n",
       "\n",
       "      imdbID  imdbRating  Metascore   Box_office  imdbVotes  Runtime  \\\n",
       "0  tt0080684         8.8       79.0  290158751.0   799579.0    124.0   \n",
       "1  tt0080339         7.8        NaN   83400000.0   154994.0     88.0   \n",
       "2  tt0080455         7.9        NaN   54200000.0   138196.0    133.0   \n",
       "3  tt0081505         8.4       61.0          NaN   584323.0    146.0   \n",
       "4  tt0080678         8.2        NaN          NaN   156572.0    124.0   \n",
       "\n",
       "                                              poster  \n",
       "0  b'\\xff\\xd8\\xff\\xe0\\x00\\x10JFIF\\x00\\x01\\x01\\x00...  \n",
       "1  b'\\xff\\xd8\\xff\\xe0\\x00\\x10JFIF\\x00\\x01\\x01\\x00...  \n",
       "2  b'\\xff\\xd8\\xff\\xe0\\x00\\x10JFIF\\x00\\x01\\x01\\x00...  \n",
       "3  b'\\xff\\xd8\\xff\\xe0\\x00\\x10JFIF\\x00\\x01\\x01\\x00...  \n",
       "4  b'\\xff\\xd8\\xff\\xe0\\x00\\x10JFIF\\x00\\x01\\x01\\x00...  "
      ]
     },
     "execution_count": 958,
     "metadata": {},
     "output_type": "execute_result"
    }
   ],
   "source": [
    "catalogue.head()"
   ]
  },
  {
   "cell_type": "markdown",
   "metadata": {},
   "source": [
    "The features are the following:\n",
    "\n",
    "| Column     | Description                                      | Type             |\n",
    "| :--------- | :----------------------------------------------- | :--------------- |\n",
    "| Actors     | Actors staring                                   |  list of strings |\n",
    "| Awards     | Awards received                                  |  string          |\n",
    "| Country    | Country of origin                                | list of strings  |\n",
    "| Director   | Director(s) of the movie                         | list of strings  |\n",
    "| Genre      | Genres (Action, ...)                             | list of strings  |\n",
    "| Language   | Language(s) spoken                               | list of strings  |\n",
    "| Rated      | Public rating (G = General, R = Restricted, ...) |  list of strings |\n",
    "| Released   | Date of the movie                                |  date            |\n",
    "| Title      | Title of the movie                               | string           |\n",
    "| imdbID     | IMDB id                                          | string           |\n",
    "| imdbRating | IMDB rating (between 0 and 10)                   |  float           |\n",
    "| Metascore  | Metacritic score (between 0 and 100)             | float            |\n",
    "| Box_office | Total money generated                            | float            |\n",
    "| imdbVotes  | Number of IMDB votes                             |  float           |\n",
    "| Runtime    |  Duration of the movie (in minutes)              | float            |\n",
    "| poster     |  Poster of the movie (jpg)                       |  binary string   |\n"
   ]
  },
  {
   "cell_type": "code",
   "execution_count": 959,
   "metadata": {},
   "outputs": [],
   "source": [
    "# Display the posters\n",
    "def get_poster(k, scale=1):\n",
    "    return Image(\n",
    "        value=catalogue.loc[k].poster,\n",
    "        format=\"jpg\",\n",
    "        width=130 * scale,\n",
    "        height=200 * scale,\n",
    "    )\n",
    "\n",
    "\n",
    "def display_posters(index=None, n_col=5, n_rows=4):\n",
    "    if index is None:\n",
    "        index = np.arange(len(catalogue))\n",
    "    if len(index):\n",
    "        n_rows = min(n_rows, int(np.ceil(len(index) / n_col)))\n",
    "        grid = GridspecLayout(n_rows, n_col)\n",
    "        k = 0\n",
    "        for i in range(n_rows):\n",
    "            for j in range(n_col):\n",
    "                if k < len(index):\n",
    "                    grid[i, j] = get_poster(index[k])\n",
    "                k += 1\n",
    "        return grid"
   ]
  },
  {
   "cell_type": "code",
   "execution_count": 960,
   "metadata": {},
   "outputs": [
    {
     "data": {
      "application/vnd.jupyter.widget-view+json": {
       "model_id": "8dc0d2027a3d4a9ab3f3b0b3aa0cfb46",
       "version_major": 2,
       "version_minor": 0
      },
      "text/plain": [
       "GridspecLayout(children=(Image(value=b'\\xff\\xd8\\xff\\xe0\\x00\\x10JFIF\\x00\\x01\\x01\\x00\\x00\\x01\\x00\\x01\\x00\\x00\\xf…"
      ]
     },
     "execution_count": 960,
     "metadata": {},
     "output_type": "execute_result"
    }
   ],
   "source": [
    "display_posters()"
   ]
  },
  {
   "cell_type": "markdown",
   "metadata": {},
   "source": [
    "## Features\n",
    "\n",
    "We will describe each movie by some features, for instance its genre.\n"
   ]
  },
  {
   "cell_type": "code",
   "execution_count": 961,
   "metadata": {},
   "outputs": [],
   "source": [
    "mlb = MultiLabelBinarizer()"
   ]
  },
  {
   "cell_type": "code",
   "execution_count": 962,
   "metadata": {},
   "outputs": [],
   "source": [
    "movies = pd.DataFrame(mlb.fit_transform(catalogue[\"Genre\"]), columns=mlb.classes_)"
   ]
  },
  {
   "cell_type": "code",
   "execution_count": 963,
   "metadata": {},
   "outputs": [
    {
     "data": {
      "text/html": [
       "<div>\n",
       "<style scoped>\n",
       "    .dataframe tbody tr th:only-of-type {\n",
       "        vertical-align: middle;\n",
       "    }\n",
       "\n",
       "    .dataframe tbody tr th {\n",
       "        vertical-align: top;\n",
       "    }\n",
       "\n",
       "    .dataframe thead th {\n",
       "        text-align: right;\n",
       "    }\n",
       "</style>\n",
       "<table border=\"1\" class=\"dataframe\">\n",
       "  <thead>\n",
       "    <tr style=\"text-align: right;\">\n",
       "      <th></th>\n",
       "      <th>Action</th>\n",
       "      <th>Adventure</th>\n",
       "      <th>Animation</th>\n",
       "      <th>Biography</th>\n",
       "      <th>Comedy</th>\n",
       "      <th>Crime</th>\n",
       "      <th>Documentary</th>\n",
       "      <th>Drama</th>\n",
       "      <th>Family</th>\n",
       "      <th>Fantasy</th>\n",
       "      <th>...</th>\n",
       "      <th>Horror</th>\n",
       "      <th>Music</th>\n",
       "      <th>Musical</th>\n",
       "      <th>Mystery</th>\n",
       "      <th>Romance</th>\n",
       "      <th>Sci-Fi</th>\n",
       "      <th>Sport</th>\n",
       "      <th>Thriller</th>\n",
       "      <th>War</th>\n",
       "      <th>Western</th>\n",
       "    </tr>\n",
       "  </thead>\n",
       "  <tbody>\n",
       "    <tr>\n",
       "      <th>0</th>\n",
       "      <td>1</td>\n",
       "      <td>1</td>\n",
       "      <td>0</td>\n",
       "      <td>0</td>\n",
       "      <td>0</td>\n",
       "      <td>0</td>\n",
       "      <td>0</td>\n",
       "      <td>0</td>\n",
       "      <td>0</td>\n",
       "      <td>1</td>\n",
       "      <td>...</td>\n",
       "      <td>0</td>\n",
       "      <td>0</td>\n",
       "      <td>0</td>\n",
       "      <td>0</td>\n",
       "      <td>0</td>\n",
       "      <td>0</td>\n",
       "      <td>0</td>\n",
       "      <td>0</td>\n",
       "      <td>0</td>\n",
       "      <td>0</td>\n",
       "    </tr>\n",
       "    <tr>\n",
       "      <th>1</th>\n",
       "      <td>0</td>\n",
       "      <td>0</td>\n",
       "      <td>0</td>\n",
       "      <td>0</td>\n",
       "      <td>1</td>\n",
       "      <td>0</td>\n",
       "      <td>0</td>\n",
       "      <td>0</td>\n",
       "      <td>0</td>\n",
       "      <td>0</td>\n",
       "      <td>...</td>\n",
       "      <td>0</td>\n",
       "      <td>0</td>\n",
       "      <td>0</td>\n",
       "      <td>0</td>\n",
       "      <td>0</td>\n",
       "      <td>0</td>\n",
       "      <td>0</td>\n",
       "      <td>0</td>\n",
       "      <td>0</td>\n",
       "      <td>0</td>\n",
       "    </tr>\n",
       "    <tr>\n",
       "      <th>2</th>\n",
       "      <td>1</td>\n",
       "      <td>0</td>\n",
       "      <td>0</td>\n",
       "      <td>0</td>\n",
       "      <td>1</td>\n",
       "      <td>1</td>\n",
       "      <td>0</td>\n",
       "      <td>0</td>\n",
       "      <td>0</td>\n",
       "      <td>0</td>\n",
       "      <td>...</td>\n",
       "      <td>0</td>\n",
       "      <td>0</td>\n",
       "      <td>0</td>\n",
       "      <td>0</td>\n",
       "      <td>0</td>\n",
       "      <td>0</td>\n",
       "      <td>0</td>\n",
       "      <td>0</td>\n",
       "      <td>0</td>\n",
       "      <td>0</td>\n",
       "    </tr>\n",
       "    <tr>\n",
       "      <th>3</th>\n",
       "      <td>0</td>\n",
       "      <td>0</td>\n",
       "      <td>0</td>\n",
       "      <td>0</td>\n",
       "      <td>0</td>\n",
       "      <td>0</td>\n",
       "      <td>0</td>\n",
       "      <td>1</td>\n",
       "      <td>0</td>\n",
       "      <td>0</td>\n",
       "      <td>...</td>\n",
       "      <td>1</td>\n",
       "      <td>0</td>\n",
       "      <td>0</td>\n",
       "      <td>0</td>\n",
       "      <td>0</td>\n",
       "      <td>0</td>\n",
       "      <td>0</td>\n",
       "      <td>0</td>\n",
       "      <td>0</td>\n",
       "      <td>0</td>\n",
       "    </tr>\n",
       "    <tr>\n",
       "      <th>4</th>\n",
       "      <td>0</td>\n",
       "      <td>0</td>\n",
       "      <td>0</td>\n",
       "      <td>1</td>\n",
       "      <td>0</td>\n",
       "      <td>0</td>\n",
       "      <td>0</td>\n",
       "      <td>1</td>\n",
       "      <td>0</td>\n",
       "      <td>0</td>\n",
       "      <td>...</td>\n",
       "      <td>0</td>\n",
       "      <td>0</td>\n",
       "      <td>0</td>\n",
       "      <td>0</td>\n",
       "      <td>0</td>\n",
       "      <td>0</td>\n",
       "      <td>0</td>\n",
       "      <td>0</td>\n",
       "      <td>0</td>\n",
       "      <td>0</td>\n",
       "    </tr>\n",
       "  </tbody>\n",
       "</table>\n",
       "<p>5 rows × 21 columns</p>\n",
       "</div>"
      ],
      "text/plain": [
       "   Action  Adventure  Animation  Biography  Comedy  Crime  Documentary  Drama  \\\n",
       "0       1          1          0          0       0      0            0      0   \n",
       "1       0          0          0          0       1      0            0      0   \n",
       "2       1          0          0          0       1      1            0      0   \n",
       "3       0          0          0          0       0      0            0      1   \n",
       "4       0          0          0          1       0      0            0      1   \n",
       "\n",
       "   Family  Fantasy  ...  Horror  Music  Musical  Mystery  Romance  Sci-Fi  \\\n",
       "0       0        1  ...       0      0        0        0        0       0   \n",
       "1       0        0  ...       0      0        0        0        0       0   \n",
       "2       0        0  ...       0      0        0        0        0       0   \n",
       "3       0        0  ...       1      0        0        0        0       0   \n",
       "4       0        0  ...       0      0        0        0        0       0   \n",
       "\n",
       "   Sport  Thriller  War  Western  \n",
       "0      0         0    0        0  \n",
       "1      0         0    0        0  \n",
       "2      0         0    0        0  \n",
       "3      0         0    0        0  \n",
       "4      0         0    0        0  \n",
       "\n",
       "[5 rows x 21 columns]"
      ]
     },
     "execution_count": 963,
     "metadata": {},
     "output_type": "execute_result"
    }
   ],
   "source": [
    "movies.head()"
   ]
  },
  {
   "cell_type": "code",
   "execution_count": 964,
   "metadata": {},
   "outputs": [
    {
     "data": {
      "text/plain": [
       "Index(['Action', 'Adventure', 'Animation', 'Biography', 'Comedy', 'Crime',\n",
       "       'Documentary', 'Drama', 'Family', 'Fantasy', 'History', 'Horror',\n",
       "       'Music', 'Musical', 'Mystery', 'Romance', 'Sci-Fi', 'Sport', 'Thriller',\n",
       "       'War', 'Western'],\n",
       "      dtype='object')"
      ]
     },
     "execution_count": 964,
     "metadata": {},
     "output_type": "execute_result"
    }
   ],
   "source": [
    "movies.columns"
   ]
  },
  {
   "cell_type": "markdown",
   "metadata": {},
   "source": [
    "## User\n",
    "\n",
    "Each user will be modeled by a vector of weights (positive or negative) on each feature.\n"
   ]
  },
  {
   "cell_type": "code",
   "execution_count": 965,
   "metadata": {},
   "outputs": [],
   "source": [
    "user = pd.DataFrame(0, index=[0], columns=movies.columns)\n",
    "user[\"Action\"] = 2\n",
    "user[\"Crime\"] = 1\n",
    "user[\"Sci-Fi\"] = -2"
   ]
  },
  {
   "cell_type": "markdown",
   "metadata": {},
   "source": [
    "## To do\n",
    "\n",
    "- Display the favorite movies of this user.\n",
    "- Test another user, and quantify their similarity (e.g., proportion of common top-100 movies).\n"
   ]
  },
  {
   "cell_type": "code",
   "execution_count": 966,
   "metadata": {},
   "outputs": [
    {
     "data": {
      "application/vnd.jupyter.widget-view+json": {
       "model_id": "14cc1f5589164819897e0c7354638e01",
       "version_major": 2,
       "version_minor": 0
      },
      "text/plain": [
       "GridspecLayout(children=(Image(value=b'\\xff\\xd8\\xff\\xe0\\x00\\x10JFIF\\x00\\x01\\x01\\x00\\x00\\x01\\x00\\x01\\x00\\x00\\xf…"
      ]
     },
     "execution_count": 966,
     "metadata": {},
     "output_type": "execute_result"
    }
   ],
   "source": [
    "preferences = (movies.dot(user.T)).sort_values(0, ascending=False)\n",
    "display_posters(preferences.index)"
   ]
  },
  {
   "cell_type": "code",
   "execution_count": 967,
   "metadata": {},
   "outputs": [],
   "source": [
    "user2 = pd.DataFrame(0, index=[0], columns=movies.columns)\n",
    "user2[\"Action\"] = 3\n",
    "user2[\"Fantasy\"] = -2"
   ]
  },
  {
   "cell_type": "code",
   "execution_count": 968,
   "metadata": {},
   "outputs": [],
   "source": [
    "def compute_user_similarity(user1, user2):\n",
    "    preferences1 = (movies.dot(user1.T)).sort_values(0, ascending=False)[:100]\n",
    "    preferences2 = (movies.dot(user2.T)).sort_values(0, ascending=False)[:100]\n",
    "\n",
    "    common_movies = preferences1.index.intersection(preferences2.index)\n",
    "    return len(common_movies) / 100"
   ]
  },
  {
   "cell_type": "code",
   "execution_count": 969,
   "metadata": {},
   "outputs": [
    {
     "name": "stdout",
     "output_type": "stream",
     "text": [
      "Proportion of top-100 movies in common: 0.31\n"
     ]
    }
   ],
   "source": [
    "print(f\"Proportion of top-100 movies in common: {compute_user_similarity(user, user2)}\")"
   ]
  },
  {
   "cell_type": "markdown",
   "metadata": {},
   "source": [
    "## Offline learning\n",
    "\n",
    "We start with offline learning. There are 2 steps:\n",
    "\n",
    "1. Collect the user's opinion on a few movies (e.g., 10)\n",
    "2. Rank the other movies by logistic regression.\n",
    "\n",
    "Let's test that.\n"
   ]
  },
  {
   "cell_type": "code",
   "execution_count": 970,
   "metadata": {},
   "outputs": [],
   "source": [
    "# Add a column to record the user's opinion (like / dislike)\n",
    "movies = movies.assign(like=None)"
   ]
  },
  {
   "cell_type": "code",
   "execution_count": 971,
   "metadata": {},
   "outputs": [],
   "source": [
    "# Select a random movie (not yet seen by the user)\n",
    "def select_random_movie():\n",
    "    index = np.flatnonzero(movies.like.isna())\n",
    "    if len(index):\n",
    "        return np.random.choice(index)\n",
    "    else:\n",
    "        return np.random.choice(len(movies))"
   ]
  },
  {
   "cell_type": "code",
   "execution_count": 972,
   "metadata": {},
   "outputs": [],
   "source": [
    "# Create buttons\n",
    "def create_expanded_button(description, button_style):\n",
    "    return Button(description=description, button_style=button_style, layout=Layout())\n",
    "\n",
    "\n",
    "def update_likes(button):\n",
    "    global movie_id\n",
    "    movies.loc[movie_id, \"like\"] = button.description == \"like\"\n",
    "\n",
    "\n",
    "def update_poster():\n",
    "    global movie_id\n",
    "    img.value = catalogue.loc[movie_id].poster\n",
    "\n",
    "\n",
    "def on_button_clicked(button):\n",
    "    global movie_id\n",
    "    update_likes(button)\n",
    "    movie_id = select_random_movie()\n",
    "    update_poster()"
   ]
  },
  {
   "cell_type": "code",
   "execution_count": 973,
   "metadata": {
    "scrolled": true
   },
   "outputs": [
    {
     "data": {
      "application/vnd.jupyter.widget-view+json": {
       "model_id": "68847eef2be2423abbb7f62999453b67",
       "version_major": 2,
       "version_minor": 0
      },
      "text/plain": [
       "AppLayout(children=(Button(button_style='success', description='like', layout=Layout(grid_area='left-sidebar')…"
      ]
     },
     "execution_count": 973,
     "metadata": {},
     "output_type": "execute_result"
    }
   ],
   "source": [
    "# Setting the buttons\n",
    "left_button = create_expanded_button(\"like\", \"success\")\n",
    "right_button = create_expanded_button(\"dislike\", \"danger\")\n",
    "left_button.on_click(on_button_clicked)\n",
    "right_button.on_click(on_button_clicked)\n",
    "\n",
    "# Setting the movie poster\n",
    "movie_id = select_random_movie()\n",
    "img = get_poster(movie_id, scale=1.5)\n",
    "\n",
    "# Display\n",
    "AppLayout(\n",
    "    left_sidebar=left_button,\n",
    "    right_sidebar=right_button,\n",
    "    center=img,\n",
    "    pane_widths=[0.3, 0.4, 0.3],\n",
    ")"
   ]
  },
  {
   "cell_type": "markdown",
   "metadata": {},
   "source": [
    "## To do\n",
    "\n",
    "- Give your opinion on some movies (e.g., 10), making sure that you get a few likes and a few dislikes.\n",
    "- Apply logistic regression and display the other movies in order of preference (top movies first).\n",
    "- Give your top-3 and bottom-3 genres, as predicted by the model.\n"
   ]
  },
  {
   "cell_type": "code",
   "execution_count": 974,
   "metadata": {},
   "outputs": [],
   "source": [
    "# likes\n",
    "likes = np.flatnonzero(movies.like == True)\n",
    "display_posters(likes)"
   ]
  },
  {
   "cell_type": "code",
   "execution_count": 975,
   "metadata": {},
   "outputs": [],
   "source": [
    "# dislikes\n",
    "dislikes = np.flatnonzero(movies.like == False)\n",
    "display_posters(dislikes)"
   ]
  },
  {
   "cell_type": "markdown",
   "metadata": {},
   "source": [
    "We first fit the logistic regression model on the training set (e.g. the movies we liked/disliked).\n",
    "\n",
    "Then we predict the probability of liking each (not yet rated) movie and sort them by decreasing probability.\n"
   ]
  },
  {
   "cell_type": "code",
   "execution_count": 976,
   "metadata": {},
   "outputs": [
    {
     "data": {
      "text/html": [
       "<style>#sk-container-id-24 {\n",
       "  /* Definition of color scheme common for light and dark mode */\n",
       "  --sklearn-color-text: #000;\n",
       "  --sklearn-color-text-muted: #666;\n",
       "  --sklearn-color-line: gray;\n",
       "  /* Definition of color scheme for unfitted estimators */\n",
       "  --sklearn-color-unfitted-level-0: #fff5e6;\n",
       "  --sklearn-color-unfitted-level-1: #f6e4d2;\n",
       "  --sklearn-color-unfitted-level-2: #ffe0b3;\n",
       "  --sklearn-color-unfitted-level-3: chocolate;\n",
       "  /* Definition of color scheme for fitted estimators */\n",
       "  --sklearn-color-fitted-level-0: #f0f8ff;\n",
       "  --sklearn-color-fitted-level-1: #d4ebff;\n",
       "  --sklearn-color-fitted-level-2: #b3dbfd;\n",
       "  --sklearn-color-fitted-level-3: cornflowerblue;\n",
       "\n",
       "  /* Specific color for light theme */\n",
       "  --sklearn-color-text-on-default-background: var(--sg-text-color, var(--theme-code-foreground, var(--jp-content-font-color1, black)));\n",
       "  --sklearn-color-background: var(--sg-background-color, var(--theme-background, var(--jp-layout-color0, white)));\n",
       "  --sklearn-color-border-box: var(--sg-text-color, var(--theme-code-foreground, var(--jp-content-font-color1, black)));\n",
       "  --sklearn-color-icon: #696969;\n",
       "\n",
       "  @media (prefers-color-scheme: dark) {\n",
       "    /* Redefinition of color scheme for dark theme */\n",
       "    --sklearn-color-text-on-default-background: var(--sg-text-color, var(--theme-code-foreground, var(--jp-content-font-color1, white)));\n",
       "    --sklearn-color-background: var(--sg-background-color, var(--theme-background, var(--jp-layout-color0, #111)));\n",
       "    --sklearn-color-border-box: var(--sg-text-color, var(--theme-code-foreground, var(--jp-content-font-color1, white)));\n",
       "    --sklearn-color-icon: #878787;\n",
       "  }\n",
       "}\n",
       "\n",
       "#sk-container-id-24 {\n",
       "  color: var(--sklearn-color-text);\n",
       "}\n",
       "\n",
       "#sk-container-id-24 pre {\n",
       "  padding: 0;\n",
       "}\n",
       "\n",
       "#sk-container-id-24 input.sk-hidden--visually {\n",
       "  border: 0;\n",
       "  clip: rect(1px 1px 1px 1px);\n",
       "  clip: rect(1px, 1px, 1px, 1px);\n",
       "  height: 1px;\n",
       "  margin: -1px;\n",
       "  overflow: hidden;\n",
       "  padding: 0;\n",
       "  position: absolute;\n",
       "  width: 1px;\n",
       "}\n",
       "\n",
       "#sk-container-id-24 div.sk-dashed-wrapped {\n",
       "  border: 1px dashed var(--sklearn-color-line);\n",
       "  margin: 0 0.4em 0.5em 0.4em;\n",
       "  box-sizing: border-box;\n",
       "  padding-bottom: 0.4em;\n",
       "  background-color: var(--sklearn-color-background);\n",
       "}\n",
       "\n",
       "#sk-container-id-24 div.sk-container {\n",
       "  /* jupyter's `normalize.less` sets `[hidden] { display: none; }`\n",
       "     but bootstrap.min.css set `[hidden] { display: none !important; }`\n",
       "     so we also need the `!important` here to be able to override the\n",
       "     default hidden behavior on the sphinx rendered scikit-learn.org.\n",
       "     See: https://github.com/scikit-learn/scikit-learn/issues/21755 */\n",
       "  display: inline-block !important;\n",
       "  position: relative;\n",
       "}\n",
       "\n",
       "#sk-container-id-24 div.sk-text-repr-fallback {\n",
       "  display: none;\n",
       "}\n",
       "\n",
       "div.sk-parallel-item,\n",
       "div.sk-serial,\n",
       "div.sk-item {\n",
       "  /* draw centered vertical line to link estimators */\n",
       "  background-image: linear-gradient(var(--sklearn-color-text-on-default-background), var(--sklearn-color-text-on-default-background));\n",
       "  background-size: 2px 100%;\n",
       "  background-repeat: no-repeat;\n",
       "  background-position: center center;\n",
       "}\n",
       "\n",
       "/* Parallel-specific style estimator block */\n",
       "\n",
       "#sk-container-id-24 div.sk-parallel-item::after {\n",
       "  content: \"\";\n",
       "  width: 100%;\n",
       "  border-bottom: 2px solid var(--sklearn-color-text-on-default-background);\n",
       "  flex-grow: 1;\n",
       "}\n",
       "\n",
       "#sk-container-id-24 div.sk-parallel {\n",
       "  display: flex;\n",
       "  align-items: stretch;\n",
       "  justify-content: center;\n",
       "  background-color: var(--sklearn-color-background);\n",
       "  position: relative;\n",
       "}\n",
       "\n",
       "#sk-container-id-24 div.sk-parallel-item {\n",
       "  display: flex;\n",
       "  flex-direction: column;\n",
       "}\n",
       "\n",
       "#sk-container-id-24 div.sk-parallel-item:first-child::after {\n",
       "  align-self: flex-end;\n",
       "  width: 50%;\n",
       "}\n",
       "\n",
       "#sk-container-id-24 div.sk-parallel-item:last-child::after {\n",
       "  align-self: flex-start;\n",
       "  width: 50%;\n",
       "}\n",
       "\n",
       "#sk-container-id-24 div.sk-parallel-item:only-child::after {\n",
       "  width: 0;\n",
       "}\n",
       "\n",
       "/* Serial-specific style estimator block */\n",
       "\n",
       "#sk-container-id-24 div.sk-serial {\n",
       "  display: flex;\n",
       "  flex-direction: column;\n",
       "  align-items: center;\n",
       "  background-color: var(--sklearn-color-background);\n",
       "  padding-right: 1em;\n",
       "  padding-left: 1em;\n",
       "}\n",
       "\n",
       "\n",
       "/* Toggleable style: style used for estimator/Pipeline/ColumnTransformer box that is\n",
       "clickable and can be expanded/collapsed.\n",
       "- Pipeline and ColumnTransformer use this feature and define the default style\n",
       "- Estimators will overwrite some part of the style using the `sk-estimator` class\n",
       "*/\n",
       "\n",
       "/* Pipeline and ColumnTransformer style (default) */\n",
       "\n",
       "#sk-container-id-24 div.sk-toggleable {\n",
       "  /* Default theme specific background. It is overwritten whether we have a\n",
       "  specific estimator or a Pipeline/ColumnTransformer */\n",
       "  background-color: var(--sklearn-color-background);\n",
       "}\n",
       "\n",
       "/* Toggleable label */\n",
       "#sk-container-id-24 label.sk-toggleable__label {\n",
       "  cursor: pointer;\n",
       "  display: flex;\n",
       "  width: 100%;\n",
       "  margin-bottom: 0;\n",
       "  padding: 0.5em;\n",
       "  box-sizing: border-box;\n",
       "  text-align: center;\n",
       "  align-items: start;\n",
       "  justify-content: space-between;\n",
       "  gap: 0.5em;\n",
       "}\n",
       "\n",
       "#sk-container-id-24 label.sk-toggleable__label .caption {\n",
       "  font-size: 0.6rem;\n",
       "  font-weight: lighter;\n",
       "  color: var(--sklearn-color-text-muted);\n",
       "}\n",
       "\n",
       "#sk-container-id-24 label.sk-toggleable__label-arrow:before {\n",
       "  /* Arrow on the left of the label */\n",
       "  content: \"▸\";\n",
       "  float: left;\n",
       "  margin-right: 0.25em;\n",
       "  color: var(--sklearn-color-icon);\n",
       "}\n",
       "\n",
       "#sk-container-id-24 label.sk-toggleable__label-arrow:hover:before {\n",
       "  color: var(--sklearn-color-text);\n",
       "}\n",
       "\n",
       "/* Toggleable content - dropdown */\n",
       "\n",
       "#sk-container-id-24 div.sk-toggleable__content {\n",
       "  max-height: 0;\n",
       "  max-width: 0;\n",
       "  overflow: hidden;\n",
       "  text-align: left;\n",
       "  /* unfitted */\n",
       "  background-color: var(--sklearn-color-unfitted-level-0);\n",
       "}\n",
       "\n",
       "#sk-container-id-24 div.sk-toggleable__content.fitted {\n",
       "  /* fitted */\n",
       "  background-color: var(--sklearn-color-fitted-level-0);\n",
       "}\n",
       "\n",
       "#sk-container-id-24 div.sk-toggleable__content pre {\n",
       "  margin: 0.2em;\n",
       "  border-radius: 0.25em;\n",
       "  color: var(--sklearn-color-text);\n",
       "  /* unfitted */\n",
       "  background-color: var(--sklearn-color-unfitted-level-0);\n",
       "}\n",
       "\n",
       "#sk-container-id-24 div.sk-toggleable__content.fitted pre {\n",
       "  /* unfitted */\n",
       "  background-color: var(--sklearn-color-fitted-level-0);\n",
       "}\n",
       "\n",
       "#sk-container-id-24 input.sk-toggleable__control:checked~div.sk-toggleable__content {\n",
       "  /* Expand drop-down */\n",
       "  max-height: 200px;\n",
       "  max-width: 100%;\n",
       "  overflow: auto;\n",
       "}\n",
       "\n",
       "#sk-container-id-24 input.sk-toggleable__control:checked~label.sk-toggleable__label-arrow:before {\n",
       "  content: \"▾\";\n",
       "}\n",
       "\n",
       "/* Pipeline/ColumnTransformer-specific style */\n",
       "\n",
       "#sk-container-id-24 div.sk-label input.sk-toggleable__control:checked~label.sk-toggleable__label {\n",
       "  color: var(--sklearn-color-text);\n",
       "  background-color: var(--sklearn-color-unfitted-level-2);\n",
       "}\n",
       "\n",
       "#sk-container-id-24 div.sk-label.fitted input.sk-toggleable__control:checked~label.sk-toggleable__label {\n",
       "  background-color: var(--sklearn-color-fitted-level-2);\n",
       "}\n",
       "\n",
       "/* Estimator-specific style */\n",
       "\n",
       "/* Colorize estimator box */\n",
       "#sk-container-id-24 div.sk-estimator input.sk-toggleable__control:checked~label.sk-toggleable__label {\n",
       "  /* unfitted */\n",
       "  background-color: var(--sklearn-color-unfitted-level-2);\n",
       "}\n",
       "\n",
       "#sk-container-id-24 div.sk-estimator.fitted input.sk-toggleable__control:checked~label.sk-toggleable__label {\n",
       "  /* fitted */\n",
       "  background-color: var(--sklearn-color-fitted-level-2);\n",
       "}\n",
       "\n",
       "#sk-container-id-24 div.sk-label label.sk-toggleable__label,\n",
       "#sk-container-id-24 div.sk-label label {\n",
       "  /* The background is the default theme color */\n",
       "  color: var(--sklearn-color-text-on-default-background);\n",
       "}\n",
       "\n",
       "/* On hover, darken the color of the background */\n",
       "#sk-container-id-24 div.sk-label:hover label.sk-toggleable__label {\n",
       "  color: var(--sklearn-color-text);\n",
       "  background-color: var(--sklearn-color-unfitted-level-2);\n",
       "}\n",
       "\n",
       "/* Label box, darken color on hover, fitted */\n",
       "#sk-container-id-24 div.sk-label.fitted:hover label.sk-toggleable__label.fitted {\n",
       "  color: var(--sklearn-color-text);\n",
       "  background-color: var(--sklearn-color-fitted-level-2);\n",
       "}\n",
       "\n",
       "/* Estimator label */\n",
       "\n",
       "#sk-container-id-24 div.sk-label label {\n",
       "  font-family: monospace;\n",
       "  font-weight: bold;\n",
       "  display: inline-block;\n",
       "  line-height: 1.2em;\n",
       "}\n",
       "\n",
       "#sk-container-id-24 div.sk-label-container {\n",
       "  text-align: center;\n",
       "}\n",
       "\n",
       "/* Estimator-specific */\n",
       "#sk-container-id-24 div.sk-estimator {\n",
       "  font-family: monospace;\n",
       "  border: 1px dotted var(--sklearn-color-border-box);\n",
       "  border-radius: 0.25em;\n",
       "  box-sizing: border-box;\n",
       "  margin-bottom: 0.5em;\n",
       "  /* unfitted */\n",
       "  background-color: var(--sklearn-color-unfitted-level-0);\n",
       "}\n",
       "\n",
       "#sk-container-id-24 div.sk-estimator.fitted {\n",
       "  /* fitted */\n",
       "  background-color: var(--sklearn-color-fitted-level-0);\n",
       "}\n",
       "\n",
       "/* on hover */\n",
       "#sk-container-id-24 div.sk-estimator:hover {\n",
       "  /* unfitted */\n",
       "  background-color: var(--sklearn-color-unfitted-level-2);\n",
       "}\n",
       "\n",
       "#sk-container-id-24 div.sk-estimator.fitted:hover {\n",
       "  /* fitted */\n",
       "  background-color: var(--sklearn-color-fitted-level-2);\n",
       "}\n",
       "\n",
       "/* Specification for estimator info (e.g. \"i\" and \"?\") */\n",
       "\n",
       "/* Common style for \"i\" and \"?\" */\n",
       "\n",
       ".sk-estimator-doc-link,\n",
       "a:link.sk-estimator-doc-link,\n",
       "a:visited.sk-estimator-doc-link {\n",
       "  float: right;\n",
       "  font-size: smaller;\n",
       "  line-height: 1em;\n",
       "  font-family: monospace;\n",
       "  background-color: var(--sklearn-color-background);\n",
       "  border-radius: 1em;\n",
       "  height: 1em;\n",
       "  width: 1em;\n",
       "  text-decoration: none !important;\n",
       "  margin-left: 0.5em;\n",
       "  text-align: center;\n",
       "  /* unfitted */\n",
       "  border: var(--sklearn-color-unfitted-level-1) 1pt solid;\n",
       "  color: var(--sklearn-color-unfitted-level-1);\n",
       "}\n",
       "\n",
       ".sk-estimator-doc-link.fitted,\n",
       "a:link.sk-estimator-doc-link.fitted,\n",
       "a:visited.sk-estimator-doc-link.fitted {\n",
       "  /* fitted */\n",
       "  border: var(--sklearn-color-fitted-level-1) 1pt solid;\n",
       "  color: var(--sklearn-color-fitted-level-1);\n",
       "}\n",
       "\n",
       "/* On hover */\n",
       "div.sk-estimator:hover .sk-estimator-doc-link:hover,\n",
       ".sk-estimator-doc-link:hover,\n",
       "div.sk-label-container:hover .sk-estimator-doc-link:hover,\n",
       ".sk-estimator-doc-link:hover {\n",
       "  /* unfitted */\n",
       "  background-color: var(--sklearn-color-unfitted-level-3);\n",
       "  color: var(--sklearn-color-background);\n",
       "  text-decoration: none;\n",
       "}\n",
       "\n",
       "div.sk-estimator.fitted:hover .sk-estimator-doc-link.fitted:hover,\n",
       ".sk-estimator-doc-link.fitted:hover,\n",
       "div.sk-label-container:hover .sk-estimator-doc-link.fitted:hover,\n",
       ".sk-estimator-doc-link.fitted:hover {\n",
       "  /* fitted */\n",
       "  background-color: var(--sklearn-color-fitted-level-3);\n",
       "  color: var(--sklearn-color-background);\n",
       "  text-decoration: none;\n",
       "}\n",
       "\n",
       "/* Span, style for the box shown on hovering the info icon */\n",
       ".sk-estimator-doc-link span {\n",
       "  display: none;\n",
       "  z-index: 9999;\n",
       "  position: relative;\n",
       "  font-weight: normal;\n",
       "  right: .2ex;\n",
       "  padding: .5ex;\n",
       "  margin: .5ex;\n",
       "  width: min-content;\n",
       "  min-width: 20ex;\n",
       "  max-width: 50ex;\n",
       "  color: var(--sklearn-color-text);\n",
       "  box-shadow: 2pt 2pt 4pt #999;\n",
       "  /* unfitted */\n",
       "  background: var(--sklearn-color-unfitted-level-0);\n",
       "  border: .5pt solid var(--sklearn-color-unfitted-level-3);\n",
       "}\n",
       "\n",
       ".sk-estimator-doc-link.fitted span {\n",
       "  /* fitted */\n",
       "  background: var(--sklearn-color-fitted-level-0);\n",
       "  border: var(--sklearn-color-fitted-level-3);\n",
       "}\n",
       "\n",
       ".sk-estimator-doc-link:hover span {\n",
       "  display: block;\n",
       "}\n",
       "\n",
       "/* \"?\"-specific style due to the `<a>` HTML tag */\n",
       "\n",
       "#sk-container-id-24 a.estimator_doc_link {\n",
       "  float: right;\n",
       "  font-size: 1rem;\n",
       "  line-height: 1em;\n",
       "  font-family: monospace;\n",
       "  background-color: var(--sklearn-color-background);\n",
       "  border-radius: 1rem;\n",
       "  height: 1rem;\n",
       "  width: 1rem;\n",
       "  text-decoration: none;\n",
       "  /* unfitted */\n",
       "  color: var(--sklearn-color-unfitted-level-1);\n",
       "  border: var(--sklearn-color-unfitted-level-1) 1pt solid;\n",
       "}\n",
       "\n",
       "#sk-container-id-24 a.estimator_doc_link.fitted {\n",
       "  /* fitted */\n",
       "  border: var(--sklearn-color-fitted-level-1) 1pt solid;\n",
       "  color: var(--sklearn-color-fitted-level-1);\n",
       "}\n",
       "\n",
       "/* On hover */\n",
       "#sk-container-id-24 a.estimator_doc_link:hover {\n",
       "  /* unfitted */\n",
       "  background-color: var(--sklearn-color-unfitted-level-3);\n",
       "  color: var(--sklearn-color-background);\n",
       "  text-decoration: none;\n",
       "}\n",
       "\n",
       "#sk-container-id-24 a.estimator_doc_link.fitted:hover {\n",
       "  /* fitted */\n",
       "  background-color: var(--sklearn-color-fitted-level-3);\n",
       "}\n",
       "</style><div id=\"sk-container-id-24\" class=\"sk-top-container\"><div class=\"sk-text-repr-fallback\"><pre>LogisticRegression(fit_intercept=False)</pre><b>In a Jupyter environment, please rerun this cell to show the HTML representation or trust the notebook. <br />On GitHub, the HTML representation is unable to render, please try loading this page with nbviewer.org.</b></div><div class=\"sk-container\" hidden><div class=\"sk-item\"><div class=\"sk-estimator fitted sk-toggleable\"><input class=\"sk-toggleable__control sk-hidden--visually\" id=\"sk-estimator-id-24\" type=\"checkbox\" checked><label for=\"sk-estimator-id-24\" class=\"sk-toggleable__label fitted sk-toggleable__label-arrow\"><div><div>LogisticRegression</div></div><div><a class=\"sk-estimator-doc-link fitted\" rel=\"noreferrer\" target=\"_blank\" href=\"https://scikit-learn.org/1.6/modules/generated/sklearn.linear_model.LogisticRegression.html\">?<span>Documentation for LogisticRegression</span></a><span class=\"sk-estimator-doc-link fitted\">i<span>Fitted</span></span></div></label><div class=\"sk-toggleable__content fitted\"><pre>LogisticRegression(fit_intercept=False)</pre></div> </div></div></div></div>"
      ],
      "text/plain": [
       "LogisticRegression(fit_intercept=False)"
      ]
     },
     "execution_count": 976,
     "metadata": {},
     "output_type": "execute_result"
    }
   ],
   "source": [
    "model = LogisticRegression(fit_intercept=False)\n",
    "\n",
    "# we hard code the user's preferences\n",
    "for i, idx in enumerate(np.random.choice(len(movies), 20)):\n",
    "    movies.loc[idx, \"like\"] = True if i % 2 == 0 else False\n",
    "\n",
    "y = (movies.like[~movies.like.isna()]).astype(int)\n",
    "X = movies.drop(columns=\"like\")[~movies.like.isna()]\n",
    "model.fit(X, y)"
   ]
  },
  {
   "cell_type": "code",
   "execution_count": 977,
   "metadata": {},
   "outputs": [
    {
     "data": {
      "application/vnd.jupyter.widget-view+json": {
       "model_id": "0ad3e3aed5d24f249835b0abd69e0ef4",
       "version_major": 2,
       "version_minor": 0
      },
      "text/plain": [
       "GridspecLayout(children=(Image(value=b'\\xff\\xd8\\xff\\xe0\\x00\\x10JFIF\\x00\\x01\\x01\\x00\\x00\\x01\\x00\\x01\\x00\\x00\\xf…"
      ]
     },
     "execution_count": 977,
     "metadata": {},
     "output_type": "execute_result"
    }
   ],
   "source": [
    "recommendations = model.predict_proba(movies.drop(columns=\"like\"))[:, 1]\n",
    "recommendations = pd.Series(recommendations, index=movies.index).sort_values(\n",
    "    ascending=False\n",
    ")\n",
    "display_posters(recommendations.index)"
   ]
  },
  {
   "cell_type": "code",
   "execution_count": 978,
   "metadata": {},
   "outputs": [
    {
     "name": "stdout",
     "output_type": "stream",
     "text": [
      "Top-3 genres predicted by the model: ['Drama' 'Romance' 'Family']\n",
      "Bottom-3 genres predicted by the model: ['Thriller' 'Action' 'Mystery']\n"
     ]
    }
   ],
   "source": [
    "# top 3 and bottom 3 genres\n",
    "model_genres = model.coef_[0]\n",
    "top_3 = (-model_genres).argsort()[:3]\n",
    "bottom_3 = model_genres.argsort()[:3]\n",
    "\n",
    "print(f\"Top-3 genres predicted by the model: {movies.columns[top_3].values}\")\n",
    "print(f\"Bottom-3 genres predicted by the model: {movies.columns[bottom_3].values}\")"
   ]
  },
  {
   "cell_type": "markdown",
   "metadata": {},
   "source": [
    "## Online learning\n"
   ]
  },
  {
   "cell_type": "markdown",
   "metadata": {},
   "source": [
    "We now learn the user preferences online, as they come. For that, we use a Bayesian algorithm inspired by Thompson sampling.\n",
    "\n",
    "On each feedback provided by the user:\n",
    "\n",
    "1. (Learning) The parameter (vector of weights) is learned.\n",
    "2. (Sampling) A new parameter is sampled, assuming a Gaussian distribution.\n",
    "3. (Action) The top movie for this new parameter, among movies not yet seen by the user, is proposed.\n",
    "\n",
    "Note that:\n",
    "\n",
    "- In step 1, we retrain the estimator **from scratch**, using logistic regression on all training data samples (**no** online estimation).\n",
    "- In step 2, we discard correlations (**diagonal** covariance matrix).\n"
   ]
  },
  {
   "cell_type": "markdown",
   "metadata": {},
   "source": [
    "## To do\n",
    "\n",
    "- Complete the function `select_bayes` below.\n",
    "- Test it on some movies (e.g., 10), until you get a few likes and a few dislikes.\n",
    "- Display the other movies in order of preference (top movies first).\n"
   ]
  },
  {
   "cell_type": "code",
   "execution_count": 979,
   "metadata": {},
   "outputs": [],
   "source": [
    "model = LogisticRegression(fit_intercept=False)"
   ]
  },
  {
   "cell_type": "code",
   "execution_count": 980,
   "metadata": {},
   "outputs": [],
   "source": [
    "def select_bayes(movies, model):\n",
    "    if set(movies.like) == {True, False, None}:\n",
    "        # to be completed (learning, sampling, action)\n",
    "\n",
    "        # 1. Learning\n",
    "        y = np.array((movies.like[~movies.like.isna()]).astype(int))\n",
    "        X = np.array(movies.drop(columns=\"like\")[~movies.like.isna()])\n",
    "        model.fit(X, y)\n",
    "\n",
    "        # 2. Sampling\n",
    "        mu = model.coef_.flatten()\n",
    "        probabilities = np.array(model.predict_proba(X)[:, 1])\n",
    "        W = np.diag(probabilities * (1 - probabilities))\n",
    "        Hessian = (X.T @ W @ X) + np.eye(X.shape[1])  # H = X.T*W*X + I*lambda\n",
    "        cov = np.linalg.inv(Hessian)\n",
    "        cov = np.diag(np.diag(cov))\n",
    "\n",
    "        new_weights = np.random.multivariate_normal(mu, cov)\n",
    "\n",
    "        # 3. Action\n",
    "        unseen_movies = movies[movies.like.isna()]\n",
    "        X_unseen = unseen_movies.drop(columns=\"like\")\n",
    "\n",
    "        scores = X_unseen @ new_weights\n",
    "        recommended_index = np.argmax(scores)\n",
    "\n",
    "        return recommended_index\n",
    "    else:\n",
    "        return select_random_movie()"
   ]
  },
  {
   "cell_type": "code",
   "execution_count": 981,
   "metadata": {},
   "outputs": [],
   "source": [
    "# reset\n",
    "movies = movies.assign(like=None)"
   ]
  },
  {
   "cell_type": "code",
   "execution_count": 982,
   "metadata": {},
   "outputs": [],
   "source": [
    "def on_button_clicked(button):\n",
    "    global movie_id\n",
    "    update_likes(button)\n",
    "    movie_id = select_bayes(movies, model)\n",
    "    update_poster()"
   ]
  },
  {
   "cell_type": "code",
   "execution_count": 983,
   "metadata": {
    "scrolled": false
   },
   "outputs": [
    {
     "data": {
      "application/vnd.jupyter.widget-view+json": {
       "model_id": "0aa8b9e7342d4aee922001c70f2f4596",
       "version_major": 2,
       "version_minor": 0
      },
      "text/plain": [
       "AppLayout(children=(Button(button_style='success', description='like', layout=Layout(grid_area='left-sidebar')…"
      ]
     },
     "execution_count": 983,
     "metadata": {},
     "output_type": "execute_result"
    }
   ],
   "source": [
    "# Setting the buttons\n",
    "left_button = create_expanded_button(\"like\", \"success\")\n",
    "right_button = create_expanded_button(\"dislike\", \"danger\")\n",
    "left_button.on_click(on_button_clicked)\n",
    "right_button.on_click(on_button_clicked)\n",
    "\n",
    "# Setting the movie poster\n",
    "movie_id = select_random_movie()\n",
    "img = get_poster(movie_id, scale=1.5)\n",
    "\n",
    "# Display\n",
    "AppLayout(\n",
    "    left_sidebar=left_button,\n",
    "    right_sidebar=right_button,\n",
    "    center=img,\n",
    "    pane_widths=[0.3, 0.4, 0.3],\n",
    ")"
   ]
  },
  {
   "cell_type": "code",
   "execution_count": 984,
   "metadata": {},
   "outputs": [
    {
     "data": {
      "application/vnd.jupyter.widget-view+json": {
       "model_id": "b316adc00c7a4132abdd89de1a4723c1",
       "version_major": 2,
       "version_minor": 0
      },
      "text/plain": [
       "GridspecLayout(children=(Image(value=b'\\xff\\xd8\\xff\\xe0\\x00\\x10JFIF\\x00\\x01\\x01\\x00\\x00\\x01\\x00\\x01\\x00\\x00\\xf…"
      ]
     },
     "execution_count": 984,
     "metadata": {},
     "output_type": "execute_result"
    }
   ],
   "source": [
    "# we hard code the user's preferences\n",
    "for i in range(20):\n",
    "    movies.loc[movie_id, \"like\"] = True if i % 2 == 0 else False\n",
    "    movie_id = select_bayes(movies, model)\n",
    "\n",
    "X = np.array(movies.drop(columns=\"like\")[movies.like.isna()])\n",
    "\n",
    "recommendations = model.predict_proba(X)[:, 1]\n",
    "recommendations = pd.Series(\n",
    "    recommendations,\n",
    ").sort_values(ascending=False)\n",
    "\n",
    "display_posters(recommendations.index)"
   ]
  },
  {
   "cell_type": "markdown",
   "metadata": {},
   "source": [
    "## Analysis\n",
    "\n",
    "Finally, we would like to assess the quality of our bandit algorithm.\n",
    "\n",
    "## To do\n",
    "\n",
    "- Choose a user, that is a parameter $\\theta$ (vector of weights).\n",
    "- Provide the answers of this user to the movies proposed by the algorithm, assuming binary rewards, with mean\n",
    "  $$\n",
    "  q(a) = \\frac 1 {1 + e^{-\\theta^T a}}\n",
    "  $$\n",
    "  where $a$ is the action (= movie proposed by the algorithm).\n",
    "- Make sure that a reasonable fraction of movies are liked (e.g., between 10\\% and 90\\%). Otherwise, update $\\theta$.\n",
    "- Simulate an interaction of this user with the recommender system over 100 movies.\n",
    "- Compute the [Spearman's correlation coefficient](https://en.wikipedia.org/wiki/Spearman%27s_rank_correlation_coefficient) of the ranking of the unseen movies provided by the algorithm, compared to the ground-truth ranking.\n",
    "- Plot the evolution of this coefficient with respect to the number of movies seen by the user, from 1 to 100.\n",
    "- Give the top-3 and bottom-3 genres, as predicted by the model, and compare to the ground-truth.\n",
    "- Do the same experiments with other features (e.g., actors, actors + genres, actors + director + genres).\n"
   ]
  },
  {
   "cell_type": "code",
   "execution_count": 985,
   "metadata": {},
   "outputs": [
    {
     "name": "stdout",
     "output_type": "stream",
     "text": [
      "Fraction of movies liked by the generated user: 0.42\n"
     ]
    }
   ],
   "source": [
    "model = LogisticRegression(fit_intercept=False)\n",
    "\n",
    "movies = movies.assign(like=None)\n",
    "theta_user = np.random.randn(movies.drop(columns=\"like\").shape[1])\n",
    "\n",
    "# Initialize the model parameters\n",
    "model.coef_ = np.array([[0.0] * movies.drop(columns=\"like\").shape[1]])\n",
    "model.classes_ = np.array([0.0, 1.0])\n",
    "model.intercept_ = 0.0\n",
    "\n",
    "while True:\n",
    "    q_a = 1 / (1 + np.exp(-movies.drop(columns=\"like\").values @ theta_user))\n",
    "    if 0.1 <= np.mean(q_a) <= 0.9:\n",
    "        break\n",
    "    theta_user = np.random.randn(movies.drop(columns=\"like\").shape[1])\n",
    "\n",
    "print(f\"Fraction of movies liked by the generated user: {np.mean(q_a):.2f}\")"
   ]
  },
  {
   "cell_type": "code",
   "execution_count": 986,
   "metadata": {},
   "outputs": [],
   "source": [
    "def user_feedback(movies, theta_user):\n",
    "    q_a = 1 / (1 + np.exp(-movies @ theta_user))\n",
    "    return np.random.binomial(1, q_a)"
   ]
  },
  {
   "cell_type": "code",
   "execution_count": 987,
   "metadata": {},
   "outputs": [],
   "source": [
    "def simulation(movies, n_movies=100):\n",
    "    spearman_correlations = []\n",
    "    movies_seen = []\n",
    "\n",
    "    for _ in range(n_movies):\n",
    "        idx_new_movie = select_bayes(movies, model)\n",
    "\n",
    "        # simulate that the user has watched the movie and provided feedback (like / dislike)\n",
    "        movie_features = movies.loc[idx_new_movie].drop(labels=\"like\")\n",
    "        feedback = user_feedback(movie_features, theta_user)\n",
    "        movies.loc[idx_new_movie, \"like\"] = feedback\n",
    "        movies_seen.append(idx_new_movie)\n",
    "\n",
    "        # get the ranking of the unseen movies\n",
    "        unseen_movies = movies[movies.like.isna()]\n",
    "        model_ranking = model.predict_proba(\n",
    "            np.array(unseen_movies.drop(columns=\"like\"))\n",
    "        )[:, 1]\n",
    "        ground_truth_ranking = 1 / (\n",
    "            1 + np.exp(-unseen_movies.drop(columns=\"like\").values @ theta_user)\n",
    "        )\n",
    "\n",
    "        # remove the constants ranking made by the model:\n",
    "        # if all the movies have the same ranking\n",
    "        # this means that the model has not been trained yet\n",
    "        if np.all(model_ranking == model_ranking[0]):\n",
    "            continue\n",
    "\n",
    "        spearman_corr, _ = spearmanr(model_ranking, ground_truth_ranking)\n",
    "        spearman_correlations.append(spearman_corr)\n",
    "\n",
    "    return spearman_correlations"
   ]
  },
  {
   "cell_type": "code",
   "execution_count": 988,
   "metadata": {},
   "outputs": [],
   "source": [
    "def plot_spearman_correlation(spearman_correlations, title):\n",
    "    plt.figure(figsize=(10, 5))\n",
    "    plt.plot(spearman_correlations)\n",
    "    plt.xlabel(\"Number of movies watched\")\n",
    "    plt.ylabel(\"Spearman correlation\")\n",
    "    plt.title(title)\n",
    "    plt.show()"
   ]
  },
  {
   "cell_type": "code",
   "execution_count": 989,
   "metadata": {},
   "outputs": [
    {
     "data": {
      "image/png": "[encoded data removed]",
      "text/plain": [
       "<Figure size 1000x500 with 1 Axes>"
      ]
     },
     "metadata": {},
     "output_type": "display_data"
    }
   ],
   "source": [
    "spearman_correlations = simulation(movies)\n",
    "plot_spearman_correlation(\n",
    "    spearman_correlations, \"Evolution of the Spearman correlation (only genre feature)\"\n",
    ")"
   ]
  },
  {
   "cell_type": "markdown",
   "metadata": {},
   "source": [
    "As we can see, the algorithm is able to learn the user preferences and provide good recommendations.\n",
    "\n",
    "The spearman correlation increases with the number of movies seen by the user, stabilizing at a high value.\n"
   ]
  },
  {
   "cell_type": "code",
   "execution_count": 990,
   "metadata": {},
   "outputs": [
    {
     "name": "stdout",
     "output_type": "stream",
     "text": [
      "Top-3 genres predicted by the model: ['Romance' 'Horror' 'Sci-Fi']\n",
      "Top-3 genres in the ground truth: ['Romance' 'Horror' 'Sci-Fi']\n",
      "\n",
      "Bottom-3 genres predicted by the model: ['Mystery' 'Drama' 'Adventure']\n",
      "Bottom-3 genres in the ground truth: ['Family' 'Mystery' 'Music']\n"
     ]
    }
   ],
   "source": [
    "top_3_model = (-model.coef_[0]).argsort()[:3]\n",
    "top_3_ground_truth = (-theta_user).argsort()[:3]\n",
    "\n",
    "bottom_3_model = model.coef_[0].argsort()[:3]\n",
    "bottom_3_ground_truth = theta_user.argsort()[:3]\n",
    "\n",
    "print(f\"Top-3 genres predicted by the model: {movies.columns[top_3_model].values}\")\n",
    "print(f\"Top-3 genres in the ground truth: {movies.columns[top_3_ground_truth].values}\")\n",
    "\n",
    "print(\n",
    "    f\"\\nBottom-3 genres predicted by the model: {movies.columns[bottom_3_model].values}\"\n",
    ")\n",
    "print(\n",
    "    f\"Bottom-3 genres in the ground truth: {movies.columns[bottom_3_ground_truth].values}\"\n",
    ")"
   ]
  },
  {
   "cell_type": "markdown",
   "metadata": {},
   "source": [
    "We can confirm this finding by looking at the top-3 and bottom-3 genres, which align, even if not perfectly, with the user preferences.\n"
   ]
  },
  {
   "cell_type": "markdown",
   "metadata": {},
   "source": [
    "### Experimentation with other features\n"
   ]
  },
  {
   "cell_type": "markdown",
   "metadata": {},
   "source": [
    "#### Actors\n"
   ]
  },
  {
   "cell_type": "code",
   "execution_count": 991,
   "metadata": {},
   "outputs": [
    {
     "name": "stdout",
     "output_type": "stream",
     "text": [
      "Fraction of movies liked: 0.50\n"
     ]
    }
   ],
   "source": [
    "model = LogisticRegression(fit_intercept=False)\n",
    "\n",
    "actor_movies = pd.DataFrame(\n",
    "    mlb.fit_transform(catalogue[\"Actors\"]), columns=mlb.classes_\n",
    ")\n",
    "actor_movies = actor_movies.assign(like=None)\n",
    "theta_user = np.random.randn(actor_movies.drop(columns=\"like\").shape[1])\n",
    "\n",
    "# Initialize the model parameters\n",
    "model.coef_ = np.array([[0.0] * actor_movies.drop(columns=\"like\").shape[1]])\n",
    "model.classes_ = np.array([0.0, 1.0])\n",
    "model.intercept_ = 0.0\n",
    "\n",
    "while True:\n",
    "    q_a = 1 / (1 + np.exp(-actor_movies.drop(columns=\"like\").values @ theta_user))\n",
    "    if 0.1 <= np.mean(q_a) <= 0.9:\n",
    "        break\n",
    "    theta_user = np.random.randn(actor_movies.drop(columns=\"like\").shape[1])\n",
    "\n",
    "print(f\"Fraction of movies liked: {np.mean(q_a):.2f}\")"
   ]
  },
  {
   "cell_type": "code",
   "execution_count": 992,
   "metadata": {},
   "outputs": [
    {
     "data": {
      "image/png": "[encoded data removed]",
      "text/plain": [
       "<Figure size 1000x500 with 1 Axes>"
      ]
     },
     "metadata": {},
     "output_type": "display_data"
    }
   ],
   "source": [
    "spearman_correlations = simulation(actor_movies)\n",
    "plot_spearman_correlation(\n",
    "    spearman_correlations, \"Evolution of the Spearman correlation (only actors feature)\"\n",
    ")"
   ]
  },
  {
   "cell_type": "markdown",
   "metadata": {},
   "source": [
    "Here we use the actors as features. We can see that the algorithm is able to learn the user preferences.\n",
    "\n",
    "With 100 movies seen, the Spearman correlation isn't as high as with genres. We have low but still increasing values. This indicates that the actors are less discriminative than the genres.\n",
    "\n",
    "In order to improve the performance, we could train the model on more data.\n"
   ]
  },
  {
   "cell_type": "markdown",
   "metadata": {},
   "source": [
    "#### Actors + Genres\n"
   ]
  },
  {
   "cell_type": "code",
   "execution_count": 993,
   "metadata": {},
   "outputs": [
    {
     "name": "stdout",
     "output_type": "stream",
     "text": [
      "Fraction of movies liked: 0.67\n"
     ]
    }
   ],
   "source": [
    "model = LogisticRegression(fit_intercept=False)\n",
    "\n",
    "actor_movies = pd.DataFrame(\n",
    "    mlb.fit_transform(catalogue[\"Actors\"]), columns=mlb.classes_\n",
    ")\n",
    "genre_movies = pd.DataFrame(mlb.fit_transform(catalogue[\"Genre\"]), columns=mlb.classes_)\n",
    "actor_genre_movies = pd.concat([actor_movies, genre_movies], axis=1)\n",
    "actor_genre_movies = actor_genre_movies.assign(like=None)\n",
    "theta_user = np.random.randn(actor_genre_movies.drop(columns=\"like\").shape[1])\n",
    "\n",
    "# Initialize the model parameters\n",
    "model.coef_ = np.array([[0.0] * actor_genre_movies.drop(columns=\"like\").shape[1]])\n",
    "model.classes_ = np.array([0.0, 1.0])\n",
    "model.intercept_ = 0.0\n",
    "\n",
    "while True:\n",
    "    q_a = 1 / (1 + np.exp(-actor_genre_movies.drop(columns=\"like\").values @ theta_user))\n",
    "    if 0.1 <= np.mean(q_a) <= 0.9:\n",
    "        break\n",
    "    theta_user = np.random.randn(actor_genre_movies.drop(columns=\"like\").shape[1])\n",
    "\n",
    "print(f\"Fraction of movies liked: {np.mean(q_a):.2f}\")"
   ]
  },
  {
   "cell_type": "code",
   "execution_count": 994,
   "metadata": {},
   "outputs": [
    {
     "data": {
      "image/png": "[encoded data removed]",
      "text/plain": [
       "<Figure size 1000x500 with 1 Axes>"
      ]
     },
     "metadata": {},
     "output_type": "display_data"
    }
   ],
   "source": [
    "spearman_correlations = simulation(actor_genre_movies)\n",
    "plot_spearman_correlation(\n",
    "    spearman_correlations,\n",
    "    \"Evolution of the Spearman correlation (actors and genre features)\",\n",
    ")"
   ]
  },
  {
   "cell_type": "markdown",
   "metadata": {},
   "source": [
    "In this case, we use both actors and genres as features. The Spearman correlation is higher than with actors only, but lower than with genres only.\n"
   ]
  },
  {
   "cell_type": "markdown",
   "metadata": {},
   "source": [
    "#### Actors + Genres + Directors\n"
   ]
  },
  {
   "cell_type": "code",
   "execution_count": 995,
   "metadata": {},
   "outputs": [
    {
     "name": "stdout",
     "output_type": "stream",
     "text": [
      "Fraction of movies liked: 0.55\n"
     ]
    }
   ],
   "source": [
    "model = LogisticRegression(fit_intercept=False)\n",
    "\n",
    "actor_movies = pd.DataFrame(\n",
    "    mlb.fit_transform(catalogue[\"Actors\"]), columns=mlb.classes_\n",
    ")\n",
    "genre_movies = pd.DataFrame(mlb.fit_transform(catalogue[\"Genre\"]), columns=mlb.classes_)\n",
    "director_movies = pd.DataFrame(\n",
    "    mlb.fit_transform(catalogue[\"Director\"]), columns=mlb.classes_\n",
    ")\n",
    "actor_genre_director_movies = pd.concat(\n",
    "    [actor_movies, genre_movies, director_movies], axis=1\n",
    ")\n",
    "actor_genre_director_movies = actor_genre_director_movies.assign(like=None)\n",
    "theta_user = np.random.randn(actor_genre_director_movies.drop(columns=\"like\").shape[1])\n",
    "\n",
    "# Initialize the model parameters\n",
    "model.coef_ = np.array(\n",
    "    [[0.0] * actor_genre_director_movies.drop(columns=\"like\").shape[1]]\n",
    ")\n",
    "model.classes_ = np.array([0.0, 1.0])\n",
    "model.intercept_ = 0.0\n",
    "\n",
    "while True:\n",
    "    q_a = 1 / (\n",
    "        1\n",
    "        + np.exp(-actor_genre_director_movies.drop(columns=\"like\").values @ theta_user)\n",
    "    )\n",
    "    if 0.1 <= np.mean(q_a) <= 0.9:\n",
    "        break\n",
    "    theta_user = np.random.randn(\n",
    "        actor_genre_director_movies.drop(columns=\"like\").shape[1]\n",
    "    )\n",
    "\n",
    "print(f\"Fraction of movies liked: {np.mean(q_a):.2f}\")"
   ]
  },
  {
   "cell_type": "code",
   "execution_count": 996,
   "metadata": {},
   "outputs": [
    {
     "data": {
      "image/png": "[encoded data removed]",
      "text/plain": [
       "<Figure size 1000x500 with 1 Axes>"
      ]
     },
     "metadata": {},
     "output_type": "display_data"
    }
   ],
   "source": [
    "spearman_correlations = simulation(actor_genre_director_movies)\n",
    "plot_spearman_correlation(\n",
    "    spearman_correlations,\n",
    "    \"Evolution of the Spearman correlation (actors, genre and director features)\",\n",
    ")"
   ]
  },
  {
   "cell_type": "markdown",
   "metadata": {},
   "source": [
    "The results are similar to the previous two cases.\n",
    "\n",
    "This tells us that adding the director doesn't improve the performance of the model.\n",
    "\n",
    "In all the mixed cases, we have seen that the genres are the most discriminative features, and adding other features is adding noise more than information.\n"
   ]
  }
 ],
 "metadata": {
  "kernelspec": {
   "display_name": "venv",
   "language": "python",
   "name": "python3"
  },
  "language_info": {
   "codemirror_mode": {
    "name": "ipython",
    "version": 3
   },
   "file_extension": ".py",
   "mimetype": "text/x-python",
   "name": "python",
   "nbconvert_exporter": "python",
   "pygments_lexer": "ipython3",
   "version": "3.12.6"
  }
 },
 "nbformat": 4,
 "nbformat_minor": 4
}
