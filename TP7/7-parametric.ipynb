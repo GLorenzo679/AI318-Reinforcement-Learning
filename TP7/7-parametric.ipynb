{
 "cells": [
  {
   "cell_type": "markdown",
   "metadata": {},
   "source": [
    "# Reinforcement Learning\n",
    "\n",
    "# 7. Parametric Bandits\n"
   ]
  },
  {
   "cell_type": "markdown",
   "metadata": {},
   "source": [
    "The objective of this lab is to recommend contents (here movies) using **parametric bandits**. The rewards are binary (like or dislike).\n"
   ]
  },
  {
   "cell_type": "markdown",
   "metadata": {},
   "source": [
    "## Imports\n"
   ]
  },
  {
   "cell_type": "code",
   "execution_count": 1004,
   "metadata": {},
   "outputs": [],
   "source": [
    "import numpy as np\n",
    "import pandas as pd\n",
    "\n",
    "import matplotlib.pyplot as plt"
   ]
  },
  {
   "cell_type": "markdown",
   "metadata": {},
   "source": [
    "You will need `ipywidgets` to simulate the interactions with the user.\n"
   ]
  },
  {
   "cell_type": "code",
   "execution_count": 1005,
   "metadata": {},
   "outputs": [],
   "source": [
    "#!pip install ipywidgets"
   ]
  },
  {
   "cell_type": "code",
   "execution_count": 1006,
   "metadata": {},
   "outputs": [],
   "source": [
    "from ipywidgets import AppLayout, Button, GridspecLayout, Image, Layout"
   ]
  },
  {
   "cell_type": "code",
   "execution_count": 1007,
   "metadata": {},
   "outputs": [],
   "source": [
    "#!pip install scikit-learn"
   ]
  },
  {
   "cell_type": "code",
   "execution_count": 1008,
   "metadata": {},
   "outputs": [],
   "source": [
    "from sklearn.linear_model import LogisticRegression\n",
    "from sklearn.preprocessing import MultiLabelBinarizer\n",
    "from scipy.stats import spearmanr"
   ]
  },
  {
   "cell_type": "markdown",
   "metadata": {},
   "source": [
    "## Data\n"
   ]
  },
  {
   "cell_type": "markdown",
   "metadata": {},
   "source": [
    "We work on a catalogue of 1037 movies available in 2015.\n"
   ]
  },
  {
   "cell_type": "code",
   "execution_count": 1009,
   "metadata": {},
   "outputs": [],
   "source": [
    "catalogue = pd.read_pickle(\"./data/movie_database.pickle\")"
   ]
  },
  {
   "cell_type": "code",
   "execution_count": 1010,
   "metadata": {},
   "outputs": [
    {
     "data": {
      "text/plain": [
       "1037"
      ]
     },
     "execution_count": 1010,
     "metadata": {},
     "output_type": "execute_result"
    }
   ],
   "source": [
    "len(catalogue)"
   ]
  },
  {
   "cell_type": "code",
   "execution_count": 1011,
   "metadata": {},
   "outputs": [
    {
     "data": {
      "text/html": [
       "<div>\n",
       "<style scoped>\n",
       "    .dataframe tbody tr th:only-of-type {\n",
       "        vertical-align: middle;\n",
       "    }\n",
       "\n",
       "    .dataframe tbody tr th {\n",
       "        vertical-align: top;\n",
       "    }\n",
       "\n",
       "    .dataframe thead th {\n",
       "        text-align: right;\n",
       "    }\n",
       "</style>\n",
       "<table border=\"1\" class=\"dataframe\">\n",
       "  <thead>\n",
       "    <tr style=\"text-align: right;\">\n",
       "      <th></th>\n",
       "      <th>Actors</th>\n",
       "      <th>Awards</th>\n",
       "      <th>Country</th>\n",
       "      <th>Director</th>\n",
       "      <th>Genre</th>\n",
       "      <th>Language</th>\n",
       "      <th>Rated</th>\n",
       "      <th>Released</th>\n",
       "      <th>Title</th>\n",
       "      <th>imdbID</th>\n",
       "      <th>imdbRating</th>\n",
       "      <th>Metascore</th>\n",
       "      <th>Box_office</th>\n",
       "      <th>imdbVotes</th>\n",
       "      <th>Runtime</th>\n",
       "      <th>poster</th>\n",
       "    </tr>\n",
       "  </thead>\n",
       "  <tbody>\n",
       "    <tr>\n",
       "      <th>0</th>\n",
       "      <td>[Mark Hamill, Harrison Ford, Carrie Fisher, Bi...</td>\n",
       "      <td>Won 1 Oscar. Another 15 wins &amp; 18 nominations.</td>\n",
       "      <td>[USA]</td>\n",
       "      <td>[Irvin Kershner]</td>\n",
       "      <td>[Action, Adventure, Fantasy]</td>\n",
       "      <td>[English]</td>\n",
       "      <td>[PG]</td>\n",
       "      <td>1980-06-20</td>\n",
       "      <td>Star Wars: Episode V - The Empire Strikes Back</td>\n",
       "      <td>tt0080684</td>\n",
       "      <td>8.8</td>\n",
       "      <td>79.0</td>\n",
       "      <td>290158751.0</td>\n",
       "      <td>799579.0</td>\n",
       "      <td>124.0</td>\n",
       "      <td>b'\\xff\\xd8\\xff\\xe0\\x00\\x10JFIF\\x00\\x01\\x01\\x00...</td>\n",
       "    </tr>\n",
       "    <tr>\n",
       "      <th>1</th>\n",
       "      <td>[Kareem Abdul-Jabbar, Lloyd Bridges, Peter Gra...</td>\n",
       "      <td>Nominated for 1 Golden Globe. Another 2 wins &amp;...</td>\n",
       "      <td>[USA]</td>\n",
       "      <td>[Jim Abrahams, David Zucker, Jerry Zucker]</td>\n",
       "      <td>[Comedy]</td>\n",
       "      <td>[English]</td>\n",
       "      <td>[PG]</td>\n",
       "      <td>1980-07-02</td>\n",
       "      <td>Airplane!</td>\n",
       "      <td>tt0080339</td>\n",
       "      <td>7.8</td>\n",
       "      <td>NaN</td>\n",
       "      <td>83400000.0</td>\n",
       "      <td>154994.0</td>\n",
       "      <td>88.0</td>\n",
       "      <td>b'\\xff\\xd8\\xff\\xe0\\x00\\x10JFIF\\x00\\x01\\x01\\x00...</td>\n",
       "    </tr>\n",
       "    <tr>\n",
       "      <th>2</th>\n",
       "      <td>[John Belushi, Dan Aykroyd, James Brown, Cab C...</td>\n",
       "      <td>1 win.</td>\n",
       "      <td>[USA]</td>\n",
       "      <td>[John Landis]</td>\n",
       "      <td>[Action, Comedy, Crime]</td>\n",
       "      <td>[English]</td>\n",
       "      <td>[R]</td>\n",
       "      <td>1980-06-20</td>\n",
       "      <td>The Blues Brothers</td>\n",
       "      <td>tt0080455</td>\n",
       "      <td>7.9</td>\n",
       "      <td>NaN</td>\n",
       "      <td>54200000.0</td>\n",
       "      <td>138196.0</td>\n",
       "      <td>133.0</td>\n",
       "      <td>b'\\xff\\xd8\\xff\\xe0\\x00\\x10JFIF\\x00\\x01\\x01\\x00...</td>\n",
       "    </tr>\n",
       "    <tr>\n",
       "      <th>3</th>\n",
       "      <td>[Jack Nicholson, Shelley Duvall, Danny Lloyd, ...</td>\n",
       "      <td>3 wins &amp; 5 nominations.</td>\n",
       "      <td>[USA, UK]</td>\n",
       "      <td>[Stanley Kubrick]</td>\n",
       "      <td>[Drama, Horror]</td>\n",
       "      <td>[English]</td>\n",
       "      <td>[R]</td>\n",
       "      <td>1980-05-23</td>\n",
       "      <td>The Shining</td>\n",
       "      <td>tt0081505</td>\n",
       "      <td>8.4</td>\n",
       "      <td>61.0</td>\n",
       "      <td>NaN</td>\n",
       "      <td>584323.0</td>\n",
       "      <td>146.0</td>\n",
       "      <td>b'\\xff\\xd8\\xff\\xe0\\x00\\x10JFIF\\x00\\x01\\x01\\x00...</td>\n",
       "    </tr>\n",
       "    <tr>\n",
       "      <th>4</th>\n",
       "      <td>[Anthony Hopkins, John Hurt, Anne Bancroft, Jo...</td>\n",
       "      <td>Nominated for 8 Oscars. Another 10 wins &amp; 14 n...</td>\n",
       "      <td>[USA, UK]</td>\n",
       "      <td>[David Lynch]</td>\n",
       "      <td>[Biography, Drama]</td>\n",
       "      <td>[English]</td>\n",
       "      <td>[PG]</td>\n",
       "      <td>1980-10-10</td>\n",
       "      <td>The Elephant Man</td>\n",
       "      <td>tt0080678</td>\n",
       "      <td>8.2</td>\n",
       "      <td>NaN</td>\n",
       "      <td>NaN</td>\n",
       "      <td>156572.0</td>\n",
       "      <td>124.0</td>\n",
       "      <td>b'\\xff\\xd8\\xff\\xe0\\x00\\x10JFIF\\x00\\x01\\x01\\x00...</td>\n",
       "    </tr>\n",
       "  </tbody>\n",
       "</table>\n",
       "</div>"
      ],
      "text/plain": [
       "                                              Actors  \\\n",
       "0  [Mark Hamill, Harrison Ford, Carrie Fisher, Bi...   \n",
       "1  [Kareem Abdul-Jabbar, Lloyd Bridges, Peter Gra...   \n",
       "2  [John Belushi, Dan Aykroyd, James Brown, Cab C...   \n",
       "3  [Jack Nicholson, Shelley Duvall, Danny Lloyd, ...   \n",
       "4  [Anthony Hopkins, John Hurt, Anne Bancroft, Jo...   \n",
       "\n",
       "                                              Awards    Country  \\\n",
       "0     Won 1 Oscar. Another 15 wins & 18 nominations.      [USA]   \n",
       "1  Nominated for 1 Golden Globe. Another 2 wins &...      [USA]   \n",
       "2                                             1 win.      [USA]   \n",
       "3                            3 wins & 5 nominations.  [USA, UK]   \n",
       "4  Nominated for 8 Oscars. Another 10 wins & 14 n...  [USA, UK]   \n",
       "\n",
       "                                     Director                         Genre  \\\n",
       "0                            [Irvin Kershner]  [Action, Adventure, Fantasy]   \n",
       "1  [Jim Abrahams, David Zucker, Jerry Zucker]                      [Comedy]   \n",
       "2                               [John Landis]       [Action, Comedy, Crime]   \n",
       "3                           [Stanley Kubrick]               [Drama, Horror]   \n",
       "4                               [David Lynch]            [Biography, Drama]   \n",
       "\n",
       "    Language Rated   Released                                           Title  \\\n",
       "0  [English]  [PG] 1980-06-20  Star Wars: Episode V - The Empire Strikes Back   \n",
       "1  [English]  [PG] 1980-07-02                                       Airplane!   \n",
       "2  [English]   [R] 1980-06-20                              The Blues Brothers   \n",
       "3  [English]   [R] 1980-05-23                                     The Shining   \n",
       "4  [English]  [PG] 1980-10-10                                The Elephant Man   \n",
       "\n",
       "      imdbID  imdbRating  Metascore   Box_office  imdbVotes  Runtime  \\\n",
       "0  tt0080684         8.8       79.0  290158751.0   799579.0    124.0   \n",
       "1  tt0080339         7.8        NaN   83400000.0   154994.0     88.0   \n",
       "2  tt0080455         7.9        NaN   54200000.0   138196.0    133.0   \n",
       "3  tt0081505         8.4       61.0          NaN   584323.0    146.0   \n",
       "4  tt0080678         8.2        NaN          NaN   156572.0    124.0   \n",
       "\n",
       "                                              poster  \n",
       "0  b'\\xff\\xd8\\xff\\xe0\\x00\\x10JFIF\\x00\\x01\\x01\\x00...  \n",
       "1  b'\\xff\\xd8\\xff\\xe0\\x00\\x10JFIF\\x00\\x01\\x01\\x00...  \n",
       "2  b'\\xff\\xd8\\xff\\xe0\\x00\\x10JFIF\\x00\\x01\\x01\\x00...  \n",
       "3  b'\\xff\\xd8\\xff\\xe0\\x00\\x10JFIF\\x00\\x01\\x01\\x00...  \n",
       "4  b'\\xff\\xd8\\xff\\xe0\\x00\\x10JFIF\\x00\\x01\\x01\\x00...  "
      ]
     },
     "execution_count": 1011,
     "metadata": {},
     "output_type": "execute_result"
    }
   ],
   "source": [
    "catalogue.head()"
   ]
  },
  {
   "cell_type": "markdown",
   "metadata": {},
   "source": [
    "The features are the following:\n",
    "\n",
    "| Column     | Description                                      | Type             |\n",
    "| :--------- | :----------------------------------------------- | :--------------- |\n",
    "| Actors     | Actors staring                                   |  list of strings |\n",
    "| Awards     | Awards received                                  |  string          |\n",
    "| Country    | Country of origin                                | list of strings  |\n",
    "| Director   | Director(s) of the movie                         | list of strings  |\n",
    "| Genre      | Genres (Action, ...)                             | list of strings  |\n",
    "| Language   | Language(s) spoken                               | list of strings  |\n",
    "| Rated      | Public rating (G = General, R = Restricted, ...) |  list of strings |\n",
    "| Released   | Date of the movie                                |  date            |\n",
    "| Title      | Title of the movie                               | string           |\n",
    "| imdbID     | IMDB id                                          | string           |\n",
    "| imdbRating | IMDB rating (between 0 and 10)                   |  float           |\n",
    "| Metascore  | Metacritic score (between 0 and 100)             | float            |\n",
    "| Box_office | Total money generated                            | float            |\n",
    "| imdbVotes  | Number of IMDB votes                             |  float           |\n",
    "| Runtime    |  Duration of the movie (in minutes)              | float            |\n",
    "| poster     |  Poster of the movie (jpg)                       |  binary string   |\n"
   ]
  },
  {
   "cell_type": "code",
   "execution_count": 1012,
   "metadata": {},
   "outputs": [],
   "source": [
    "# Display the posters\n",
    "def get_poster(k, scale=1):\n",
    "    return Image(\n",
    "        value=catalogue.loc[k].poster,\n",
    "        format=\"jpg\",\n",
    "        width=130 * scale,\n",
    "        height=200 * scale,\n",
    "    )\n",
    "\n",
    "\n",
    "def display_posters(index=None, n_col=5, n_rows=4):\n",
    "    if index is None:\n",
    "        index = np.arange(len(catalogue))\n",
    "    if len(index):\n",
    "        n_rows = min(n_rows, int(np.ceil(len(index) / n_col)))\n",
    "        grid = GridspecLayout(n_rows, n_col)\n",
    "        k = 0\n",
    "        for i in range(n_rows):\n",
    "            for j in range(n_col):\n",
    "                if k < len(index):\n",
    "                    grid[i, j] = get_poster(index[k])\n",
    "                k += 1\n",
    "        return grid"
   ]
  },
  {
   "cell_type": "code",
   "execution_count": 1013,
   "metadata": {},
   "outputs": [
    {
     "data": {
      "application/vnd.jupyter.widget-view+json": {
       "model_id": "b2cc507552d7489f8644af054929571b",
       "version_major": 2,
       "version_minor": 0
      },
      "text/plain": [
       "GridspecLayout(children=(Image(value=b'\\xff\\xd8\\xff\\xe0\\x00\\x10JFIF\\x00\\x01\\x01\\x00\\x00\\x01\\x00\\x01\\x00\\x00\\xf…"
      ]
     },
     "execution_count": 1013,
     "metadata": {},
     "output_type": "execute_result"
    }
   ],
   "source": [
    "display_posters()"
   ]
  },
  {
   "cell_type": "markdown",
   "metadata": {},
   "source": [
    "## Features\n",
    "\n",
    "We will describe each movie by some features, for instance its genre.\n"
   ]
  },
  {
   "cell_type": "code",
   "execution_count": 1014,
   "metadata": {},
   "outputs": [],
   "source": [
    "mlb = MultiLabelBinarizer()"
   ]
  },
  {
   "cell_type": "code",
   "execution_count": 1015,
   "metadata": {},
   "outputs": [],
   "source": [
    "movies = pd.DataFrame(mlb.fit_transform(catalogue[\"Genre\"]), columns=mlb.classes_)"
   ]
  },
  {
   "cell_type": "code",
   "execution_count": 1016,
   "metadata": {},
   "outputs": [
    {
     "data": {
      "text/html": [
       "<div>\n",
       "<style scoped>\n",
       "    .dataframe tbody tr th:only-of-type {\n",
       "        vertical-align: middle;\n",
       "    }\n",
       "\n",
       "    .dataframe tbody tr th {\n",
       "        vertical-align: top;\n",
       "    }\n",
       "\n",
       "    .dataframe thead th {\n",
       "        text-align: right;\n",
       "    }\n",
       "</style>\n",
       "<table border=\"1\" class=\"dataframe\">\n",
       "  <thead>\n",
       "    <tr style=\"text-align: right;\">\n",
       "      <th></th>\n",
       "      <th>Action</th>\n",
       "      <th>Adventure</th>\n",
       "      <th>Animation</th>\n",
       "      <th>Biography</th>\n",
       "      <th>Comedy</th>\n",
       "      <th>Crime</th>\n",
       "      <th>Documentary</th>\n",
       "      <th>Drama</th>\n",
       "      <th>Family</th>\n",
       "      <th>Fantasy</th>\n",
       "      <th>...</th>\n",
       "      <th>Horror</th>\n",
       "      <th>Music</th>\n",
       "      <th>Musical</th>\n",
       "      <th>Mystery</th>\n",
       "      <th>Romance</th>\n",
       "      <th>Sci-Fi</th>\n",
       "      <th>Sport</th>\n",
       "      <th>Thriller</th>\n",
       "      <th>War</th>\n",
       "      <th>Western</th>\n",
       "    </tr>\n",
       "  </thead>\n",
       "  <tbody>\n",
       "    <tr>\n",
       "      <th>0</th>\n",
       "      <td>1</td>\n",
       "      <td>1</td>\n",
       "      <td>0</td>\n",
       "      <td>0</td>\n",
       "      <td>0</td>\n",
       "      <td>0</td>\n",
       "      <td>0</td>\n",
       "      <td>0</td>\n",
       "      <td>0</td>\n",
       "      <td>1</td>\n",
       "      <td>...</td>\n",
       "      <td>0</td>\n",
       "      <td>0</td>\n",
       "      <td>0</td>\n",
       "      <td>0</td>\n",
       "      <td>0</td>\n",
       "      <td>0</td>\n",
       "      <td>0</td>\n",
       "      <td>0</td>\n",
       "      <td>0</td>\n",
       "      <td>0</td>\n",
       "    </tr>\n",
       "    <tr>\n",
       "      <th>1</th>\n",
       "      <td>0</td>\n",
       "      <td>0</td>\n",
       "      <td>0</td>\n",
       "      <td>0</td>\n",
       "      <td>1</td>\n",
       "      <td>0</td>\n",
       "      <td>0</td>\n",
       "      <td>0</td>\n",
       "      <td>0</td>\n",
       "      <td>0</td>\n",
       "      <td>...</td>\n",
       "      <td>0</td>\n",
       "      <td>0</td>\n",
       "      <td>0</td>\n",
       "      <td>0</td>\n",
       "      <td>0</td>\n",
       "      <td>0</td>\n",
       "      <td>0</td>\n",
       "      <td>0</td>\n",
       "      <td>0</td>\n",
       "      <td>0</td>\n",
       "    </tr>\n",
       "    <tr>\n",
       "      <th>2</th>\n",
       "      <td>1</td>\n",
       "      <td>0</td>\n",
       "      <td>0</td>\n",
       "      <td>0</td>\n",
       "      <td>1</td>\n",
       "      <td>1</td>\n",
       "      <td>0</td>\n",
       "      <td>0</td>\n",
       "      <td>0</td>\n",
       "      <td>0</td>\n",
       "      <td>...</td>\n",
       "      <td>0</td>\n",
       "      <td>0</td>\n",
       "      <td>0</td>\n",
       "      <td>0</td>\n",
       "      <td>0</td>\n",
       "      <td>0</td>\n",
       "      <td>0</td>\n",
       "      <td>0</td>\n",
       "      <td>0</td>\n",
       "      <td>0</td>\n",
       "    </tr>\n",
       "    <tr>\n",
       "      <th>3</th>\n",
       "      <td>0</td>\n",
       "      <td>0</td>\n",
       "      <td>0</td>\n",
       "      <td>0</td>\n",
       "      <td>0</td>\n",
       "      <td>0</td>\n",
       "      <td>0</td>\n",
       "      <td>1</td>\n",
       "      <td>0</td>\n",
       "      <td>0</td>\n",
       "      <td>...</td>\n",
       "      <td>1</td>\n",
       "      <td>0</td>\n",
       "      <td>0</td>\n",
       "      <td>0</td>\n",
       "      <td>0</td>\n",
       "      <td>0</td>\n",
       "      <td>0</td>\n",
       "      <td>0</td>\n",
       "      <td>0</td>\n",
       "      <td>0</td>\n",
       "    </tr>\n",
       "    <tr>\n",
       "      <th>4</th>\n",
       "      <td>0</td>\n",
       "      <td>0</td>\n",
       "      <td>0</td>\n",
       "      <td>1</td>\n",
       "      <td>0</td>\n",
       "      <td>0</td>\n",
       "      <td>0</td>\n",
       "      <td>1</td>\n",
       "      <td>0</td>\n",
       "      <td>0</td>\n",
       "      <td>...</td>\n",
       "      <td>0</td>\n",
       "      <td>0</td>\n",
       "      <td>0</td>\n",
       "      <td>0</td>\n",
       "      <td>0</td>\n",
       "      <td>0</td>\n",
       "      <td>0</td>\n",
       "      <td>0</td>\n",
       "      <td>0</td>\n",
       "      <td>0</td>\n",
       "    </tr>\n",
       "  </tbody>\n",
       "</table>\n",
       "<p>5 rows × 21 columns</p>\n",
       "</div>"
      ],
      "text/plain": [
       "   Action  Adventure  Animation  Biography  Comedy  Crime  Documentary  Drama  \\\n",
       "0       1          1          0          0       0      0            0      0   \n",
       "1       0          0          0          0       1      0            0      0   \n",
       "2       1          0          0          0       1      1            0      0   \n",
       "3       0          0          0          0       0      0            0      1   \n",
       "4       0          0          0          1       0      0            0      1   \n",
       "\n",
       "   Family  Fantasy  ...  Horror  Music  Musical  Mystery  Romance  Sci-Fi  \\\n",
       "0       0        1  ...       0      0        0        0        0       0   \n",
       "1       0        0  ...       0      0        0        0        0       0   \n",
       "2       0        0  ...       0      0        0        0        0       0   \n",
       "3       0        0  ...       1      0        0        0        0       0   \n",
       "4       0        0  ...       0      0        0        0        0       0   \n",
       "\n",
       "   Sport  Thriller  War  Western  \n",
       "0      0         0    0        0  \n",
       "1      0         0    0        0  \n",
       "2      0         0    0        0  \n",
       "3      0         0    0        0  \n",
       "4      0         0    0        0  \n",
       "\n",
       "[5 rows x 21 columns]"
      ]
     },
     "execution_count": 1016,
     "metadata": {},
     "output_type": "execute_result"
    }
   ],
   "source": [
    "movies.head()"
   ]
  },
  {
   "cell_type": "code",
   "execution_count": 1017,
   "metadata": {},
   "outputs": [
    {
     "data": {
      "text/plain": [
       "Index(['Action', 'Adventure', 'Animation', 'Biography', 'Comedy', 'Crime',\n",
       "       'Documentary', 'Drama', 'Family', 'Fantasy', 'History', 'Horror',\n",
       "       'Music', 'Musical', 'Mystery', 'Romance', 'Sci-Fi', 'Sport', 'Thriller',\n",
       "       'War', 'Western'],\n",
       "      dtype='object')"
      ]
     },
     "execution_count": 1017,
     "metadata": {},
     "output_type": "execute_result"
    }
   ],
   "source": [
    "movies.columns"
   ]
  },
  {
   "cell_type": "markdown",
   "metadata": {},
   "source": [
    "## User\n",
    "\n",
    "Each user will be modeled by a vector of weights (positive or negative) on each feature.\n"
   ]
  },
  {
   "cell_type": "code",
   "execution_count": 1018,
   "metadata": {},
   "outputs": [],
   "source": [
    "user = pd.DataFrame(0, index=[0], columns=movies.columns)\n",
    "user[\"Action\"] = 2\n",
    "user[\"Crime\"] = 1\n",
    "user[\"Sci-Fi\"] = -2"
   ]
  },
  {
   "cell_type": "markdown",
   "metadata": {},
   "source": [
    "## To do\n",
    "\n",
    "- Display the favorite movies of this user.\n",
    "- Test another user, and quantify their similarity (e.g., proportion of common top-100 movies).\n"
   ]
  },
  {
   "cell_type": "code",
   "execution_count": 1019,
   "metadata": {},
   "outputs": [
    {
     "data": {
      "application/vnd.jupyter.widget-view+json": {
       "model_id": "8c830453cdca42d19a7faa989c79af74",
       "version_major": 2,
       "version_minor": 0
      },
      "text/plain": [
       "GridspecLayout(children=(Image(value=b'\\xff\\xd8\\xff\\xe0\\x00\\x10JFIF\\x00\\x01\\x01\\x00\\x00\\x01\\x00\\x01\\x00\\x00\\xf…"
      ]
     },
     "execution_count": 1019,
     "metadata": {},
     "output_type": "execute_result"
    }
   ],
   "source": [
    "preferences = (movies.dot(user.T)).sort_values(0, ascending=False)\n",
    "display_posters(preferences.index)"
   ]
  },
  {
   "cell_type": "code",
   "execution_count": 1020,
   "metadata": {},
   "outputs": [],
   "source": [
    "user2 = pd.DataFrame(0, index=[0], columns=movies.columns)\n",
    "user2[\"Action\"] = 3\n",
    "user2[\"Fantasy\"] = -2"
   ]
  },
  {
   "cell_type": "code",
   "execution_count": 1021,
   "metadata": {},
   "outputs": [],
   "source": [
    "def compute_user_similarity(user1, user2):\n",
    "    preferences1 = (movies.dot(user1.T)).sort_values(0, ascending=False)[:100]\n",
    "    preferences2 = (movies.dot(user2.T)).sort_values(0, ascending=False)[:100]\n",
    "\n",
    "    common_movies = preferences1.index.intersection(preferences2.index)\n",
    "    return len(common_movies) / 100"
   ]
  },
  {
   "cell_type": "code",
   "execution_count": 1022,
   "metadata": {},
   "outputs": [
    {
     "name": "stdout",
     "output_type": "stream",
     "text": [
      "Proportion of top-100 movies in common: 0.31\n"
     ]
    }
   ],
   "source": [
    "print(f\"Proportion of top-100 movies in common: {compute_user_similarity(user, user2)}\")"
   ]
  },
  {
   "cell_type": "markdown",
   "metadata": {},
   "source": [
    "## Offline learning\n",
    "\n",
    "We start with offline learning. There are 2 steps:\n",
    "\n",
    "1. Collect the user's opinion on a few movies (e.g., 10)\n",
    "2. Rank the other movies by logistic regression.\n",
    "\n",
    "Let's test that.\n"
   ]
  },
  {
   "cell_type": "code",
   "execution_count": 1023,
   "metadata": {},
   "outputs": [],
   "source": [
    "# Add a column to record the user's opinion (like / dislike)\n",
    "movies = movies.assign(like=None)"
   ]
  },
  {
   "cell_type": "code",
   "execution_count": 1024,
   "metadata": {},
   "outputs": [],
   "source": [
    "# Select a random movie (not yet seen by the user)\n",
    "def select_random_movie():\n",
    "    index = np.flatnonzero(movies.like.isna())\n",
    "    if len(index):\n",
    "        return np.random.choice(index)\n",
    "    else:\n",
    "        return np.random.choice(len(movies))"
   ]
  },
  {
   "cell_type": "code",
   "execution_count": 1025,
   "metadata": {},
   "outputs": [],
   "source": [
    "# Create buttons\n",
    "def create_expanded_button(description, button_style):\n",
    "    return Button(description=description, button_style=button_style, layout=Layout())\n",
    "\n",
    "\n",
    "def update_likes(button):\n",
    "    global movie_id\n",
    "    movies.loc[movie_id, \"like\"] = button.description == \"like\"\n",
    "\n",
    "\n",
    "def update_poster():\n",
    "    global movie_id\n",
    "    img.value = catalogue.loc[movie_id].poster\n",
    "\n",
    "\n",
    "def on_button_clicked(button):\n",
    "    global movie_id\n",
    "    update_likes(button)\n",
    "    movie_id = select_random_movie()\n",
    "    update_poster()"
   ]
  },
  {
   "cell_type": "code",
   "execution_count": 1026,
   "metadata": {
    "scrolled": true
   },
   "outputs": [
    {
     "data": {
      "application/vnd.jupyter.widget-view+json": {
       "model_id": "4a84dcdbb4c845f6a621398f8b3edc33",
       "version_major": 2,
       "version_minor": 0
      },
      "text/plain": [
       "AppLayout(children=(Button(button_style='success', description='like', layout=Layout(grid_area='left-sidebar')…"
      ]
     },
     "execution_count": 1026,
     "metadata": {},
     "output_type": "execute_result"
    }
   ],
   "source": [
    "# Setting the buttons\n",
    "left_button = create_expanded_button(\"like\", \"success\")\n",
    "right_button = create_expanded_button(\"dislike\", \"danger\")\n",
    "left_button.on_click(on_button_clicked)\n",
    "right_button.on_click(on_button_clicked)\n",
    "\n",
    "# Setting the movie poster\n",
    "movie_id = select_random_movie()\n",
    "img = get_poster(movie_id, scale=1.5)\n",
    "\n",
    "# Display\n",
    "AppLayout(\n",
    "    left_sidebar=left_button,\n",
    "    right_sidebar=right_button,\n",
    "    center=img,\n",
    "    pane_widths=[0.3, 0.4, 0.3],\n",
    ")"
   ]
  },
  {
   "cell_type": "markdown",
   "metadata": {},
   "source": [
    "## To do\n",
    "\n",
    "- Give your opinion on some movies (e.g., 10), making sure that you get a few likes and a few dislikes.\n",
    "- Apply logistic regression and display the other movies in order of preference (top movies first).\n",
    "- Give your top-3 and bottom-3 genres, as predicted by the model.\n"
   ]
  },
  {
   "cell_type": "code",
   "execution_count": 1027,
   "metadata": {},
   "outputs": [],
   "source": [
    "# likes\n",
    "likes = np.flatnonzero(movies.like == True)\n",
    "display_posters(likes)"
   ]
  },
  {
   "cell_type": "code",
   "execution_count": 1028,
   "metadata": {},
   "outputs": [],
   "source": [
    "# dislikes\n",
    "dislikes = np.flatnonzero(movies.like == False)\n",
    "display_posters(dislikes)"
   ]
  },
  {
   "cell_type": "markdown",
   "metadata": {},
   "source": [
    "We first fit the logistic regression model on the training set (e.g. the movies we liked/disliked).\n",
    "\n",
    "Then we predict the probability of liking each (not yet rated) movie and sort them by decreasing probability.\n"
   ]
  },
  {
   "cell_type": "code",
   "execution_count": 1029,
   "metadata": {},
   "outputs": [
    {
     "ename": "ValueError",
     "evalue": "Found array with 0 sample(s) (shape=(0, 21)) while a minimum of 1 is required by LogisticRegression.",
     "output_type": "error",
     "traceback": [
      "\u001b[1;31m---------------------------------------------------------------------------\u001b[0m",
      "\u001b[1;31mValueError\u001b[0m                                Traceback (most recent call last)",
      "Cell \u001b[1;32mIn[1029], line 5\u001b[0m\n\u001b[0;32m      3\u001b[0m y \u001b[38;5;241m=\u001b[39m (movies\u001b[38;5;241m.\u001b[39mlike[\u001b[38;5;241m~\u001b[39mmovies\u001b[38;5;241m.\u001b[39mlike\u001b[38;5;241m.\u001b[39misna()])\u001b[38;5;241m.\u001b[39mastype(\u001b[38;5;28mint\u001b[39m)\n\u001b[0;32m      4\u001b[0m X \u001b[38;5;241m=\u001b[39m movies\u001b[38;5;241m.\u001b[39mdrop(columns\u001b[38;5;241m=\u001b[39m\u001b[38;5;124m\"\u001b[39m\u001b[38;5;124mlike\u001b[39m\u001b[38;5;124m\"\u001b[39m)[\u001b[38;5;241m~\u001b[39mmovies\u001b[38;5;241m.\u001b[39mlike\u001b[38;5;241m.\u001b[39misna()]\n\u001b[1;32m----> 5\u001b[0m \u001b[43mmodel\u001b[49m\u001b[38;5;241;43m.\u001b[39;49m\u001b[43mfit\u001b[49m\u001b[43m(\u001b[49m\u001b[43mX\u001b[49m\u001b[43m,\u001b[49m\u001b[43m \u001b[49m\u001b[43my\u001b[49m\u001b[43m)\u001b[49m\n",
      "File \u001b[1;32md:\\Code\\Reinforcement Learning\\venv\\Lib\\site-packages\\sklearn\\base.py:1389\u001b[0m, in \u001b[0;36m_fit_context.<locals>.decorator.<locals>.wrapper\u001b[1;34m(estimator, *args, **kwargs)\u001b[0m\n\u001b[0;32m   1382\u001b[0m     estimator\u001b[38;5;241m.\u001b[39m_validate_params()\n\u001b[0;32m   1384\u001b[0m \u001b[38;5;28;01mwith\u001b[39;00m config_context(\n\u001b[0;32m   1385\u001b[0m     skip_parameter_validation\u001b[38;5;241m=\u001b[39m(\n\u001b[0;32m   1386\u001b[0m         prefer_skip_nested_validation \u001b[38;5;129;01mor\u001b[39;00m global_skip_validation\n\u001b[0;32m   1387\u001b[0m     )\n\u001b[0;32m   1388\u001b[0m ):\n\u001b[1;32m-> 1389\u001b[0m     \u001b[38;5;28;01mreturn\u001b[39;00m \u001b[43mfit_method\u001b[49m\u001b[43m(\u001b[49m\u001b[43mestimator\u001b[49m\u001b[43m,\u001b[49m\u001b[43m \u001b[49m\u001b[38;5;241;43m*\u001b[39;49m\u001b[43margs\u001b[49m\u001b[43m,\u001b[49m\u001b[43m \u001b[49m\u001b[38;5;241;43m*\u001b[39;49m\u001b[38;5;241;43m*\u001b[39;49m\u001b[43mkwargs\u001b[49m\u001b[43m)\u001b[49m\n",
      "File \u001b[1;32md:\\Code\\Reinforcement Learning\\venv\\Lib\\site-packages\\sklearn\\linear_model\\_logistic.py:1222\u001b[0m, in \u001b[0;36mLogisticRegression.fit\u001b[1;34m(self, X, y, sample_weight)\u001b[0m\n\u001b[0;32m   1219\u001b[0m \u001b[38;5;28;01melse\u001b[39;00m:\n\u001b[0;32m   1220\u001b[0m     _dtype \u001b[38;5;241m=\u001b[39m [np\u001b[38;5;241m.\u001b[39mfloat64, np\u001b[38;5;241m.\u001b[39mfloat32]\n\u001b[1;32m-> 1222\u001b[0m X, y \u001b[38;5;241m=\u001b[39m \u001b[43mvalidate_data\u001b[49m\u001b[43m(\u001b[49m\n\u001b[0;32m   1223\u001b[0m \u001b[43m    \u001b[49m\u001b[38;5;28;43mself\u001b[39;49m\u001b[43m,\u001b[49m\n\u001b[0;32m   1224\u001b[0m \u001b[43m    \u001b[49m\u001b[43mX\u001b[49m\u001b[43m,\u001b[49m\n\u001b[0;32m   1225\u001b[0m \u001b[43m    \u001b[49m\u001b[43my\u001b[49m\u001b[43m,\u001b[49m\n\u001b[0;32m   1226\u001b[0m \u001b[43m    \u001b[49m\u001b[43maccept_sparse\u001b[49m\u001b[38;5;241;43m=\u001b[39;49m\u001b[38;5;124;43m\"\u001b[39;49m\u001b[38;5;124;43mcsr\u001b[39;49m\u001b[38;5;124;43m\"\u001b[39;49m\u001b[43m,\u001b[49m\n\u001b[0;32m   1227\u001b[0m \u001b[43m    \u001b[49m\u001b[43mdtype\u001b[49m\u001b[38;5;241;43m=\u001b[39;49m\u001b[43m_dtype\u001b[49m\u001b[43m,\u001b[49m\n\u001b[0;32m   1228\u001b[0m \u001b[43m    \u001b[49m\u001b[43morder\u001b[49m\u001b[38;5;241;43m=\u001b[39;49m\u001b[38;5;124;43m\"\u001b[39;49m\u001b[38;5;124;43mC\u001b[39;49m\u001b[38;5;124;43m\"\u001b[39;49m\u001b[43m,\u001b[49m\n\u001b[0;32m   1229\u001b[0m \u001b[43m    \u001b[49m\u001b[43maccept_large_sparse\u001b[49m\u001b[38;5;241;43m=\u001b[39;49m\u001b[43msolver\u001b[49m\u001b[43m \u001b[49m\u001b[38;5;129;43;01mnot\u001b[39;49;00m\u001b[43m \u001b[49m\u001b[38;5;129;43;01min\u001b[39;49;00m\u001b[43m \u001b[49m\u001b[43m[\u001b[49m\u001b[38;5;124;43m\"\u001b[39;49m\u001b[38;5;124;43mliblinear\u001b[39;49m\u001b[38;5;124;43m\"\u001b[39;49m\u001b[43m,\u001b[49m\u001b[43m \u001b[49m\u001b[38;5;124;43m\"\u001b[39;49m\u001b[38;5;124;43msag\u001b[39;49m\u001b[38;5;124;43m\"\u001b[39;49m\u001b[43m,\u001b[49m\u001b[43m \u001b[49m\u001b[38;5;124;43m\"\u001b[39;49m\u001b[38;5;124;43msaga\u001b[39;49m\u001b[38;5;124;43m\"\u001b[39;49m\u001b[43m]\u001b[49m\u001b[43m,\u001b[49m\n\u001b[0;32m   1230\u001b[0m \u001b[43m\u001b[49m\u001b[43m)\u001b[49m\n\u001b[0;32m   1231\u001b[0m check_classification_targets(y)\n\u001b[0;32m   1232\u001b[0m \u001b[38;5;28mself\u001b[39m\u001b[38;5;241m.\u001b[39mclasses_ \u001b[38;5;241m=\u001b[39m np\u001b[38;5;241m.\u001b[39munique(y)\n",
      "File \u001b[1;32md:\\Code\\Reinforcement Learning\\venv\\Lib\\site-packages\\sklearn\\utils\\validation.py:2961\u001b[0m, in \u001b[0;36mvalidate_data\u001b[1;34m(_estimator, X, y, reset, validate_separately, skip_check_array, **check_params)\u001b[0m\n\u001b[0;32m   2959\u001b[0m         y \u001b[38;5;241m=\u001b[39m check_array(y, input_name\u001b[38;5;241m=\u001b[39m\u001b[38;5;124m\"\u001b[39m\u001b[38;5;124my\u001b[39m\u001b[38;5;124m\"\u001b[39m, \u001b[38;5;241m*\u001b[39m\u001b[38;5;241m*\u001b[39mcheck_y_params)\n\u001b[0;32m   2960\u001b[0m     \u001b[38;5;28;01melse\u001b[39;00m:\n\u001b[1;32m-> 2961\u001b[0m         X, y \u001b[38;5;241m=\u001b[39m \u001b[43mcheck_X_y\u001b[49m\u001b[43m(\u001b[49m\u001b[43mX\u001b[49m\u001b[43m,\u001b[49m\u001b[43m \u001b[49m\u001b[43my\u001b[49m\u001b[43m,\u001b[49m\u001b[43m \u001b[49m\u001b[38;5;241;43m*\u001b[39;49m\u001b[38;5;241;43m*\u001b[39;49m\u001b[43mcheck_params\u001b[49m\u001b[43m)\u001b[49m\n\u001b[0;32m   2962\u001b[0m     out \u001b[38;5;241m=\u001b[39m X, y\n\u001b[0;32m   2964\u001b[0m \u001b[38;5;28;01mif\u001b[39;00m \u001b[38;5;129;01mnot\u001b[39;00m no_val_X \u001b[38;5;129;01mand\u001b[39;00m check_params\u001b[38;5;241m.\u001b[39mget(\u001b[38;5;124m\"\u001b[39m\u001b[38;5;124mensure_2d\u001b[39m\u001b[38;5;124m\"\u001b[39m, \u001b[38;5;28;01mTrue\u001b[39;00m):\n",
      "File \u001b[1;32md:\\Code\\Reinforcement Learning\\venv\\Lib\\site-packages\\sklearn\\utils\\validation.py:1370\u001b[0m, in \u001b[0;36mcheck_X_y\u001b[1;34m(X, y, accept_sparse, accept_large_sparse, dtype, order, copy, force_writeable, force_all_finite, ensure_all_finite, ensure_2d, allow_nd, multi_output, ensure_min_samples, ensure_min_features, y_numeric, estimator)\u001b[0m\n\u001b[0;32m   1364\u001b[0m     \u001b[38;5;28;01mraise\u001b[39;00m \u001b[38;5;167;01mValueError\u001b[39;00m(\n\u001b[0;32m   1365\u001b[0m         \u001b[38;5;124mf\u001b[39m\u001b[38;5;124m\"\u001b[39m\u001b[38;5;132;01m{\u001b[39;00mestimator_name\u001b[38;5;132;01m}\u001b[39;00m\u001b[38;5;124m requires y to be passed, but the target y is None\u001b[39m\u001b[38;5;124m\"\u001b[39m\n\u001b[0;32m   1366\u001b[0m     )\n\u001b[0;32m   1368\u001b[0m ensure_all_finite \u001b[38;5;241m=\u001b[39m _deprecate_force_all_finite(force_all_finite, ensure_all_finite)\n\u001b[1;32m-> 1370\u001b[0m X \u001b[38;5;241m=\u001b[39m \u001b[43mcheck_array\u001b[49m\u001b[43m(\u001b[49m\n\u001b[0;32m   1371\u001b[0m \u001b[43m    \u001b[49m\u001b[43mX\u001b[49m\u001b[43m,\u001b[49m\n\u001b[0;32m   1372\u001b[0m \u001b[43m    \u001b[49m\u001b[43maccept_sparse\u001b[49m\u001b[38;5;241;43m=\u001b[39;49m\u001b[43maccept_sparse\u001b[49m\u001b[43m,\u001b[49m\n\u001b[0;32m   1373\u001b[0m \u001b[43m    \u001b[49m\u001b[43maccept_large_sparse\u001b[49m\u001b[38;5;241;43m=\u001b[39;49m\u001b[43maccept_large_sparse\u001b[49m\u001b[43m,\u001b[49m\n\u001b[0;32m   1374\u001b[0m \u001b[43m    \u001b[49m\u001b[43mdtype\u001b[49m\u001b[38;5;241;43m=\u001b[39;49m\u001b[43mdtype\u001b[49m\u001b[43m,\u001b[49m\n\u001b[0;32m   1375\u001b[0m \u001b[43m    \u001b[49m\u001b[43morder\u001b[49m\u001b[38;5;241;43m=\u001b[39;49m\u001b[43morder\u001b[49m\u001b[43m,\u001b[49m\n\u001b[0;32m   1376\u001b[0m \u001b[43m    \u001b[49m\u001b[43mcopy\u001b[49m\u001b[38;5;241;43m=\u001b[39;49m\u001b[43mcopy\u001b[49m\u001b[43m,\u001b[49m\n\u001b[0;32m   1377\u001b[0m \u001b[43m    \u001b[49m\u001b[43mforce_writeable\u001b[49m\u001b[38;5;241;43m=\u001b[39;49m\u001b[43mforce_writeable\u001b[49m\u001b[43m,\u001b[49m\n\u001b[0;32m   1378\u001b[0m \u001b[43m    \u001b[49m\u001b[43mensure_all_finite\u001b[49m\u001b[38;5;241;43m=\u001b[39;49m\u001b[43mensure_all_finite\u001b[49m\u001b[43m,\u001b[49m\n\u001b[0;32m   1379\u001b[0m \u001b[43m    \u001b[49m\u001b[43mensure_2d\u001b[49m\u001b[38;5;241;43m=\u001b[39;49m\u001b[43mensure_2d\u001b[49m\u001b[43m,\u001b[49m\n\u001b[0;32m   1380\u001b[0m \u001b[43m    \u001b[49m\u001b[43mallow_nd\u001b[49m\u001b[38;5;241;43m=\u001b[39;49m\u001b[43mallow_nd\u001b[49m\u001b[43m,\u001b[49m\n\u001b[0;32m   1381\u001b[0m \u001b[43m    \u001b[49m\u001b[43mensure_min_samples\u001b[49m\u001b[38;5;241;43m=\u001b[39;49m\u001b[43mensure_min_samples\u001b[49m\u001b[43m,\u001b[49m\n\u001b[0;32m   1382\u001b[0m \u001b[43m    \u001b[49m\u001b[43mensure_min_features\u001b[49m\u001b[38;5;241;43m=\u001b[39;49m\u001b[43mensure_min_features\u001b[49m\u001b[43m,\u001b[49m\n\u001b[0;32m   1383\u001b[0m \u001b[43m    \u001b[49m\u001b[43mestimator\u001b[49m\u001b[38;5;241;43m=\u001b[39;49m\u001b[43mestimator\u001b[49m\u001b[43m,\u001b[49m\n\u001b[0;32m   1384\u001b[0m \u001b[43m    \u001b[49m\u001b[43minput_name\u001b[49m\u001b[38;5;241;43m=\u001b[39;49m\u001b[38;5;124;43m\"\u001b[39;49m\u001b[38;5;124;43mX\u001b[39;49m\u001b[38;5;124;43m\"\u001b[39;49m\u001b[43m,\u001b[49m\n\u001b[0;32m   1385\u001b[0m \u001b[43m\u001b[49m\u001b[43m)\u001b[49m\n\u001b[0;32m   1387\u001b[0m y \u001b[38;5;241m=\u001b[39m _check_y(y, multi_output\u001b[38;5;241m=\u001b[39mmulti_output, y_numeric\u001b[38;5;241m=\u001b[39my_numeric, estimator\u001b[38;5;241m=\u001b[39mestimator)\n\u001b[0;32m   1389\u001b[0m check_consistent_length(X, y)\n",
      "File \u001b[1;32md:\\Code\\Reinforcement Learning\\venv\\Lib\\site-packages\\sklearn\\utils\\validation.py:1130\u001b[0m, in \u001b[0;36mcheck_array\u001b[1;34m(array, accept_sparse, accept_large_sparse, dtype, order, copy, force_writeable, force_all_finite, ensure_all_finite, ensure_non_negative, ensure_2d, allow_nd, ensure_min_samples, ensure_min_features, estimator, input_name)\u001b[0m\n\u001b[0;32m   1128\u001b[0m     n_samples \u001b[38;5;241m=\u001b[39m _num_samples(array)\n\u001b[0;32m   1129\u001b[0m     \u001b[38;5;28;01mif\u001b[39;00m n_samples \u001b[38;5;241m<\u001b[39m ensure_min_samples:\n\u001b[1;32m-> 1130\u001b[0m         \u001b[38;5;28;01mraise\u001b[39;00m \u001b[38;5;167;01mValueError\u001b[39;00m(\n\u001b[0;32m   1131\u001b[0m             \u001b[38;5;124m\"\u001b[39m\u001b[38;5;124mFound array with \u001b[39m\u001b[38;5;132;01m%d\u001b[39;00m\u001b[38;5;124m sample(s) (shape=\u001b[39m\u001b[38;5;132;01m%s\u001b[39;00m\u001b[38;5;124m) while a\u001b[39m\u001b[38;5;124m\"\u001b[39m\n\u001b[0;32m   1132\u001b[0m             \u001b[38;5;124m\"\u001b[39m\u001b[38;5;124m minimum of \u001b[39m\u001b[38;5;132;01m%d\u001b[39;00m\u001b[38;5;124m is required\u001b[39m\u001b[38;5;132;01m%s\u001b[39;00m\u001b[38;5;124m.\u001b[39m\u001b[38;5;124m\"\u001b[39m\n\u001b[0;32m   1133\u001b[0m             \u001b[38;5;241m%\u001b[39m (n_samples, array\u001b[38;5;241m.\u001b[39mshape, ensure_min_samples, context)\n\u001b[0;32m   1134\u001b[0m         )\n\u001b[0;32m   1136\u001b[0m \u001b[38;5;28;01mif\u001b[39;00m ensure_min_features \u001b[38;5;241m>\u001b[39m \u001b[38;5;241m0\u001b[39m \u001b[38;5;129;01mand\u001b[39;00m array\u001b[38;5;241m.\u001b[39mndim \u001b[38;5;241m==\u001b[39m \u001b[38;5;241m2\u001b[39m:\n\u001b[0;32m   1137\u001b[0m     n_features \u001b[38;5;241m=\u001b[39m array\u001b[38;5;241m.\u001b[39mshape[\u001b[38;5;241m1\u001b[39m]\n",
      "\u001b[1;31mValueError\u001b[0m: Found array with 0 sample(s) (shape=(0, 21)) while a minimum of 1 is required by LogisticRegression."
     ]
    }
   ],
   "source": [
    "model = LogisticRegression(fit_intercept=False)\n",
    "\n",
    "y = (movies.like[~movies.like.isna()]).astype(int)\n",
    "X = movies.drop(columns=\"like\")[~movies.like.isna()]\n",
    "model.fit(X, y)"
   ]
  },
  {
   "cell_type": "code",
   "execution_count": null,
   "metadata": {},
   "outputs": [
    {
     "data": {
      "application/vnd.jupyter.widget-view+json": {
       "model_id": "1f6b16867b804912949df88f0aa49099",
       "version_major": 2,
       "version_minor": 0
      },
      "text/plain": [
       "GridspecLayout(children=(Image(value=b'\\xff\\xd8\\xff\\xe0\\x00\\x10JFIF\\x00\\x01\\x01\\x00\\x00\\x01\\x00\\x01\\x00\\x00\\xf…"
      ]
     },
     "execution_count": 746,
     "metadata": {},
     "output_type": "execute_result"
    }
   ],
   "source": [
    "recommendations = model.predict_proba(movies.drop(columns=\"like\"))[:, 1]\n",
    "recommendations = pd.Series(recommendations, index=movies.index).sort_values(\n",
    "    ascending=False\n",
    ")\n",
    "display_posters(recommendations.index)"
   ]
  },
  {
   "cell_type": "code",
   "execution_count": 747,
   "metadata": {},
   "outputs": [
    {
     "data": {
      "application/vnd.jupyter.widget-view+json": {
       "model_id": "734081170ae24f78bd829de188095bcb",
       "version_major": 2,
       "version_minor": 0
      },
      "text/plain": [
       "GridspecLayout(children=(Image(value=b'\\xff\\xd8\\xff\\xe0\\x00\\x10JFIF\\x00\\x01\\x01\\x00\\x00\\x01\\x00\\x01\\x00\\x00\\xf…"
      ]
     },
     "execution_count": 747,
     "metadata": {},
     "output_type": "execute_result"
    }
   ],
   "source": [
    "top_3 = recommendations.index[:3]\n",
    "display_posters(top_3)"
   ]
  },
  {
   "cell_type": "code",
   "execution_count": 748,
   "metadata": {},
   "outputs": [
    {
     "data": {
      "application/vnd.jupyter.widget-view+json": {
       "model_id": "1163bd46af2840139bb020ad7ee3cb33",
       "version_major": 2,
       "version_minor": 0
      },
      "text/plain": [
       "GridspecLayout(children=(Image(value=b'\\xff\\xd8\\xff\\xe0\\x00\\x10JFIF\\x00\\x01\\x01\\x00\\x00\\x01\\x00\\x01\\x00\\x00\\xf…"
      ]
     },
     "execution_count": 748,
     "metadata": {},
     "output_type": "execute_result"
    }
   ],
   "source": [
    "bottom_3 = recommendations.index[-3:]\n",
    "display_posters(bottom_3)"
   ]
  },
  {
   "cell_type": "markdown",
   "metadata": {},
   "source": [
    "## Online learning\n"
   ]
  },
  {
   "cell_type": "markdown",
   "metadata": {},
   "source": [
    "We now learn the user preferences online, as they come. For that, we use a Bayesian algorithm inspired by Thompson sampling.\n",
    "\n",
    "On each feedback provided by the user:\n",
    "\n",
    "1. (Learning) The parameter (vector of weights) is learned.\n",
    "2. (Sampling) A new parameter is sampled, assuming a Gaussian distribution.\n",
    "3. (Action) The top movie for this new parameter, among movies not yet seen by the user, is proposed.\n",
    "\n",
    "Note that:\n",
    "\n",
    "- In step 1, we retrain the estimator **from scratch**, using logistic regression on all training data samples (**no** online estimation).\n",
    "- In step 2, we discard correlations (**diagonal** covariance matrix).\n"
   ]
  },
  {
   "cell_type": "markdown",
   "metadata": {},
   "source": [
    "## To do\n",
    "\n",
    "- Complete the function `select_bayes` below.\n",
    "- Test it on some movies (e.g., 10), until you get a few likes and a few dislikes.\n",
    "- Display the other movies in order of preference (top movies first).\n"
   ]
  },
  {
   "cell_type": "code",
   "execution_count": 1030,
   "metadata": {},
   "outputs": [],
   "source": [
    "model = LogisticRegression(fit_intercept=False)"
   ]
  },
  {
   "cell_type": "code",
   "execution_count": 1031,
   "metadata": {},
   "outputs": [],
   "source": [
    "def select_bayes(movies, model):\n",
    "    if set(movies.like) == {True, False, None}:\n",
    "        # to be completed (learning, sampling, action)\n",
    "\n",
    "        # 1. Learning\n",
    "        y = np.array((movies.like[~movies.like.isna()]).astype(int))\n",
    "        X = np.array(movies.drop(columns=\"like\")[~movies.like.isna()])\n",
    "        model.fit(X, y)\n",
    "\n",
    "        # 2. Sampling\n",
    "        mu = model.coef_[0].flatten()\n",
    "        probabilities = np.array(model.predict_proba(X)[:, 1])\n",
    "        W = np.diag(probabilities * (1 - probabilities))\n",
    "        Hessian = (X.T @ W @ X) + np.eye(X.shape[1])  # H = X.T*W*X + I*lambda\n",
    "        cov = np.linalg.inv(Hessian)\n",
    "        cov = np.diag(np.diag(cov))\n",
    "\n",
    "        new_weights = np.random.multivariate_normal(mu, cov)\n",
    "\n",
    "        # 3. Action\n",
    "        unseen_movies = movies[movies.like.isna()]\n",
    "        X_unseen = unseen_movies.drop(columns=\"like\")\n",
    "\n",
    "        scores = X_unseen @ new_weights\n",
    "        recommended_index = np.argmax(scores)\n",
    "\n",
    "        return recommended_index\n",
    "    else:\n",
    "        return select_random_movie()"
   ]
  },
  {
   "cell_type": "code",
   "execution_count": 1032,
   "metadata": {},
   "outputs": [],
   "source": [
    "# reset\n",
    "movies = movies.assign(like=None)"
   ]
  },
  {
   "cell_type": "code",
   "execution_count": 1033,
   "metadata": {},
   "outputs": [],
   "source": [
    "def on_button_clicked(button):\n",
    "    global movie_id\n",
    "    update_likes(button)\n",
    "    movie_id = select_bayes(movies, model)\n",
    "    update_poster()"
   ]
  },
  {
   "cell_type": "code",
   "execution_count": 1034,
   "metadata": {
    "scrolled": false
   },
   "outputs": [
    {
     "data": {
      "application/vnd.jupyter.widget-view+json": {
       "model_id": "de73004828df4a6e8da7d188899a0544",
       "version_major": 2,
       "version_minor": 0
      },
      "text/plain": [
       "AppLayout(children=(Button(button_style='success', description='like', layout=Layout(grid_area='left-sidebar')…"
      ]
     },
     "execution_count": 1034,
     "metadata": {},
     "output_type": "execute_result"
    }
   ],
   "source": [
    "# Setting the buttons\n",
    "left_button = create_expanded_button(\"like\", \"success\")\n",
    "right_button = create_expanded_button(\"dislike\", \"danger\")\n",
    "left_button.on_click(on_button_clicked)\n",
    "right_button.on_click(on_button_clicked)\n",
    "\n",
    "# Setting the movie poster\n",
    "movie_id = select_random_movie()\n",
    "img = get_poster(movie_id, scale=1.5)\n",
    "\n",
    "# Display\n",
    "AppLayout(\n",
    "    left_sidebar=left_button,\n",
    "    right_sidebar=right_button,\n",
    "    center=img,\n",
    "    pane_widths=[0.3, 0.4, 0.3],\n",
    ")"
   ]
  },
  {
   "cell_type": "code",
   "execution_count": 1035,
   "metadata": {},
   "outputs": [
    {
     "ename": "NotFittedError",
     "evalue": "This LogisticRegression instance is not fitted yet. Call 'fit' with appropriate arguments before using this estimator.",
     "output_type": "error",
     "traceback": [
      "\u001b[1;31m---------------------------------------------------------------------------\u001b[0m",
      "\u001b[1;31mNotFittedError\u001b[0m                            Traceback (most recent call last)",
      "Cell \u001b[1;32mIn[1035], line 4\u001b[0m\n\u001b[0;32m      1\u001b[0m \u001b[38;5;66;03m# predict the ranking of the unseen movies\u001b[39;00m\n\u001b[0;32m      2\u001b[0m X \u001b[38;5;241m=\u001b[39m np\u001b[38;5;241m.\u001b[39marray(movies\u001b[38;5;241m.\u001b[39mdrop(columns\u001b[38;5;241m=\u001b[39m\u001b[38;5;124m\"\u001b[39m\u001b[38;5;124mlike\u001b[39m\u001b[38;5;124m\"\u001b[39m)[movies\u001b[38;5;241m.\u001b[39mlike\u001b[38;5;241m.\u001b[39misna()])\n\u001b[1;32m----> 4\u001b[0m recommendations \u001b[38;5;241m=\u001b[39m \u001b[43mmodel\u001b[49m\u001b[38;5;241;43m.\u001b[39;49m\u001b[43mpredict_proba\u001b[49m\u001b[43m(\u001b[49m\u001b[43mX\u001b[49m\u001b[43m)\u001b[49m[:, \u001b[38;5;241m1\u001b[39m]\n\u001b[0;32m      5\u001b[0m recommendations \u001b[38;5;241m=\u001b[39m pd\u001b[38;5;241m.\u001b[39mSeries(\n\u001b[0;32m      6\u001b[0m     recommendations, index\u001b[38;5;241m=\u001b[39mmovies[movies\u001b[38;5;241m.\u001b[39mlike\u001b[38;5;241m.\u001b[39misna()]\u001b[38;5;241m.\u001b[39mindex\n\u001b[0;32m      7\u001b[0m )\u001b[38;5;241m.\u001b[39msort_values(ascending\u001b[38;5;241m=\u001b[39m\u001b[38;5;28;01mFalse\u001b[39;00m)\n\u001b[0;32m      9\u001b[0m display_posters(recommendations\u001b[38;5;241m.\u001b[39mindex)\n",
      "File \u001b[1;32md:\\Code\\Reinforcement Learning\\venv\\Lib\\site-packages\\sklearn\\linear_model\\_logistic.py:1421\u001b[0m, in \u001b[0;36mLogisticRegression.predict_proba\u001b[1;34m(self, X)\u001b[0m\n\u001b[0;32m   1395\u001b[0m \u001b[38;5;28;01mdef\u001b[39;00m \u001b[38;5;21mpredict_proba\u001b[39m(\u001b[38;5;28mself\u001b[39m, X):\n\u001b[0;32m   1396\u001b[0m \u001b[38;5;250m    \u001b[39m\u001b[38;5;124;03m\"\"\"\u001b[39;00m\n\u001b[0;32m   1397\u001b[0m \u001b[38;5;124;03m    Probability estimates.\u001b[39;00m\n\u001b[0;32m   1398\u001b[0m \n\u001b[1;32m   (...)\u001b[0m\n\u001b[0;32m   1419\u001b[0m \u001b[38;5;124;03m        where classes are ordered as they are in ``self.classes_``.\u001b[39;00m\n\u001b[0;32m   1420\u001b[0m \u001b[38;5;124;03m    \"\"\"\u001b[39;00m\n\u001b[1;32m-> 1421\u001b[0m     \u001b[43mcheck_is_fitted\u001b[49m\u001b[43m(\u001b[49m\u001b[38;5;28;43mself\u001b[39;49m\u001b[43m)\u001b[49m\n\u001b[0;32m   1423\u001b[0m     ovr \u001b[38;5;241m=\u001b[39m \u001b[38;5;28mself\u001b[39m\u001b[38;5;241m.\u001b[39mmulti_class \u001b[38;5;129;01min\u001b[39;00m [\u001b[38;5;124m\"\u001b[39m\u001b[38;5;124movr\u001b[39m\u001b[38;5;124m\"\u001b[39m, \u001b[38;5;124m\"\u001b[39m\u001b[38;5;124mwarn\u001b[39m\u001b[38;5;124m\"\u001b[39m] \u001b[38;5;129;01mor\u001b[39;00m (\n\u001b[0;32m   1424\u001b[0m         \u001b[38;5;28mself\u001b[39m\u001b[38;5;241m.\u001b[39mmulti_class \u001b[38;5;129;01min\u001b[39;00m [\u001b[38;5;124m\"\u001b[39m\u001b[38;5;124mauto\u001b[39m\u001b[38;5;124m\"\u001b[39m, \u001b[38;5;124m\"\u001b[39m\u001b[38;5;124mdeprecated\u001b[39m\u001b[38;5;124m\"\u001b[39m]\n\u001b[0;32m   1425\u001b[0m         \u001b[38;5;129;01mand\u001b[39;00m (\u001b[38;5;28mself\u001b[39m\u001b[38;5;241m.\u001b[39mclasses_\u001b[38;5;241m.\u001b[39msize \u001b[38;5;241m<\u001b[39m\u001b[38;5;241m=\u001b[39m \u001b[38;5;241m2\u001b[39m \u001b[38;5;129;01mor\u001b[39;00m \u001b[38;5;28mself\u001b[39m\u001b[38;5;241m.\u001b[39msolver \u001b[38;5;241m==\u001b[39m \u001b[38;5;124m\"\u001b[39m\u001b[38;5;124mliblinear\u001b[39m\u001b[38;5;124m\"\u001b[39m)\n\u001b[0;32m   1426\u001b[0m     )\n\u001b[0;32m   1427\u001b[0m     \u001b[38;5;28;01mif\u001b[39;00m ovr:\n",
      "File \u001b[1;32md:\\Code\\Reinforcement Learning\\venv\\Lib\\site-packages\\sklearn\\utils\\validation.py:1757\u001b[0m, in \u001b[0;36mcheck_is_fitted\u001b[1;34m(estimator, attributes, msg, all_or_any)\u001b[0m\n\u001b[0;32m   1754\u001b[0m     \u001b[38;5;28;01mreturn\u001b[39;00m\n\u001b[0;32m   1756\u001b[0m \u001b[38;5;28;01mif\u001b[39;00m \u001b[38;5;129;01mnot\u001b[39;00m _is_fitted(estimator, attributes, all_or_any):\n\u001b[1;32m-> 1757\u001b[0m     \u001b[38;5;28;01mraise\u001b[39;00m NotFittedError(msg \u001b[38;5;241m%\u001b[39m {\u001b[38;5;124m\"\u001b[39m\u001b[38;5;124mname\u001b[39m\u001b[38;5;124m\"\u001b[39m: \u001b[38;5;28mtype\u001b[39m(estimator)\u001b[38;5;241m.\u001b[39m\u001b[38;5;18m__name__\u001b[39m})\n",
      "\u001b[1;31mNotFittedError\u001b[0m: This LogisticRegression instance is not fitted yet. Call 'fit' with appropriate arguments before using this estimator."
     ]
    }
   ],
   "source": [
    "# predict the ranking of the unseen movies\n",
    "X = np.array(movies.drop(columns=\"like\")[movies.like.isna()])\n",
    "\n",
    "recommendations = model.predict_proba(X)[:, 1]\n",
    "recommendations = pd.Series(\n",
    "    recommendations, index=movies[movies.like.isna()].index\n",
    ").sort_values(ascending=False)\n",
    "\n",
    "display_posters(recommendations.index)"
   ]
  },
  {
   "cell_type": "markdown",
   "metadata": {},
   "source": [
    "## Analysis\n",
    "\n",
    "Finally, we would like to assess the quality of our bandit algorithm.\n",
    "\n",
    "## To do\n",
    "\n",
    "- Choose a user, that is a parameter $\\theta$ (vector of weights).\n",
    "- Provide the answers of this user to the movies proposed by the algorithm, assuming binary rewards, with mean\n",
    "  $$\n",
    "  q(a) = \\frac 1 {1 + e^{-\\theta^T a}}\n",
    "  $$\n",
    "  where $a$ is the action (= movie proposed by the algorithm).\n",
    "- Make sure that a reasonable fraction of movies are liked (e.g., between 10\\% and 90\\%). Otherwise, update $\\theta$.\n",
    "- Simulate an interaction of this user with the recommender system over 100 movies.\n",
    "- Compute the [Spearman's correlation coefficient](https://en.wikipedia.org/wiki/Spearman%27s_rank_correlation_coefficient) of the ranking of the unseen movies provided by the algorithm, compared to the ground-truth ranking.\n",
    "- Plot the evolution of this coefficient with respect to the number of movies seen by the user, from 1 to 100.\n",
    "- Give the top-3 and bottom-3 genres, as predicted by the model, and compare to the ground-truth.\n",
    "- Do the same experiments with other features (e.g., actors, actors + genres, actors + director + genres).\n"
   ]
  },
  {
   "cell_type": "code",
   "execution_count": 1126,
   "metadata": {},
   "outputs": [
    {
     "name": "stdout",
     "output_type": "stream",
     "text": [
      "Fraction of movies liked: 0.48\n"
     ]
    }
   ],
   "source": [
    "model = LogisticRegression(fit_intercept=False)\n",
    "\n",
    "movies = movies.assign(like=None)\n",
    "theta_user = np.random.randn(movies.drop(columns=\"like\").shape[1])\n",
    "\n",
    "# Initialize the model parameters\n",
    "model.coef_ = np.array([[0.0] * movies.drop(columns=\"like\").shape[1]])\n",
    "model.classes_ = np.array([0.0, 1.0])\n",
    "model.intercept_ = 0.0\n",
    "\n",
    "while True:\n",
    "    q_a = 1 / (1 + np.exp(-movies.drop(columns=\"like\").values @ theta_user))\n",
    "    if 0.1 <= np.mean(q_a) <= 0.9:\n",
    "        break\n",
    "    theta_user = np.random.randn(movies.drop(columns=\"like\").shape[1])\n",
    "\n",
    "print(f\"Fraction of movies liked: {np.mean(q_a):.2f}\")"
   ]
  },
  {
   "cell_type": "code",
   "execution_count": 1127,
   "metadata": {},
   "outputs": [],
   "source": [
    "def user_feedback(movies, theta_user):\n",
    "    q_a = 1 / (1 + np.exp(-movies @ theta_user))\n",
    "    return np.random.binomial(1, q_a)"
   ]
  },
  {
   "cell_type": "code",
   "execution_count": 1128,
   "metadata": {},
   "outputs": [],
   "source": [
    "def simulation(movies, n_movies=100):\n",
    "    spearman_correlations = []\n",
    "    movies_seen = []\n",
    "\n",
    "    for i in range(n_movies):\n",
    "        idx_new_movie = select_bayes(movies, model)\n",
    "\n",
    "        # simulate that the user has watched the movie and provided feedback (like / dislike)\n",
    "        movie_features = movies.loc[idx_new_movie].drop(labels=\"like\")\n",
    "        feedback = user_feedback(movie_features, theta_user)\n",
    "        movies.loc[idx_new_movie, \"like\"] = feedback\n",
    "        movies_seen.append(idx_new_movie)\n",
    "\n",
    "        unseen_movies = movies[movies.like.isna()]\n",
    "\n",
    "        # get the ranking of the unseen movies\n",
    "        model_ranking = model.predict_proba(\n",
    "            np.array(unseen_movies.drop(columns=\"like\"))\n",
    "        )[:, 1]\n",
    "        ground_truth_ranking = 1 / (\n",
    "            1 + np.exp(-unseen_movies.drop(columns=\"like\").values @ theta_user)\n",
    "        )\n",
    "\n",
    "        # remove the constants ranking made by the model\n",
    "        # if all the movies have the same ranking\n",
    "        # this means that the model has not been trained yet\n",
    "        if np.all(model_ranking == model_ranking[0]):\n",
    "            continue\n",
    "\n",
    "        spearman_corr, _ = spearmanr(model_ranking, ground_truth_ranking)\n",
    "        spearman_correlations.append(spearman_corr)\n",
    "\n",
    "    return spearman_correlations"
   ]
  },
  {
   "cell_type": "code",
   "execution_count": 1129,
   "metadata": {},
   "outputs": [],
   "source": [
    "def plot_spearman_correlation(spearman_correlations, title):\n",
    "    plt.figure(figsize=(10, 5))\n",
    "    plt.plot(spearman_correlations)\n",
    "    plt.xlabel(\"Number of movies watched\")\n",
    "    plt.ylabel(\"Spearman correlation\")\n",
    "    plt.title(title)\n",
    "    plt.show()"
   ]
  },
  {
   "cell_type": "code",
   "execution_count": 1130,
   "metadata": {},
   "outputs": [
    {
     "name": "stdout",
     "output_type": "stream",
     "text": [
      "93\n"
     ]
    },
    {
     "data": {
      "image/png": "[encoded data removed]",
      "text/plain": [
       "<Figure size 1000x500 with 1 Axes>"
      ]
     },
     "metadata": {},
     "output_type": "display_data"
    }
   ],
   "source": [
    "spearman_correlations = simulation(movies)\n",
    "print(len(spearman_correlations))\n",
    "plot_spearman_correlation(\n",
    "    spearman_correlations, \"Evolution of the Spearman correlation (only genre feature)\"\n",
    ")"
   ]
  },
  {
   "cell_type": "markdown",
   "metadata": {},
   "source": [
    "As we can see, the algorithm is able to learn the user preferences and provide good recommendations.\n",
    "\n",
    "The spearman correlation increases with the number of movies seen by the user, stabilizing at around 0.8.\n"
   ]
  },
  {
   "cell_type": "code",
   "execution_count": 1131,
   "metadata": {},
   "outputs": [
    {
     "name": "stdout",
     "output_type": "stream",
     "text": [
      "Top-3 genres predicted by the model: ['Horror' 'Drama' 'Comedy']\n",
      "Top-3 genres in the ground truth: ['Horror' 'Crime' 'Drama']\n",
      "\n",
      "Bottom-3 genres predicted by the model: ['Thriller' 'Music' 'Sci-Fi']\n",
      "Bottom-3 genres in the ground truth: ['Mystery' 'Action' 'Western']\n"
     ]
    }
   ],
   "source": [
    "top_3_model = model.coef_[0].argsort()[-3:][::-1]\n",
    "bottom_3_model = model.coef_[0].argsort()[:3]\n",
    "\n",
    "top_3_ground_truth = theta_user.argsort()[-3:][::-1]\n",
    "bottom_3_ground_truth = theta_user.argsort()[:3]\n",
    "\n",
    "print(f\"Top-3 genres predicted by the model: {movies.columns[top_3_model].values}\")\n",
    "print(f\"Top-3 genres in the ground truth: {movies.columns[top_3_ground_truth].values}\")\n",
    "\n",
    "print(\n",
    "    f\"\\nBottom-3 genres predicted by the model: {movies.columns[bottom_3_model].values}\"\n",
    ")\n",
    "print(\n",
    "    f\"Bottom-3 genres in the ground truth: {movies.columns[bottom_3_ground_truth].values}\"\n",
    ")"
   ]
  },
  {
   "cell_type": "markdown",
   "metadata": {},
   "source": [
    "We can confirm this finding by looking at the top-3 and bottom-3 genres, which are well predicted by the model.\n"
   ]
  },
  {
   "cell_type": "markdown",
   "metadata": {},
   "source": [
    "### Experimentation with other features\n"
   ]
  },
  {
   "cell_type": "markdown",
   "metadata": {},
   "source": [
    "#### Actors\n"
   ]
  },
  {
   "cell_type": "code",
   "execution_count": 1132,
   "metadata": {},
   "outputs": [
    {
     "name": "stdout",
     "output_type": "stream",
     "text": [
      "Fraction of movies liked: 0.49\n"
     ]
    }
   ],
   "source": [
    "model = LogisticRegression(fit_intercept=False)\n",
    "\n",
    "actor_movies = pd.DataFrame(\n",
    "    mlb.fit_transform(catalogue[\"Actors\"]), columns=mlb.classes_\n",
    ")\n",
    "actor_movies = actor_movies.assign(like=None)\n",
    "theta_user = np.random.randn(actor_movies.drop(columns=\"like\").shape[1])\n",
    "\n",
    "# Initialize the model parameters\n",
    "model.coef_ = np.array([[0.0] * actor_movies.drop(columns=\"like\").shape[1]])\n",
    "model.classes_ = np.array([0.0, 1.0])\n",
    "model.intercept_ = 0.0\n",
    "\n",
    "while True:\n",
    "    q_a = 1 / (1 + np.exp(-actor_movies.drop(columns=\"like\").values @ theta_user))\n",
    "    if 0.1 <= np.mean(q_a) <= 0.9:\n",
    "        break\n",
    "    theta_user = np.random.randn(actor_movies.drop(columns=\"like\").shape[1])\n",
    "\n",
    "print(f\"Fraction of movies liked: {np.mean(q_a):.2f}\")"
   ]
  },
  {
   "cell_type": "code",
   "execution_count": 1133,
   "metadata": {},
   "outputs": [
    {
     "data": {
      "image/png": "[encoded data removed]",
      "text/plain": [
       "<Figure size 1000x500 with 1 Axes>"
      ]
     },
     "metadata": {},
     "output_type": "display_data"
    }
   ],
   "source": [
    "spearman_correlations = simulation(actor_movies)\n",
    "plot_spearman_correlation(\n",
    "    spearman_correlations, \"Evolution of the Spearman correlation (only actors feature)\"\n",
    ")"
   ]
  },
  {
   "cell_type": "markdown",
   "metadata": {},
   "source": [
    "Here we use the actors as features. We can see that the algorithm is able to learn the user preferences.\n",
    "\n",
    "With 100 movies seen, the Spearman correlation isn't as high as with genres. We have low but still increasing values. This indicates that the actors are less discriminative than the genres.\n",
    "\n",
    "In order to improve the performance, we could train the model on more data.\n"
   ]
  },
  {
   "cell_type": "markdown",
   "metadata": {},
   "source": [
    "#### Actors + Genres\n"
   ]
  },
  {
   "cell_type": "code",
   "execution_count": 1134,
   "metadata": {},
   "outputs": [
    {
     "name": "stdout",
     "output_type": "stream",
     "text": [
      "Fraction of movies liked: 0.58\n"
     ]
    }
   ],
   "source": [
    "model = LogisticRegression(fit_intercept=False)\n",
    "\n",
    "actor_movies = pd.DataFrame(\n",
    "    mlb.fit_transform(catalogue[\"Actors\"]), columns=mlb.classes_\n",
    ")\n",
    "genre_movies = pd.DataFrame(mlb.fit_transform(catalogue[\"Genre\"]), columns=mlb.classes_)\n",
    "actor_genre_movies = pd.concat([actor_movies, genre_movies], axis=1)\n",
    "actor_genre_movies = actor_genre_movies.assign(like=None)\n",
    "theta_user = np.random.randn(actor_genre_movies.drop(columns=\"like\").shape[1])\n",
    "\n",
    "# Initialize the model parameters\n",
    "model.coef_ = np.array([[0.0] * actor_genre_movies.drop(columns=\"like\").shape[1]])\n",
    "model.classes_ = np.array([0.0, 1.0])\n",
    "model.intercept_ = 0.0\n",
    "\n",
    "while True:\n",
    "    q_a = 1 / (1 + np.exp(-actor_genre_movies.drop(columns=\"like\").values @ theta_user))\n",
    "    if 0.1 <= np.mean(q_a) <= 0.9:\n",
    "        break\n",
    "    theta_user = np.random.randn(actor_genre_movies.drop(columns=\"like\").shape[1])\n",
    "\n",
    "print(f\"Fraction of movies liked: {np.mean(q_a):.2f}\")"
   ]
  },
  {
   "cell_type": "code",
   "execution_count": 1135,
   "metadata": {},
   "outputs": [
    {
     "data": {
      "image/png": "[encoded data removed]",
      "text/plain": [
       "<Figure size 1000x500 with 1 Axes>"
      ]
     },
     "metadata": {},
     "output_type": "display_data"
    }
   ],
   "source": [
    "spearman_correlations = simulation(actor_genre_movies)\n",
    "plot_spearman_correlation(\n",
    "    spearman_correlations,\n",
    "    \"Evolution of the Spearman correlation (actors and genre features)\",\n",
    ")"
   ]
  },
  {
   "cell_type": "markdown",
   "metadata": {},
   "source": [
    "In this case, we use both actors and genres as features. The Spearman correlation is higher than with actors only, but lower than with genres only.\n"
   ]
  },
  {
   "cell_type": "markdown",
   "metadata": {},
   "source": [
    "#### Actors + Genres + Directors\n"
   ]
  },
  {
   "cell_type": "code",
   "execution_count": 1136,
   "metadata": {},
   "outputs": [
    {
     "name": "stdout",
     "output_type": "stream",
     "text": [
      "Fraction of movies liked: 0.63\n"
     ]
    }
   ],
   "source": [
    "model = LogisticRegression(fit_intercept=False)\n",
    "\n",
    "actor_movies = pd.DataFrame(\n",
    "    mlb.fit_transform(catalogue[\"Actors\"]), columns=mlb.classes_\n",
    ")\n",
    "genre_movies = pd.DataFrame(mlb.fit_transform(catalogue[\"Genre\"]), columns=mlb.classes_)\n",
    "director_movies = pd.DataFrame(\n",
    "    mlb.fit_transform(catalogue[\"Director\"]), columns=mlb.classes_\n",
    ")\n",
    "actor_genre_director_movies = pd.concat(\n",
    "    [actor_movies, genre_movies, director_movies], axis=1\n",
    ")\n",
    "actor_genre_director_movies = actor_genre_director_movies.assign(like=None)\n",
    "theta_user = np.random.randn(actor_genre_director_movies.drop(columns=\"like\").shape[1])\n",
    "\n",
    "# Initialize the model parameters\n",
    "model.coef_ = np.array(\n",
    "    [[0.0] * actor_genre_director_movies.drop(columns=\"like\").shape[1]]\n",
    ")\n",
    "model.classes_ = np.array([0.0, 1.0])\n",
    "model.intercept_ = 0.0\n",
    "\n",
    "while True:\n",
    "    q_a = 1 / (\n",
    "        1\n",
    "        + np.exp(-actor_genre_director_movies.drop(columns=\"like\").values @ theta_user)\n",
    "    )\n",
    "    if 0.1 <= np.mean(q_a) <= 0.9:\n",
    "        break\n",
    "    theta_user = np.random.randn(\n",
    "        actor_genre_director_movies.drop(columns=\"like\").shape[1]\n",
    "    )\n",
    "\n",
    "print(f\"Fraction of movies liked: {np.mean(q_a):.2f}\")"
   ]
  },
  {
   "cell_type": "code",
   "execution_count": 1137,
   "metadata": {},
   "outputs": [
    {
     "data": {
      "image/png": "[encoded data removed]",
      "text/plain": [
       "<Figure size 1000x500 with 1 Axes>"
      ]
     },
     "metadata": {},
     "output_type": "display_data"
    }
   ],
   "source": [
    "spearman_correlations = simulation(actor_genre_director_movies)\n",
    "plot_spearman_correlation(\n",
    "    spearman_correlations,\n",
    "    \"Evolution of the Spearman correlation (actors, genre and director features)\",\n",
    ")"
   ]
  },
  {
   "cell_type": "markdown",
   "metadata": {},
   "source": [
    "The results are similar to the previous case, with a slightly higher Spearman correlation.\n",
    "\n",
    "This tells us that adding the director doesn't improve the performance of the model.\n",
    "\n",
    "In all the mixed cases, we have seen that the genres are the most discriminative features, and adding other features is adding noise more than information.\n"
   ]
  }
 ],
 "metadata": {
  "kernelspec": {
   "display_name": "venv",
   "language": "python",
   "name": "python3"
  },
  "language_info": {
   "codemirror_mode": {
    "name": "ipython",
    "version": 3
   },
   "file_extension": ".py",
   "mimetype": "text/x-python",
   "name": "python",
   "nbconvert_exporter": "python",
   "pygments_lexer": "ipython3",
   "version": "3.12.6"
  }
 },
 "nbformat": 4,
 "nbformat_minor": 4
}
