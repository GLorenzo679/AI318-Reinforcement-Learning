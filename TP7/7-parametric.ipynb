{
 "cells": [
  {
   "cell_type": "markdown",
   "metadata": {},
   "source": [
    "# Reinforcement Learning\n",
    "\n",
    "# 7. Parametric Bandits\n"
   ]
  },
  {
   "cell_type": "markdown",
   "metadata": {},
   "source": [
    "The objective of this lab is to recommend contents (here movies) using **parametric bandits**. The rewards are binary (like or dislike).\n"
   ]
  },
  {
   "cell_type": "markdown",
   "metadata": {},
   "source": [
    "## Imports\n"
   ]
  },
  {
   "cell_type": "code",
   "execution_count": 37,
   "metadata": {},
   "outputs": [],
   "source": [
    "import numpy as np\n",
    "import pandas as pd\n",
    "\n",
    "import matplotlib.pyplot as plt"
   ]
  },
  {
   "cell_type": "markdown",
   "metadata": {},
   "source": [
    "You will need `ipywidgets` to simulate the interactions with the user.\n"
   ]
  },
  {
   "cell_type": "code",
   "execution_count": 38,
   "metadata": {},
   "outputs": [],
   "source": [
    "#!pip install ipywidgets"
   ]
  },
  {
   "cell_type": "code",
   "execution_count": 39,
   "metadata": {},
   "outputs": [],
   "source": [
    "from ipywidgets import AppLayout, Button, GridspecLayout, Image, Layout"
   ]
  },
  {
   "cell_type": "code",
   "execution_count": 40,
   "metadata": {},
   "outputs": [],
   "source": [
    "#!pip install scikit-learn"
   ]
  },
  {
   "cell_type": "code",
   "execution_count": 41,
   "metadata": {},
   "outputs": [],
   "source": [
    "from sklearn.linear_model import LogisticRegression\n",
    "from sklearn.preprocessing import MultiLabelBinarizer\n",
    "from scipy.stats import spearmanr"
   ]
  },
  {
   "cell_type": "markdown",
   "metadata": {},
   "source": [
    "## Data\n"
   ]
  },
  {
   "cell_type": "markdown",
   "metadata": {},
   "source": [
    "We work on a catalogue of 1037 movies available in 2015.\n"
   ]
  },
  {
   "cell_type": "code",
   "execution_count": 42,
   "metadata": {},
   "outputs": [],
   "source": [
    "catalogue = pd.read_pickle(\"./data/movie_database.pickle\")"
   ]
  },
  {
   "cell_type": "code",
   "execution_count": 43,
   "metadata": {},
   "outputs": [
    {
     "data": {
      "text/plain": [
       "1037"
      ]
     },
     "execution_count": 43,
     "metadata": {},
     "output_type": "execute_result"
    }
   ],
   "source": [
    "len(catalogue)"
   ]
  },
  {
   "cell_type": "code",
   "execution_count": 44,
   "metadata": {},
   "outputs": [
    {
     "data": {
      "text/html": [
       "<div>\n",
       "<style scoped>\n",
       "    .dataframe tbody tr th:only-of-type {\n",
       "        vertical-align: middle;\n",
       "    }\n",
       "\n",
       "    .dataframe tbody tr th {\n",
       "        vertical-align: top;\n",
       "    }\n",
       "\n",
       "    .dataframe thead th {\n",
       "        text-align: right;\n",
       "    }\n",
       "</style>\n",
       "<table border=\"1\" class=\"dataframe\">\n",
       "  <thead>\n",
       "    <tr style=\"text-align: right;\">\n",
       "      <th></th>\n",
       "      <th>Actors</th>\n",
       "      <th>Awards</th>\n",
       "      <th>Country</th>\n",
       "      <th>Director</th>\n",
       "      <th>Genre</th>\n",
       "      <th>Language</th>\n",
       "      <th>Rated</th>\n",
       "      <th>Released</th>\n",
       "      <th>Title</th>\n",
       "      <th>imdbID</th>\n",
       "      <th>imdbRating</th>\n",
       "      <th>Metascore</th>\n",
       "      <th>Box_office</th>\n",
       "      <th>imdbVotes</th>\n",
       "      <th>Runtime</th>\n",
       "      <th>poster</th>\n",
       "    </tr>\n",
       "  </thead>\n",
       "  <tbody>\n",
       "    <tr>\n",
       "      <th>0</th>\n",
       "      <td>[Mark Hamill, Harrison Ford, Carrie Fisher, Bi...</td>\n",
       "      <td>Won 1 Oscar. Another 15 wins &amp; 18 nominations.</td>\n",
       "      <td>[USA]</td>\n",
       "      <td>[Irvin Kershner]</td>\n",
       "      <td>[Action, Adventure, Fantasy]</td>\n",
       "      <td>[English]</td>\n",
       "      <td>[PG]</td>\n",
       "      <td>1980-06-20</td>\n",
       "      <td>Star Wars: Episode V - The Empire Strikes Back</td>\n",
       "      <td>tt0080684</td>\n",
       "      <td>8.8</td>\n",
       "      <td>79.0</td>\n",
       "      <td>290158751.0</td>\n",
       "      <td>799579.0</td>\n",
       "      <td>124.0</td>\n",
       "      <td>b'\\xff\\xd8\\xff\\xe0\\x00\\x10JFIF\\x00\\x01\\x01\\x00...</td>\n",
       "    </tr>\n",
       "    <tr>\n",
       "      <th>1</th>\n",
       "      <td>[Kareem Abdul-Jabbar, Lloyd Bridges, Peter Gra...</td>\n",
       "      <td>Nominated for 1 Golden Globe. Another 2 wins &amp;...</td>\n",
       "      <td>[USA]</td>\n",
       "      <td>[Jim Abrahams, David Zucker, Jerry Zucker]</td>\n",
       "      <td>[Comedy]</td>\n",
       "      <td>[English]</td>\n",
       "      <td>[PG]</td>\n",
       "      <td>1980-07-02</td>\n",
       "      <td>Airplane!</td>\n",
       "      <td>tt0080339</td>\n",
       "      <td>7.8</td>\n",
       "      <td>NaN</td>\n",
       "      <td>83400000.0</td>\n",
       "      <td>154994.0</td>\n",
       "      <td>88.0</td>\n",
       "      <td>b'\\xff\\xd8\\xff\\xe0\\x00\\x10JFIF\\x00\\x01\\x01\\x00...</td>\n",
       "    </tr>\n",
       "    <tr>\n",
       "      <th>2</th>\n",
       "      <td>[John Belushi, Dan Aykroyd, James Brown, Cab C...</td>\n",
       "      <td>1 win.</td>\n",
       "      <td>[USA]</td>\n",
       "      <td>[John Landis]</td>\n",
       "      <td>[Action, Comedy, Crime]</td>\n",
       "      <td>[English]</td>\n",
       "      <td>[R]</td>\n",
       "      <td>1980-06-20</td>\n",
       "      <td>The Blues Brothers</td>\n",
       "      <td>tt0080455</td>\n",
       "      <td>7.9</td>\n",
       "      <td>NaN</td>\n",
       "      <td>54200000.0</td>\n",
       "      <td>138196.0</td>\n",
       "      <td>133.0</td>\n",
       "      <td>b'\\xff\\xd8\\xff\\xe0\\x00\\x10JFIF\\x00\\x01\\x01\\x00...</td>\n",
       "    </tr>\n",
       "    <tr>\n",
       "      <th>3</th>\n",
       "      <td>[Jack Nicholson, Shelley Duvall, Danny Lloyd, ...</td>\n",
       "      <td>3 wins &amp; 5 nominations.</td>\n",
       "      <td>[USA, UK]</td>\n",
       "      <td>[Stanley Kubrick]</td>\n",
       "      <td>[Drama, Horror]</td>\n",
       "      <td>[English]</td>\n",
       "      <td>[R]</td>\n",
       "      <td>1980-05-23</td>\n",
       "      <td>The Shining</td>\n",
       "      <td>tt0081505</td>\n",
       "      <td>8.4</td>\n",
       "      <td>61.0</td>\n",
       "      <td>NaN</td>\n",
       "      <td>584323.0</td>\n",
       "      <td>146.0</td>\n",
       "      <td>b'\\xff\\xd8\\xff\\xe0\\x00\\x10JFIF\\x00\\x01\\x01\\x00...</td>\n",
       "    </tr>\n",
       "    <tr>\n",
       "      <th>4</th>\n",
       "      <td>[Anthony Hopkins, John Hurt, Anne Bancroft, Jo...</td>\n",
       "      <td>Nominated for 8 Oscars. Another 10 wins &amp; 14 n...</td>\n",
       "      <td>[USA, UK]</td>\n",
       "      <td>[David Lynch]</td>\n",
       "      <td>[Biography, Drama]</td>\n",
       "      <td>[English]</td>\n",
       "      <td>[PG]</td>\n",
       "      <td>1980-10-10</td>\n",
       "      <td>The Elephant Man</td>\n",
       "      <td>tt0080678</td>\n",
       "      <td>8.2</td>\n",
       "      <td>NaN</td>\n",
       "      <td>NaN</td>\n",
       "      <td>156572.0</td>\n",
       "      <td>124.0</td>\n",
       "      <td>b'\\xff\\xd8\\xff\\xe0\\x00\\x10JFIF\\x00\\x01\\x01\\x00...</td>\n",
       "    </tr>\n",
       "  </tbody>\n",
       "</table>\n",
       "</div>"
      ],
      "text/plain": [
       "                                              Actors  \\\n",
       "0  [Mark Hamill, Harrison Ford, Carrie Fisher, Bi...   \n",
       "1  [Kareem Abdul-Jabbar, Lloyd Bridges, Peter Gra...   \n",
       "2  [John Belushi, Dan Aykroyd, James Brown, Cab C...   \n",
       "3  [Jack Nicholson, Shelley Duvall, Danny Lloyd, ...   \n",
       "4  [Anthony Hopkins, John Hurt, Anne Bancroft, Jo...   \n",
       "\n",
       "                                              Awards    Country  \\\n",
       "0     Won 1 Oscar. Another 15 wins & 18 nominations.      [USA]   \n",
       "1  Nominated for 1 Golden Globe. Another 2 wins &...      [USA]   \n",
       "2                                             1 win.      [USA]   \n",
       "3                            3 wins & 5 nominations.  [USA, UK]   \n",
       "4  Nominated for 8 Oscars. Another 10 wins & 14 n...  [USA, UK]   \n",
       "\n",
       "                                     Director                         Genre  \\\n",
       "0                            [Irvin Kershner]  [Action, Adventure, Fantasy]   \n",
       "1  [Jim Abrahams, David Zucker, Jerry Zucker]                      [Comedy]   \n",
       "2                               [John Landis]       [Action, Comedy, Crime]   \n",
       "3                           [Stanley Kubrick]               [Drama, Horror]   \n",
       "4                               [David Lynch]            [Biography, Drama]   \n",
       "\n",
       "    Language Rated   Released                                           Title  \\\n",
       "0  [English]  [PG] 1980-06-20  Star Wars: Episode V - The Empire Strikes Back   \n",
       "1  [English]  [PG] 1980-07-02                                       Airplane!   \n",
       "2  [English]   [R] 1980-06-20                              The Blues Brothers   \n",
       "3  [English]   [R] 1980-05-23                                     The Shining   \n",
       "4  [English]  [PG] 1980-10-10                                The Elephant Man   \n",
       "\n",
       "      imdbID  imdbRating  Metascore   Box_office  imdbVotes  Runtime  \\\n",
       "0  tt0080684         8.8       79.0  290158751.0   799579.0    124.0   \n",
       "1  tt0080339         7.8        NaN   83400000.0   154994.0     88.0   \n",
       "2  tt0080455         7.9        NaN   54200000.0   138196.0    133.0   \n",
       "3  tt0081505         8.4       61.0          NaN   584323.0    146.0   \n",
       "4  tt0080678         8.2        NaN          NaN   156572.0    124.0   \n",
       "\n",
       "                                              poster  \n",
       "0  b'\\xff\\xd8\\xff\\xe0\\x00\\x10JFIF\\x00\\x01\\x01\\x00...  \n",
       "1  b'\\xff\\xd8\\xff\\xe0\\x00\\x10JFIF\\x00\\x01\\x01\\x00...  \n",
       "2  b'\\xff\\xd8\\xff\\xe0\\x00\\x10JFIF\\x00\\x01\\x01\\x00...  \n",
       "3  b'\\xff\\xd8\\xff\\xe0\\x00\\x10JFIF\\x00\\x01\\x01\\x00...  \n",
       "4  b'\\xff\\xd8\\xff\\xe0\\x00\\x10JFIF\\x00\\x01\\x01\\x00...  "
      ]
     },
     "execution_count": 44,
     "metadata": {},
     "output_type": "execute_result"
    }
   ],
   "source": [
    "catalogue.head()"
   ]
  },
  {
   "cell_type": "markdown",
   "metadata": {},
   "source": [
    "The features are the following:\n",
    "\n",
    "| Column     | Description                                      | Type             |\n",
    "| :--------- | :----------------------------------------------- | :--------------- |\n",
    "| Actors     | Actors staring                                   |  list of strings |\n",
    "| Awards     | Awards received                                  |  string          |\n",
    "| Country    | Country of origin                                | list of strings  |\n",
    "| Director   | Director(s) of the movie                         | list of strings  |\n",
    "| Genre      | Genres (Action, ...)                             | list of strings  |\n",
    "| Language   | Language(s) spoken                               | list of strings  |\n",
    "| Rated      | Public rating (G = General, R = Restricted, ...) |  list of strings |\n",
    "| Released   | Date of the movie                                |  date            |\n",
    "| Title      | Title of the movie                               | string           |\n",
    "| imdbID     | IMDB id                                          | string           |\n",
    "| imdbRating | IMDB rating (between 0 and 10)                   |  float           |\n",
    "| Metascore  | Metacritic score (between 0 and 100)             | float            |\n",
    "| Box_office | Total money generated                            | float            |\n",
    "| imdbVotes  | Number of IMDB votes                             |  float           |\n",
    "| Runtime    |  Duration of the movie (in minutes)              | float            |\n",
    "| poster     |  Poster of the movie (jpg)                       |  binary string   |\n"
   ]
  },
  {
   "cell_type": "code",
   "execution_count": 45,
   "metadata": {},
   "outputs": [],
   "source": [
    "# Display the posters\n",
    "def get_poster(k, scale=1):\n",
    "    return Image(\n",
    "        value=catalogue.loc[k].poster,\n",
    "        format=\"jpg\",\n",
    "        width=130 * scale,\n",
    "        height=200 * scale,\n",
    "    )\n",
    "\n",
    "\n",
    "def display_posters(index=None, n_col=5, n_rows=4):\n",
    "    if index is None:\n",
    "        index = np.arange(len(catalogue))\n",
    "    if len(index):\n",
    "        n_rows = min(n_rows, int(np.ceil(len(index) / n_col)))\n",
    "        grid = GridspecLayout(n_rows, n_col)\n",
    "        k = 0\n",
    "        for i in range(n_rows):\n",
    "            for j in range(n_col):\n",
    "                if k < len(index):\n",
    "                    grid[i, j] = get_poster(index[k])\n",
    "                k += 1\n",
    "        return grid"
   ]
  },
  {
   "cell_type": "code",
   "execution_count": 46,
   "metadata": {},
   "outputs": [
    {
     "data": {
      "application/vnd.jupyter.widget-view+json": {
       "model_id": "6a43dcfa18234d3aa8ff1b6d9c24ccaf",
       "version_major": 2,
       "version_minor": 0
      },
      "text/plain": [
       "GridspecLayout(children=(Image(value=b'\\xff\\xd8\\xff\\xe0\\x00\\x10JFIF\\x00\\x01\\x01\\x00\\x00\\x01\\x00\\x01\\x00\\x00\\xf…"
      ]
     },
     "execution_count": 46,
     "metadata": {},
     "output_type": "execute_result"
    }
   ],
   "source": [
    "display_posters()"
   ]
  },
  {
   "cell_type": "markdown",
   "metadata": {},
   "source": [
    "## Features\n",
    "\n",
    "We will describe each movie by some features, for instance its genre.\n"
   ]
  },
  {
   "cell_type": "code",
   "execution_count": 47,
   "metadata": {},
   "outputs": [],
   "source": [
    "mlb = MultiLabelBinarizer()"
   ]
  },
  {
   "cell_type": "code",
   "execution_count": 48,
   "metadata": {},
   "outputs": [],
   "source": [
    "movies = pd.DataFrame(mlb.fit_transform(catalogue[\"Genre\"]), columns=mlb.classes_)"
   ]
  },
  {
   "cell_type": "code",
   "execution_count": 49,
   "metadata": {},
   "outputs": [
    {
     "data": {
      "text/html": [
       "<div>\n",
       "<style scoped>\n",
       "    .dataframe tbody tr th:only-of-type {\n",
       "        vertical-align: middle;\n",
       "    }\n",
       "\n",
       "    .dataframe tbody tr th {\n",
       "        vertical-align: top;\n",
       "    }\n",
       "\n",
       "    .dataframe thead th {\n",
       "        text-align: right;\n",
       "    }\n",
       "</style>\n",
       "<table border=\"1\" class=\"dataframe\">\n",
       "  <thead>\n",
       "    <tr style=\"text-align: right;\">\n",
       "      <th></th>\n",
       "      <th>Action</th>\n",
       "      <th>Adventure</th>\n",
       "      <th>Animation</th>\n",
       "      <th>Biography</th>\n",
       "      <th>Comedy</th>\n",
       "      <th>Crime</th>\n",
       "      <th>Documentary</th>\n",
       "      <th>Drama</th>\n",
       "      <th>Family</th>\n",
       "      <th>Fantasy</th>\n",
       "      <th>...</th>\n",
       "      <th>Horror</th>\n",
       "      <th>Music</th>\n",
       "      <th>Musical</th>\n",
       "      <th>Mystery</th>\n",
       "      <th>Romance</th>\n",
       "      <th>Sci-Fi</th>\n",
       "      <th>Sport</th>\n",
       "      <th>Thriller</th>\n",
       "      <th>War</th>\n",
       "      <th>Western</th>\n",
       "    </tr>\n",
       "  </thead>\n",
       "  <tbody>\n",
       "    <tr>\n",
       "      <th>0</th>\n",
       "      <td>1</td>\n",
       "      <td>1</td>\n",
       "      <td>0</td>\n",
       "      <td>0</td>\n",
       "      <td>0</td>\n",
       "      <td>0</td>\n",
       "      <td>0</td>\n",
       "      <td>0</td>\n",
       "      <td>0</td>\n",
       "      <td>1</td>\n",
       "      <td>...</td>\n",
       "      <td>0</td>\n",
       "      <td>0</td>\n",
       "      <td>0</td>\n",
       "      <td>0</td>\n",
       "      <td>0</td>\n",
       "      <td>0</td>\n",
       "      <td>0</td>\n",
       "      <td>0</td>\n",
       "      <td>0</td>\n",
       "      <td>0</td>\n",
       "    </tr>\n",
       "    <tr>\n",
       "      <th>1</th>\n",
       "      <td>0</td>\n",
       "      <td>0</td>\n",
       "      <td>0</td>\n",
       "      <td>0</td>\n",
       "      <td>1</td>\n",
       "      <td>0</td>\n",
       "      <td>0</td>\n",
       "      <td>0</td>\n",
       "      <td>0</td>\n",
       "      <td>0</td>\n",
       "      <td>...</td>\n",
       "      <td>0</td>\n",
       "      <td>0</td>\n",
       "      <td>0</td>\n",
       "      <td>0</td>\n",
       "      <td>0</td>\n",
       "      <td>0</td>\n",
       "      <td>0</td>\n",
       "      <td>0</td>\n",
       "      <td>0</td>\n",
       "      <td>0</td>\n",
       "    </tr>\n",
       "    <tr>\n",
       "      <th>2</th>\n",
       "      <td>1</td>\n",
       "      <td>0</td>\n",
       "      <td>0</td>\n",
       "      <td>0</td>\n",
       "      <td>1</td>\n",
       "      <td>1</td>\n",
       "      <td>0</td>\n",
       "      <td>0</td>\n",
       "      <td>0</td>\n",
       "      <td>0</td>\n",
       "      <td>...</td>\n",
       "      <td>0</td>\n",
       "      <td>0</td>\n",
       "      <td>0</td>\n",
       "      <td>0</td>\n",
       "      <td>0</td>\n",
       "      <td>0</td>\n",
       "      <td>0</td>\n",
       "      <td>0</td>\n",
       "      <td>0</td>\n",
       "      <td>0</td>\n",
       "    </tr>\n",
       "    <tr>\n",
       "      <th>3</th>\n",
       "      <td>0</td>\n",
       "      <td>0</td>\n",
       "      <td>0</td>\n",
       "      <td>0</td>\n",
       "      <td>0</td>\n",
       "      <td>0</td>\n",
       "      <td>0</td>\n",
       "      <td>1</td>\n",
       "      <td>0</td>\n",
       "      <td>0</td>\n",
       "      <td>...</td>\n",
       "      <td>1</td>\n",
       "      <td>0</td>\n",
       "      <td>0</td>\n",
       "      <td>0</td>\n",
       "      <td>0</td>\n",
       "      <td>0</td>\n",
       "      <td>0</td>\n",
       "      <td>0</td>\n",
       "      <td>0</td>\n",
       "      <td>0</td>\n",
       "    </tr>\n",
       "    <tr>\n",
       "      <th>4</th>\n",
       "      <td>0</td>\n",
       "      <td>0</td>\n",
       "      <td>0</td>\n",
       "      <td>1</td>\n",
       "      <td>0</td>\n",
       "      <td>0</td>\n",
       "      <td>0</td>\n",
       "      <td>1</td>\n",
       "      <td>0</td>\n",
       "      <td>0</td>\n",
       "      <td>...</td>\n",
       "      <td>0</td>\n",
       "      <td>0</td>\n",
       "      <td>0</td>\n",
       "      <td>0</td>\n",
       "      <td>0</td>\n",
       "      <td>0</td>\n",
       "      <td>0</td>\n",
       "      <td>0</td>\n",
       "      <td>0</td>\n",
       "      <td>0</td>\n",
       "    </tr>\n",
       "  </tbody>\n",
       "</table>\n",
       "<p>5 rows × 21 columns</p>\n",
       "</div>"
      ],
      "text/plain": [
       "   Action  Adventure  Animation  Biography  Comedy  Crime  Documentary  Drama  \\\n",
       "0       1          1          0          0       0      0            0      0   \n",
       "1       0          0          0          0       1      0            0      0   \n",
       "2       1          0          0          0       1      1            0      0   \n",
       "3       0          0          0          0       0      0            0      1   \n",
       "4       0          0          0          1       0      0            0      1   \n",
       "\n",
       "   Family  Fantasy  ...  Horror  Music  Musical  Mystery  Romance  Sci-Fi  \\\n",
       "0       0        1  ...       0      0        0        0        0       0   \n",
       "1       0        0  ...       0      0        0        0        0       0   \n",
       "2       0        0  ...       0      0        0        0        0       0   \n",
       "3       0        0  ...       1      0        0        0        0       0   \n",
       "4       0        0  ...       0      0        0        0        0       0   \n",
       "\n",
       "   Sport  Thriller  War  Western  \n",
       "0      0         0    0        0  \n",
       "1      0         0    0        0  \n",
       "2      0         0    0        0  \n",
       "3      0         0    0        0  \n",
       "4      0         0    0        0  \n",
       "\n",
       "[5 rows x 21 columns]"
      ]
     },
     "execution_count": 49,
     "metadata": {},
     "output_type": "execute_result"
    }
   ],
   "source": [
    "movies.head()"
   ]
  },
  {
   "cell_type": "code",
   "execution_count": 50,
   "metadata": {},
   "outputs": [
    {
     "data": {
      "text/plain": [
       "Index(['Action', 'Adventure', 'Animation', 'Biography', 'Comedy', 'Crime',\n",
       "       'Documentary', 'Drama', 'Family', 'Fantasy', 'History', 'Horror',\n",
       "       'Music', 'Musical', 'Mystery', 'Romance', 'Sci-Fi', 'Sport', 'Thriller',\n",
       "       'War', 'Western'],\n",
       "      dtype='object')"
      ]
     },
     "execution_count": 50,
     "metadata": {},
     "output_type": "execute_result"
    }
   ],
   "source": [
    "movies.columns"
   ]
  },
  {
   "cell_type": "markdown",
   "metadata": {},
   "source": [
    "## User\n",
    "\n",
    "Each user will be modeled by a vector of weights (positive or negative) on each feature.\n"
   ]
  },
  {
   "cell_type": "code",
   "execution_count": 51,
   "metadata": {},
   "outputs": [],
   "source": [
    "user = pd.DataFrame(0, index=[0], columns=movies.columns)\n",
    "user[\"Action\"] = 2\n",
    "user[\"Crime\"] = 1\n",
    "user[\"Sci-Fi\"] = -2"
   ]
  },
  {
   "cell_type": "markdown",
   "metadata": {},
   "source": [
    "## To do\n",
    "\n",
    "- Display the favorite movies of this user.\n",
    "- Test another user, and quantify their similarity (e.g., proportion of common top-100 movies).\n"
   ]
  },
  {
   "cell_type": "code",
   "execution_count": 52,
   "metadata": {},
   "outputs": [
    {
     "data": {
      "application/vnd.jupyter.widget-view+json": {
       "model_id": "a9123cb3a1544a439b92f082b82349a6",
       "version_major": 2,
       "version_minor": 0
      },
      "text/plain": [
       "GridspecLayout(children=(Image(value=b'\\xff\\xd8\\xff\\xe0\\x00\\x10JFIF\\x00\\x01\\x01\\x00\\x00\\x01\\x00\\x01\\x00\\x00\\xf…"
      ]
     },
     "execution_count": 52,
     "metadata": {},
     "output_type": "execute_result"
    }
   ],
   "source": [
    "preferences = (movies.dot(user.T)).sort_values(0, ascending=False)\n",
    "display_posters(preferences.index)"
   ]
  },
  {
   "cell_type": "code",
   "execution_count": 53,
   "metadata": {},
   "outputs": [],
   "source": [
    "user2 = pd.DataFrame(0, index=[0], columns=movies.columns)\n",
    "user2[\"Action\"] = 3\n",
    "user2[\"Fantasy\"] = -2"
   ]
  },
  {
   "cell_type": "code",
   "execution_count": 54,
   "metadata": {},
   "outputs": [],
   "source": [
    "def compute_user_similarity(user1, user2):\n",
    "    preferences1 = (movies.dot(user1.T)).sort_values(0, ascending=False)[:100]\n",
    "    preferences2 = (movies.dot(user2.T)).sort_values(0, ascending=False)[:100]\n",
    "\n",
    "    common_movies = preferences1.index.intersection(preferences2.index)\n",
    "    return len(common_movies) / 100"
   ]
  },
  {
   "cell_type": "code",
   "execution_count": 55,
   "metadata": {},
   "outputs": [
    {
     "name": "stdout",
     "output_type": "stream",
     "text": [
      "Proportion of top-100 movies in common: 0.31\n"
     ]
    }
   ],
   "source": [
    "print(f\"Proportion of top-100 movies in common: {compute_user_similarity(user, user2)}\")"
   ]
  },
  {
   "cell_type": "markdown",
   "metadata": {},
   "source": [
    "## Offline learning\n",
    "\n",
    "We start with offline learning. There are 2 steps:\n",
    "\n",
    "1. Collect the user's opinion on a few movies (e.g., 10)\n",
    "2. Rank the other movies by logistic regression.\n",
    "\n",
    "Let's test that.\n"
   ]
  },
  {
   "cell_type": "code",
   "execution_count": 56,
   "metadata": {},
   "outputs": [],
   "source": [
    "# Add a column to record the user's opinion (like / dislike)\n",
    "movies = movies.assign(like=None)"
   ]
  },
  {
   "cell_type": "code",
   "execution_count": 57,
   "metadata": {},
   "outputs": [],
   "source": [
    "# Select a random movie (not yet seen by the user)\n",
    "def select_random_movie():\n",
    "    index = np.flatnonzero(movies.like.isna())\n",
    "    if len(index):\n",
    "        return np.random.choice(index)\n",
    "    else:\n",
    "        return np.random.choice(len(movies))"
   ]
  },
  {
   "cell_type": "code",
   "execution_count": 58,
   "metadata": {},
   "outputs": [],
   "source": [
    "# Create buttons\n",
    "def create_expanded_button(description, button_style):\n",
    "    return Button(description=description, button_style=button_style, layout=Layout())\n",
    "\n",
    "\n",
    "def update_likes(button):\n",
    "    global movie_id\n",
    "    movies.loc[movie_id, \"like\"] = button.description == \"like\"\n",
    "\n",
    "\n",
    "def update_poster():\n",
    "    global movie_id\n",
    "    img.value = catalogue.loc[movie_id].poster\n",
    "\n",
    "\n",
    "def on_button_clicked(button):\n",
    "    global movie_id\n",
    "    update_likes(button)\n",
    "    movie_id = select_random_movie()\n",
    "    update_poster()"
   ]
  },
  {
   "cell_type": "code",
   "execution_count": 59,
   "metadata": {
    "scrolled": true
   },
   "outputs": [
    {
     "data": {
      "application/vnd.jupyter.widget-view+json": {
       "model_id": "043a5274a693440ebaf3e0e28f1ec768",
       "version_major": 2,
       "version_minor": 0
      },
      "text/plain": [
       "AppLayout(children=(Button(button_style='success', description='like', layout=Layout(grid_area='left-sidebar')…"
      ]
     },
     "execution_count": 59,
     "metadata": {},
     "output_type": "execute_result"
    }
   ],
   "source": [
    "# Setting the buttons\n",
    "left_button = create_expanded_button(\"like\", \"success\")\n",
    "right_button = create_expanded_button(\"dislike\", \"danger\")\n",
    "left_button.on_click(on_button_clicked)\n",
    "right_button.on_click(on_button_clicked)\n",
    "\n",
    "# Setting the movie poster\n",
    "movie_id = select_random_movie()\n",
    "img = get_poster(movie_id, scale=1.5)\n",
    "\n",
    "# Display\n",
    "AppLayout(\n",
    "    left_sidebar=left_button,\n",
    "    right_sidebar=right_button,\n",
    "    center=img,\n",
    "    pane_widths=[0.3, 0.4, 0.3],\n",
    ")"
   ]
  },
  {
   "cell_type": "markdown",
   "metadata": {},
   "source": [
    "## To do\n",
    "\n",
    "- Give your opinion on some movies (e.g., 10), making sure that you get a few likes and a few dislikes.\n",
    "- Apply logistic regression and display the other movies in order of preference (top movies first).\n",
    "- Give your top-3 and bottom-3 genres, as predicted by the model.\n"
   ]
  },
  {
   "cell_type": "code",
   "execution_count": 60,
   "metadata": {},
   "outputs": [],
   "source": [
    "# likes\n",
    "likes = np.flatnonzero(movies.like == True)\n",
    "display_posters(likes)"
   ]
  },
  {
   "cell_type": "code",
   "execution_count": 61,
   "metadata": {},
   "outputs": [],
   "source": [
    "# dislikes\n",
    "dislikes = np.flatnonzero(movies.like == False)\n",
    "display_posters(dislikes)"
   ]
  },
  {
   "cell_type": "markdown",
   "metadata": {},
   "source": [
    "We first fit the logistic regression model on the training set (e.g. the movies we liked/disliked).\n",
    "\n",
    "Then we predict the probability of liking each (not yet rated) movie and sort them by decreasing probability.\n"
   ]
  },
  {
   "cell_type": "code",
   "execution_count": 62,
   "metadata": {},
   "outputs": [
    {
     "data": {
      "text/html": [
       "<style>#sk-container-id-2 {\n",
       "  /* Definition of color scheme common for light and dark mode */\n",
       "  --sklearn-color-text: #000;\n",
       "  --sklearn-color-text-muted: #666;\n",
       "  --sklearn-color-line: gray;\n",
       "  /* Definition of color scheme for unfitted estimators */\n",
       "  --sklearn-color-unfitted-level-0: #fff5e6;\n",
       "  --sklearn-color-unfitted-level-1: #f6e4d2;\n",
       "  --sklearn-color-unfitted-level-2: #ffe0b3;\n",
       "  --sklearn-color-unfitted-level-3: chocolate;\n",
       "  /* Definition of color scheme for fitted estimators */\n",
       "  --sklearn-color-fitted-level-0: #f0f8ff;\n",
       "  --sklearn-color-fitted-level-1: #d4ebff;\n",
       "  --sklearn-color-fitted-level-2: #b3dbfd;\n",
       "  --sklearn-color-fitted-level-3: cornflowerblue;\n",
       "\n",
       "  /* Specific color for light theme */\n",
       "  --sklearn-color-text-on-default-background: var(--sg-text-color, var(--theme-code-foreground, var(--jp-content-font-color1, black)));\n",
       "  --sklearn-color-background: var(--sg-background-color, var(--theme-background, var(--jp-layout-color0, white)));\n",
       "  --sklearn-color-border-box: var(--sg-text-color, var(--theme-code-foreground, var(--jp-content-font-color1, black)));\n",
       "  --sklearn-color-icon: #696969;\n",
       "\n",
       "  @media (prefers-color-scheme: dark) {\n",
       "    /* Redefinition of color scheme for dark theme */\n",
       "    --sklearn-color-text-on-default-background: var(--sg-text-color, var(--theme-code-foreground, var(--jp-content-font-color1, white)));\n",
       "    --sklearn-color-background: var(--sg-background-color, var(--theme-background, var(--jp-layout-color0, #111)));\n",
       "    --sklearn-color-border-box: var(--sg-text-color, var(--theme-code-foreground, var(--jp-content-font-color1, white)));\n",
       "    --sklearn-color-icon: #878787;\n",
       "  }\n",
       "}\n",
       "\n",
       "#sk-container-id-2 {\n",
       "  color: var(--sklearn-color-text);\n",
       "}\n",
       "\n",
       "#sk-container-id-2 pre {\n",
       "  padding: 0;\n",
       "}\n",
       "\n",
       "#sk-container-id-2 input.sk-hidden--visually {\n",
       "  border: 0;\n",
       "  clip: rect(1px 1px 1px 1px);\n",
       "  clip: rect(1px, 1px, 1px, 1px);\n",
       "  height: 1px;\n",
       "  margin: -1px;\n",
       "  overflow: hidden;\n",
       "  padding: 0;\n",
       "  position: absolute;\n",
       "  width: 1px;\n",
       "}\n",
       "\n",
       "#sk-container-id-2 div.sk-dashed-wrapped {\n",
       "  border: 1px dashed var(--sklearn-color-line);\n",
       "  margin: 0 0.4em 0.5em 0.4em;\n",
       "  box-sizing: border-box;\n",
       "  padding-bottom: 0.4em;\n",
       "  background-color: var(--sklearn-color-background);\n",
       "}\n",
       "\n",
       "#sk-container-id-2 div.sk-container {\n",
       "  /* jupyter's `normalize.less` sets `[hidden] { display: none; }`\n",
       "     but bootstrap.min.css set `[hidden] { display: none !important; }`\n",
       "     so we also need the `!important` here to be able to override the\n",
       "     default hidden behavior on the sphinx rendered scikit-learn.org.\n",
       "     See: https://github.com/scikit-learn/scikit-learn/issues/21755 */\n",
       "  display: inline-block !important;\n",
       "  position: relative;\n",
       "}\n",
       "\n",
       "#sk-container-id-2 div.sk-text-repr-fallback {\n",
       "  display: none;\n",
       "}\n",
       "\n",
       "div.sk-parallel-item,\n",
       "div.sk-serial,\n",
       "div.sk-item {\n",
       "  /* draw centered vertical line to link estimators */\n",
       "  background-image: linear-gradient(var(--sklearn-color-text-on-default-background), var(--sklearn-color-text-on-default-background));\n",
       "  background-size: 2px 100%;\n",
       "  background-repeat: no-repeat;\n",
       "  background-position: center center;\n",
       "}\n",
       "\n",
       "/* Parallel-specific style estimator block */\n",
       "\n",
       "#sk-container-id-2 div.sk-parallel-item::after {\n",
       "  content: \"\";\n",
       "  width: 100%;\n",
       "  border-bottom: 2px solid var(--sklearn-color-text-on-default-background);\n",
       "  flex-grow: 1;\n",
       "}\n",
       "\n",
       "#sk-container-id-2 div.sk-parallel {\n",
       "  display: flex;\n",
       "  align-items: stretch;\n",
       "  justify-content: center;\n",
       "  background-color: var(--sklearn-color-background);\n",
       "  position: relative;\n",
       "}\n",
       "\n",
       "#sk-container-id-2 div.sk-parallel-item {\n",
       "  display: flex;\n",
       "  flex-direction: column;\n",
       "}\n",
       "\n",
       "#sk-container-id-2 div.sk-parallel-item:first-child::after {\n",
       "  align-self: flex-end;\n",
       "  width: 50%;\n",
       "}\n",
       "\n",
       "#sk-container-id-2 div.sk-parallel-item:last-child::after {\n",
       "  align-self: flex-start;\n",
       "  width: 50%;\n",
       "}\n",
       "\n",
       "#sk-container-id-2 div.sk-parallel-item:only-child::after {\n",
       "  width: 0;\n",
       "}\n",
       "\n",
       "/* Serial-specific style estimator block */\n",
       "\n",
       "#sk-container-id-2 div.sk-serial {\n",
       "  display: flex;\n",
       "  flex-direction: column;\n",
       "  align-items: center;\n",
       "  background-color: var(--sklearn-color-background);\n",
       "  padding-right: 1em;\n",
       "  padding-left: 1em;\n",
       "}\n",
       "\n",
       "\n",
       "/* Toggleable style: style used for estimator/Pipeline/ColumnTransformer box that is\n",
       "clickable and can be expanded/collapsed.\n",
       "- Pipeline and ColumnTransformer use this feature and define the default style\n",
       "- Estimators will overwrite some part of the style using the `sk-estimator` class\n",
       "*/\n",
       "\n",
       "/* Pipeline and ColumnTransformer style (default) */\n",
       "\n",
       "#sk-container-id-2 div.sk-toggleable {\n",
       "  /* Default theme specific background. It is overwritten whether we have a\n",
       "  specific estimator or a Pipeline/ColumnTransformer */\n",
       "  background-color: var(--sklearn-color-background);\n",
       "}\n",
       "\n",
       "/* Toggleable label */\n",
       "#sk-container-id-2 label.sk-toggleable__label {\n",
       "  cursor: pointer;\n",
       "  display: flex;\n",
       "  width: 100%;\n",
       "  margin-bottom: 0;\n",
       "  padding: 0.5em;\n",
       "  box-sizing: border-box;\n",
       "  text-align: center;\n",
       "  align-items: start;\n",
       "  justify-content: space-between;\n",
       "  gap: 0.5em;\n",
       "}\n",
       "\n",
       "#sk-container-id-2 label.sk-toggleable__label .caption {\n",
       "  font-size: 0.6rem;\n",
       "  font-weight: lighter;\n",
       "  color: var(--sklearn-color-text-muted);\n",
       "}\n",
       "\n",
       "#sk-container-id-2 label.sk-toggleable__label-arrow:before {\n",
       "  /* Arrow on the left of the label */\n",
       "  content: \"▸\";\n",
       "  float: left;\n",
       "  margin-right: 0.25em;\n",
       "  color: var(--sklearn-color-icon);\n",
       "}\n",
       "\n",
       "#sk-container-id-2 label.sk-toggleable__label-arrow:hover:before {\n",
       "  color: var(--sklearn-color-text);\n",
       "}\n",
       "\n",
       "/* Toggleable content - dropdown */\n",
       "\n",
       "#sk-container-id-2 div.sk-toggleable__content {\n",
       "  max-height: 0;\n",
       "  max-width: 0;\n",
       "  overflow: hidden;\n",
       "  text-align: left;\n",
       "  /* unfitted */\n",
       "  background-color: var(--sklearn-color-unfitted-level-0);\n",
       "}\n",
       "\n",
       "#sk-container-id-2 div.sk-toggleable__content.fitted {\n",
       "  /* fitted */\n",
       "  background-color: var(--sklearn-color-fitted-level-0);\n",
       "}\n",
       "\n",
       "#sk-container-id-2 div.sk-toggleable__content pre {\n",
       "  margin: 0.2em;\n",
       "  border-radius: 0.25em;\n",
       "  color: var(--sklearn-color-text);\n",
       "  /* unfitted */\n",
       "  background-color: var(--sklearn-color-unfitted-level-0);\n",
       "}\n",
       "\n",
       "#sk-container-id-2 div.sk-toggleable__content.fitted pre {\n",
       "  /* unfitted */\n",
       "  background-color: var(--sklearn-color-fitted-level-0);\n",
       "}\n",
       "\n",
       "#sk-container-id-2 input.sk-toggleable__control:checked~div.sk-toggleable__content {\n",
       "  /* Expand drop-down */\n",
       "  max-height: 200px;\n",
       "  max-width: 100%;\n",
       "  overflow: auto;\n",
       "}\n",
       "\n",
       "#sk-container-id-2 input.sk-toggleable__control:checked~label.sk-toggleable__label-arrow:before {\n",
       "  content: \"▾\";\n",
       "}\n",
       "\n",
       "/* Pipeline/ColumnTransformer-specific style */\n",
       "\n",
       "#sk-container-id-2 div.sk-label input.sk-toggleable__control:checked~label.sk-toggleable__label {\n",
       "  color: var(--sklearn-color-text);\n",
       "  background-color: var(--sklearn-color-unfitted-level-2);\n",
       "}\n",
       "\n",
       "#sk-container-id-2 div.sk-label.fitted input.sk-toggleable__control:checked~label.sk-toggleable__label {\n",
       "  background-color: var(--sklearn-color-fitted-level-2);\n",
       "}\n",
       "\n",
       "/* Estimator-specific style */\n",
       "\n",
       "/* Colorize estimator box */\n",
       "#sk-container-id-2 div.sk-estimator input.sk-toggleable__control:checked~label.sk-toggleable__label {\n",
       "  /* unfitted */\n",
       "  background-color: var(--sklearn-color-unfitted-level-2);\n",
       "}\n",
       "\n",
       "#sk-container-id-2 div.sk-estimator.fitted input.sk-toggleable__control:checked~label.sk-toggleable__label {\n",
       "  /* fitted */\n",
       "  background-color: var(--sklearn-color-fitted-level-2);\n",
       "}\n",
       "\n",
       "#sk-container-id-2 div.sk-label label.sk-toggleable__label,\n",
       "#sk-container-id-2 div.sk-label label {\n",
       "  /* The background is the default theme color */\n",
       "  color: var(--sklearn-color-text-on-default-background);\n",
       "}\n",
       "\n",
       "/* On hover, darken the color of the background */\n",
       "#sk-container-id-2 div.sk-label:hover label.sk-toggleable__label {\n",
       "  color: var(--sklearn-color-text);\n",
       "  background-color: var(--sklearn-color-unfitted-level-2);\n",
       "}\n",
       "\n",
       "/* Label box, darken color on hover, fitted */\n",
       "#sk-container-id-2 div.sk-label.fitted:hover label.sk-toggleable__label.fitted {\n",
       "  color: var(--sklearn-color-text);\n",
       "  background-color: var(--sklearn-color-fitted-level-2);\n",
       "}\n",
       "\n",
       "/* Estimator label */\n",
       "\n",
       "#sk-container-id-2 div.sk-label label {\n",
       "  font-family: monospace;\n",
       "  font-weight: bold;\n",
       "  display: inline-block;\n",
       "  line-height: 1.2em;\n",
       "}\n",
       "\n",
       "#sk-container-id-2 div.sk-label-container {\n",
       "  text-align: center;\n",
       "}\n",
       "\n",
       "/* Estimator-specific */\n",
       "#sk-container-id-2 div.sk-estimator {\n",
       "  font-family: monospace;\n",
       "  border: 1px dotted var(--sklearn-color-border-box);\n",
       "  border-radius: 0.25em;\n",
       "  box-sizing: border-box;\n",
       "  margin-bottom: 0.5em;\n",
       "  /* unfitted */\n",
       "  background-color: var(--sklearn-color-unfitted-level-0);\n",
       "}\n",
       "\n",
       "#sk-container-id-2 div.sk-estimator.fitted {\n",
       "  /* fitted */\n",
       "  background-color: var(--sklearn-color-fitted-level-0);\n",
       "}\n",
       "\n",
       "/* on hover */\n",
       "#sk-container-id-2 div.sk-estimator:hover {\n",
       "  /* unfitted */\n",
       "  background-color: var(--sklearn-color-unfitted-level-2);\n",
       "}\n",
       "\n",
       "#sk-container-id-2 div.sk-estimator.fitted:hover {\n",
       "  /* fitted */\n",
       "  background-color: var(--sklearn-color-fitted-level-2);\n",
       "}\n",
       "\n",
       "/* Specification for estimator info (e.g. \"i\" and \"?\") */\n",
       "\n",
       "/* Common style for \"i\" and \"?\" */\n",
       "\n",
       ".sk-estimator-doc-link,\n",
       "a:link.sk-estimator-doc-link,\n",
       "a:visited.sk-estimator-doc-link {\n",
       "  float: right;\n",
       "  font-size: smaller;\n",
       "  line-height: 1em;\n",
       "  font-family: monospace;\n",
       "  background-color: var(--sklearn-color-background);\n",
       "  border-radius: 1em;\n",
       "  height: 1em;\n",
       "  width: 1em;\n",
       "  text-decoration: none !important;\n",
       "  margin-left: 0.5em;\n",
       "  text-align: center;\n",
       "  /* unfitted */\n",
       "  border: var(--sklearn-color-unfitted-level-1) 1pt solid;\n",
       "  color: var(--sklearn-color-unfitted-level-1);\n",
       "}\n",
       "\n",
       ".sk-estimator-doc-link.fitted,\n",
       "a:link.sk-estimator-doc-link.fitted,\n",
       "a:visited.sk-estimator-doc-link.fitted {\n",
       "  /* fitted */\n",
       "  border: var(--sklearn-color-fitted-level-1) 1pt solid;\n",
       "  color: var(--sklearn-color-fitted-level-1);\n",
       "}\n",
       "\n",
       "/* On hover */\n",
       "div.sk-estimator:hover .sk-estimator-doc-link:hover,\n",
       ".sk-estimator-doc-link:hover,\n",
       "div.sk-label-container:hover .sk-estimator-doc-link:hover,\n",
       ".sk-estimator-doc-link:hover {\n",
       "  /* unfitted */\n",
       "  background-color: var(--sklearn-color-unfitted-level-3);\n",
       "  color: var(--sklearn-color-background);\n",
       "  text-decoration: none;\n",
       "}\n",
       "\n",
       "div.sk-estimator.fitted:hover .sk-estimator-doc-link.fitted:hover,\n",
       ".sk-estimator-doc-link.fitted:hover,\n",
       "div.sk-label-container:hover .sk-estimator-doc-link.fitted:hover,\n",
       ".sk-estimator-doc-link.fitted:hover {\n",
       "  /* fitted */\n",
       "  background-color: var(--sklearn-color-fitted-level-3);\n",
       "  color: var(--sklearn-color-background);\n",
       "  text-decoration: none;\n",
       "}\n",
       "\n",
       "/* Span, style for the box shown on hovering the info icon */\n",
       ".sk-estimator-doc-link span {\n",
       "  display: none;\n",
       "  z-index: 9999;\n",
       "  position: relative;\n",
       "  font-weight: normal;\n",
       "  right: .2ex;\n",
       "  padding: .5ex;\n",
       "  margin: .5ex;\n",
       "  width: min-content;\n",
       "  min-width: 20ex;\n",
       "  max-width: 50ex;\n",
       "  color: var(--sklearn-color-text);\n",
       "  box-shadow: 2pt 2pt 4pt #999;\n",
       "  /* unfitted */\n",
       "  background: var(--sklearn-color-unfitted-level-0);\n",
       "  border: .5pt solid var(--sklearn-color-unfitted-level-3);\n",
       "}\n",
       "\n",
       ".sk-estimator-doc-link.fitted span {\n",
       "  /* fitted */\n",
       "  background: var(--sklearn-color-fitted-level-0);\n",
       "  border: var(--sklearn-color-fitted-level-3);\n",
       "}\n",
       "\n",
       ".sk-estimator-doc-link:hover span {\n",
       "  display: block;\n",
       "}\n",
       "\n",
       "/* \"?\"-specific style due to the `<a>` HTML tag */\n",
       "\n",
       "#sk-container-id-2 a.estimator_doc_link {\n",
       "  float: right;\n",
       "  font-size: 1rem;\n",
       "  line-height: 1em;\n",
       "  font-family: monospace;\n",
       "  background-color: var(--sklearn-color-background);\n",
       "  border-radius: 1rem;\n",
       "  height: 1rem;\n",
       "  width: 1rem;\n",
       "  text-decoration: none;\n",
       "  /* unfitted */\n",
       "  color: var(--sklearn-color-unfitted-level-1);\n",
       "  border: var(--sklearn-color-unfitted-level-1) 1pt solid;\n",
       "}\n",
       "\n",
       "#sk-container-id-2 a.estimator_doc_link.fitted {\n",
       "  /* fitted */\n",
       "  border: var(--sklearn-color-fitted-level-1) 1pt solid;\n",
       "  color: var(--sklearn-color-fitted-level-1);\n",
       "}\n",
       "\n",
       "/* On hover */\n",
       "#sk-container-id-2 a.estimator_doc_link:hover {\n",
       "  /* unfitted */\n",
       "  background-color: var(--sklearn-color-unfitted-level-3);\n",
       "  color: var(--sklearn-color-background);\n",
       "  text-decoration: none;\n",
       "}\n",
       "\n",
       "#sk-container-id-2 a.estimator_doc_link.fitted:hover {\n",
       "  /* fitted */\n",
       "  background-color: var(--sklearn-color-fitted-level-3);\n",
       "}\n",
       "</style><div id=\"sk-container-id-2\" class=\"sk-top-container\"><div class=\"sk-text-repr-fallback\"><pre>LogisticRegression(fit_intercept=False)</pre><b>In a Jupyter environment, please rerun this cell to show the HTML representation or trust the notebook. <br />On GitHub, the HTML representation is unable to render, please try loading this page with nbviewer.org.</b></div><div class=\"sk-container\" hidden><div class=\"sk-item\"><div class=\"sk-estimator fitted sk-toggleable\"><input class=\"sk-toggleable__control sk-hidden--visually\" id=\"sk-estimator-id-2\" type=\"checkbox\" checked><label for=\"sk-estimator-id-2\" class=\"sk-toggleable__label fitted sk-toggleable__label-arrow\"><div><div>LogisticRegression</div></div><div><a class=\"sk-estimator-doc-link fitted\" rel=\"noreferrer\" target=\"_blank\" href=\"https://scikit-learn.org/1.6/modules/generated/sklearn.linear_model.LogisticRegression.html\">?<span>Documentation for LogisticRegression</span></a><span class=\"sk-estimator-doc-link fitted\">i<span>Fitted</span></span></div></label><div class=\"sk-toggleable__content fitted\"><pre>LogisticRegression(fit_intercept=False)</pre></div> </div></div></div></div>"
      ],
      "text/plain": [
       "LogisticRegression(fit_intercept=False)"
      ]
     },
     "execution_count": 62,
     "metadata": {},
     "output_type": "execute_result"
    }
   ],
   "source": [
    "model = LogisticRegression(fit_intercept=False)\n",
    "\n",
    "# we hard code the user's preferences\n",
    "for idx in np.random.choice(len(movies), 20):\n",
    "    movies.loc[idx, \"like\"] = True if np.random.rand() < 0.5 else False\n",
    "\n",
    "y = (movies.like[~movies.like.isna()]).astype(int)\n",
    "X = movies.drop(columns=\"like\")[~movies.like.isna()]\n",
    "model.fit(X, y)"
   ]
  },
  {
   "cell_type": "code",
   "execution_count": 63,
   "metadata": {},
   "outputs": [
    {
     "data": {
      "application/vnd.jupyter.widget-view+json": {
       "model_id": "a6739026214c4d9092566f0f84b65926",
       "version_major": 2,
       "version_minor": 0
      },
      "text/plain": [
       "GridspecLayout(children=(Image(value=b'\\xff\\xd8\\xff\\xe0\\x00\\x10JFIF\\x00\\x01\\x01\\x00\\x00\\x01\\x00\\x01\\x00\\x00\\xf…"
      ]
     },
     "execution_count": 63,
     "metadata": {},
     "output_type": "execute_result"
    }
   ],
   "source": [
    "recommendations = model.predict_proba(movies.drop(columns=\"like\"))[:, 1]\n",
    "recommendations = pd.Series(recommendations, index=movies.index).sort_values(\n",
    "    ascending=False\n",
    ")\n",
    "display_posters(recommendations.index)"
   ]
  },
  {
   "cell_type": "code",
   "execution_count": 64,
   "metadata": {},
   "outputs": [
    {
     "data": {
      "application/vnd.jupyter.widget-view+json": {
       "model_id": "d4094ab0b50e4bd687ea2dc1deee36f0",
       "version_major": 2,
       "version_minor": 0
      },
      "text/plain": [
       "GridspecLayout(children=(Image(value=b'\\xff\\xd8\\xff\\xe0\\x00\\x10JFIF\\x00\\x01\\x01\\x00\\x00\\x01\\x00\\x01\\x00\\x00\\xf…"
      ]
     },
     "execution_count": 64,
     "metadata": {},
     "output_type": "execute_result"
    }
   ],
   "source": [
    "top_3 = recommendations.index[:3]\n",
    "display_posters(top_3)"
   ]
  },
  {
   "cell_type": "code",
   "execution_count": 65,
   "metadata": {},
   "outputs": [
    {
     "data": {
      "application/vnd.jupyter.widget-view+json": {
       "model_id": "36240784c8804e5d8eff5d8ab3993c71",
       "version_major": 2,
       "version_minor": 0
      },
      "text/plain": [
       "GridspecLayout(children=(Image(value=b'\\xff\\xd8\\xff\\xe0\\x00\\x10JFIF\\x00\\x01\\x01\\x00\\x00\\x01\\x00\\x01\\x00\\x00\\xf…"
      ]
     },
     "execution_count": 65,
     "metadata": {},
     "output_type": "execute_result"
    }
   ],
   "source": [
    "bottom_3 = recommendations.index[-3:]\n",
    "display_posters(bottom_3)"
   ]
  },
  {
   "cell_type": "markdown",
   "metadata": {},
   "source": [
    "## Online learning\n"
   ]
  },
  {
   "cell_type": "markdown",
   "metadata": {},
   "source": [
    "We now learn the user preferences online, as they come. For that, we use a Bayesian algorithm inspired by Thompson sampling.\n",
    "\n",
    "On each feedback provided by the user:\n",
    "\n",
    "1. (Learning) The parameter (vector of weights) is learned.\n",
    "2. (Sampling) A new parameter is sampled, assuming a Gaussian distribution.\n",
    "3. (Action) The top movie for this new parameter, among movies not yet seen by the user, is proposed.\n",
    "\n",
    "Note that:\n",
    "\n",
    "- In step 1, we retrain the estimator **from scratch**, using logistic regression on all training data samples (**no** online estimation).\n",
    "- In step 2, we discard correlations (**diagonal** covariance matrix).\n"
   ]
  },
  {
   "cell_type": "markdown",
   "metadata": {},
   "source": [
    "## To do\n",
    "\n",
    "- Complete the function `select_bayes` below.\n",
    "- Test it on some movies (e.g., 10), until you get a few likes and a few dislikes.\n",
    "- Display the other movies in order of preference (top movies first).\n"
   ]
  },
  {
   "cell_type": "code",
   "execution_count": 72,
   "metadata": {},
   "outputs": [],
   "source": [
    "model = LogisticRegression(fit_intercept=False)"
   ]
  },
  {
   "cell_type": "code",
   "execution_count": 73,
   "metadata": {},
   "outputs": [],
   "source": [
    "def select_bayes(movies, model):\n",
    "    if set(movies.like) == {True, False, None}:\n",
    "        # to be completed (learning, sampling, action)\n",
    "\n",
    "        # 1. Learning\n",
    "        y = np.array((movies.like[~movies.like.isna()]).astype(int))\n",
    "        X = np.array(movies.drop(columns=\"like\")[~movies.like.isna()])\n",
    "        model.fit(X, y)\n",
    "\n",
    "        # 2. Sampling\n",
    "        mu = model.coef_.flatten()\n",
    "        probabilities = np.array(model.predict_proba(X)[:, 1])\n",
    "        W = np.diag(probabilities * (1 - probabilities))\n",
    "        Hessian = (X.T @ W @ X) + np.eye(X.shape[1])  # H = X.T*W*X + I*lambda\n",
    "        cov = np.linalg.inv(Hessian)\n",
    "        cov = np.diag(np.diag(cov))\n",
    "\n",
    "        new_weights = np.random.multivariate_normal(mu, cov)\n",
    "\n",
    "        # 3. Action\n",
    "        unseen_movies = movies[movies.like.isna()]\n",
    "        X_unseen = unseen_movies.drop(columns=\"like\")\n",
    "\n",
    "        scores = X_unseen @ new_weights\n",
    "        recommended_index = np.argmax(scores)\n",
    "\n",
    "        return recommended_index\n",
    "    else:\n",
    "        return select_random_movie()"
   ]
  },
  {
   "cell_type": "code",
   "execution_count": 74,
   "metadata": {},
   "outputs": [],
   "source": [
    "# reset\n",
    "movies = movies.assign(like=None)"
   ]
  },
  {
   "cell_type": "code",
   "execution_count": 75,
   "metadata": {},
   "outputs": [],
   "source": [
    "def on_button_clicked(button):\n",
    "    global movie_id\n",
    "    update_likes(button)\n",
    "    movie_id = select_bayes(movies, model)\n",
    "    update_poster()"
   ]
  },
  {
   "cell_type": "code",
   "execution_count": 76,
   "metadata": {
    "scrolled": false
   },
   "outputs": [
    {
     "data": {
      "application/vnd.jupyter.widget-view+json": {
       "model_id": "1d3718b07402487c95764add65f48b53",
       "version_major": 2,
       "version_minor": 0
      },
      "text/plain": [
       "AppLayout(children=(Button(button_style='success', description='like', layout=Layout(grid_area='left-sidebar')…"
      ]
     },
     "execution_count": 76,
     "metadata": {},
     "output_type": "execute_result"
    }
   ],
   "source": [
    "# Setting the buttons\n",
    "left_button = create_expanded_button(\"like\", \"success\")\n",
    "right_button = create_expanded_button(\"dislike\", \"danger\")\n",
    "left_button.on_click(on_button_clicked)\n",
    "right_button.on_click(on_button_clicked)\n",
    "\n",
    "# Setting the movie poster\n",
    "movie_id = select_random_movie()\n",
    "img = get_poster(movie_id, scale=1.5)\n",
    "\n",
    "# Display\n",
    "AppLayout(\n",
    "    left_sidebar=left_button,\n",
    "    right_sidebar=right_button,\n",
    "    center=img,\n",
    "    pane_widths=[0.3, 0.4, 0.3],\n",
    ")"
   ]
  },
  {
   "cell_type": "code",
   "execution_count": 80,
   "metadata": {},
   "outputs": [
    {
     "data": {
      "application/vnd.jupyter.widget-view+json": {
       "model_id": "d88b066e4f1545f3b524a5c698a35032",
       "version_major": 2,
       "version_minor": 0
      },
      "text/plain": [
       "GridspecLayout(children=(Image(value=b'\\xff\\xd8\\xff\\xe0\\x00\\x10JFIF\\x00\\x01\\x01\\x00\\x00\\x01\\x00\\x01\\x00\\x00\\xf…"
      ]
     },
     "execution_count": 80,
     "metadata": {},
     "output_type": "execute_result"
    }
   ],
   "source": [
    "# we hard code the user's preferences\n",
    "for _ in range(20):\n",
    "    movies.loc[movie_id, \"like\"] = True if np.random.rand() < 0.5 else False\n",
    "    movie_id = select_bayes(movies, model)\n",
    "\n",
    "X = np.array(movies.drop(columns=\"like\")[movies.like.isna()])\n",
    "\n",
    "recommendations = model.predict_proba(X)[:, 1]\n",
    "recommendations = pd.Series(\n",
    "    recommendations,\n",
    ").sort_values(ascending=False)\n",
    "\n",
    "display_posters(recommendations.index)"
   ]
  },
  {
   "cell_type": "markdown",
   "metadata": {},
   "source": [
    "## Analysis\n",
    "\n",
    "Finally, we would like to assess the quality of our bandit algorithm.\n",
    "\n",
    "## To do\n",
    "\n",
    "- Choose a user, that is a parameter $\\theta$ (vector of weights).\n",
    "- Provide the answers of this user to the movies proposed by the algorithm, assuming binary rewards, with mean\n",
    "  $$\n",
    "  q(a) = \\frac 1 {1 + e^{-\\theta^T a}}\n",
    "  $$\n",
    "  where $a$ is the action (= movie proposed by the algorithm).\n",
    "- Make sure that a reasonable fraction of movies are liked (e.g., between 10\\% and 90\\%). Otherwise, update $\\theta$.\n",
    "- Simulate an interaction of this user with the recommender system over 100 movies.\n",
    "- Compute the [Spearman's correlation coefficient](https://en.wikipedia.org/wiki/Spearman%27s_rank_correlation_coefficient) of the ranking of the unseen movies provided by the algorithm, compared to the ground-truth ranking.\n",
    "- Plot the evolution of this coefficient with respect to the number of movies seen by the user, from 1 to 100.\n",
    "- Give the top-3 and bottom-3 genres, as predicted by the model, and compare to the ground-truth.\n",
    "- Do the same experiments with other features (e.g., actors, actors + genres, actors + director + genres).\n"
   ]
  },
  {
   "cell_type": "code",
   "execution_count": 43,
   "metadata": {},
   "outputs": [
    {
     "name": "stdout",
     "output_type": "stream",
     "text": [
      "Fraction of movies liked: 0.37\n"
     ]
    }
   ],
   "source": [
    "model = LogisticRegression(fit_intercept=False)\n",
    "\n",
    "movies = movies.assign(like=None)\n",
    "theta_user = np.random.randn(movies.drop(columns=\"like\").shape[1])\n",
    "\n",
    "# Initialize the model parameters\n",
    "model.coef_ = np.array([[0.0] * movies.drop(columns=\"like\").shape[1]])\n",
    "model.classes_ = np.array([0.0, 1.0])\n",
    "model.intercept_ = 0.0\n",
    "\n",
    "while True:\n",
    "    q_a = 1 / (1 + np.exp(-movies.drop(columns=\"like\").values @ theta_user))\n",
    "    if 0.1 <= np.mean(q_a) <= 0.9:\n",
    "        break\n",
    "    theta_user = np.random.randn(movies.drop(columns=\"like\").shape[1])\n",
    "\n",
    "print(f\"Fraction of movies liked: {np.mean(q_a):.2f}\")"
   ]
  },
  {
   "cell_type": "code",
   "execution_count": 44,
   "metadata": {},
   "outputs": [],
   "source": [
    "def user_feedback(movies, theta_user):\n",
    "    q_a = 1 / (1 + np.exp(-movies @ theta_user))\n",
    "    return np.random.binomial(1, q_a)"
   ]
  },
  {
   "cell_type": "code",
   "execution_count": 45,
   "metadata": {},
   "outputs": [],
   "source": [
    "def simulation(movies, n_movies=100):\n",
    "    spearman_correlations = []\n",
    "    movies_seen = []\n",
    "\n",
    "    for i in range(n_movies):\n",
    "        idx_new_movie = select_bayes(movies, model)\n",
    "\n",
    "        # simulate that the user has watched the movie and provided feedback (like / dislike)\n",
    "        movie_features = movies.loc[idx_new_movie].drop(labels=\"like\")\n",
    "        feedback = user_feedback(movie_features, theta_user)\n",
    "        movies.loc[idx_new_movie, \"like\"] = feedback\n",
    "        movies_seen.append(idx_new_movie)\n",
    "\n",
    "        unseen_movies = movies[movies.like.isna()]\n",
    "\n",
    "        # get the ranking of the unseen movies\n",
    "        model_ranking = model.predict_proba(\n",
    "            np.array(unseen_movies.drop(columns=\"like\"))\n",
    "        )[:, 1]\n",
    "        ground_truth_ranking = 1 / (\n",
    "            1 + np.exp(-unseen_movies.drop(columns=\"like\").values @ theta_user)\n",
    "        )\n",
    "\n",
    "        # remove the constants ranking made by the model\n",
    "        # if all the movies have the same ranking\n",
    "        # this means that the model has not been trained yet\n",
    "        if np.all(model_ranking == model_ranking[0]):\n",
    "            continue\n",
    "\n",
    "        spearman_corr, _ = spearmanr(model_ranking, ground_truth_ranking)\n",
    "        spearman_correlations.append(spearman_corr)\n",
    "\n",
    "    return spearman_correlations"
   ]
  },
  {
   "cell_type": "code",
   "execution_count": 46,
   "metadata": {},
   "outputs": [],
   "source": [
    "def plot_spearman_correlation(spearman_correlations, title):\n",
    "    plt.figure(figsize=(10, 5))\n",
    "    plt.plot(spearman_correlations)\n",
    "    plt.xlabel(\"Number of movies watched\")\n",
    "    plt.ylabel(\"Spearman correlation\")\n",
    "    plt.title(title)\n",
    "    plt.show()"
   ]
  },
  {
   "cell_type": "code",
   "execution_count": 47,
   "metadata": {},
   "outputs": [
    {
     "name": "stdout",
     "output_type": "stream",
     "text": [
      "Model coefficients: [ 0.32840296  0.05880323  0.          0.         -0.52775229  0.\n",
      "  0.          0.         -0.52775229  0.          0.          0.\n",
      "  0.          0.          0.          0.          0.32840296  0.\n",
      "  0.          0.          0.        ]\n",
      "Model coefficients: [ 0.32495141  0.08118901  0.          0.         -0.74032378  0.\n",
      "  0.          0.         -0.47290147  0.          0.          0.\n",
      "  0.          0.          0.         -0.26742231  0.32495141  0.\n",
      "  0.          0.          0.        ]\n",
      "Model coefficients: [ 0.32482417  0.08160422  0.          0.         -0.74043538 -0.29329694\n",
      "  0.         -0.29329694 -0.47312273  0.          0.          0.\n",
      "  0.          0.          0.         -0.26731266  0.32482417  0.\n",
      " -0.29329694  0.          0.        ]\n",
      "Model coefficients: [ 0.32496438  0.0811461   0.          0.         -0.74039942 -0.47097072\n",
      "  0.         -0.47097072 -0.47292295  0.          0.          0.\n",
      "  0.          0.         -0.23548536 -0.26747647  0.32496438  0.\n",
      " -0.23548536  0.          0.        ]\n",
      "Model coefficients: [ 0.72246189 -0.00358528  0.          0.         -0.42016966 -0.10761634\n",
      "  0.         -0.55912716 -0.54928093  0.          0.          0.\n",
      "  0.          0.         -0.27956358 -0.32239955  0.27095107  0.\n",
      " -0.27956358  0.          0.        ]\n",
      "Model coefficients: [ 0.44094124 -0.29282125  0.          0.         -0.36145165 -0.07089476\n",
      "  0.         -0.56849523 -0.52638297 -0.42954187  0.          0.\n",
      "  0.          0.         -0.28424762 -0.33266916  0.37288263  0.\n",
      " -0.28424762  0.          0.        ]\n",
      "Model coefficients: [ 0.43440151 -0.29076635  0.         -0.26223314 -0.36719944 -0.02530201\n",
      "  0.         -0.77673103 -0.52501931 -0.42848476  0.          0.\n",
      "  0.          0.         -0.25724895 -0.33137602  0.37369038  0.\n",
      " -0.25724895  0.          0.        ]\n",
      "Model coefficients: [ 0.42719133 -0.29029228  0.         -0.23953883 -0.34965053  0.00095133\n",
      "  0.         -0.9154147  -0.53023304 -0.42742394  0.          0.\n",
      "  0.          0.         -0.23936784 -0.49624469  0.37492828  0.\n",
      " -0.23936784  0.          0.        ]\n",
      "Model coefficients: [ 0.48331138 -0.44738134 -0.23651662 -0.23879135 -0.48811897  0.01503486\n",
      "  0.         -0.9201108  -0.47314974 -0.40777042  0.          0.\n",
      "  0.          0.         -0.24087246 -0.47480691  0.394302    0.\n",
      " -0.24087246  0.          0.        ]\n",
      "Model coefficients: [ 0.49734313 -0.45186052 -0.23732977 -0.22591835 -0.47785764 -0.07732339\n",
      "  0.         -1.00486457 -0.47539891 -0.40950987  0.          0.\n",
      "  0.          0.         -0.37694231 -0.46675178  0.3928644   0.\n",
      " -0.21436968  0.          0.        ]\n",
      "Model coefficients: [ 0.46204243 -0.43962752 -0.23515345 -0.25944916 -0.50436113  0.15927304\n",
      "  0.         -0.78900543 -0.46971943 -0.40528784  0.          0.\n",
      "  0.          0.         -0.02538302 -0.48831757  0.39691103  0.\n",
      " -0.28576319  0.          0.        ]\n",
      "Model coefficients: [ 0.79435236 -0.53668247 -0.2098394  -0.30559368 -0.582683    0.03759102\n",
      "  0.         -0.5137819  -0.10490334 -0.45132933  0.          0.\n",
      "  0.          0.         -0.08771533 -0.5137195   0.3526745   0.\n",
      " -0.31242735  0.          0.        ]\n",
      "Model coefficients: [ 0.61256656 -0.46884097 -0.19454733 -0.3088738  -0.75831609  0.11055056\n",
      "  0.         -0.49593025 -0.04553549 -0.4290221   0.          0.\n",
      "  0.          0.         -0.12506653 -0.49328838  0.37381007  0.\n",
      " -0.59557335  0.          0.        ]\n",
      "Model coefficients: [ 0.54036878 -0.54170448 -0.21807708 -0.31367106 -0.51578417  0.08231707\n",
      "  0.         -0.46899873 -0.08998989 -0.4012911   0.          0.\n",
      "  0.          0.         -0.12419057 -0.52922056  0.75831518  0.\n",
      " -0.62229823  0.          0.        ]\n",
      "Model coefficients: [ 0.5866994  -0.66778496 -0.19076886 -0.31717607 -0.59170103 -0.03927058\n",
      "  0.         -0.44646613 -0.06807141 -0.38489755  0.          0.\n",
      "  0.          0.         -0.08296003 -0.52222106  0.78378558  0.\n",
      " -0.604013    0.          0.        ]\n",
      "Model coefficients: [ 0.36379784 -0.59766075 -0.20382679 -0.27450096 -0.5615741   0.04484801\n",
      "  0.         -0.69700706 -0.01190707 -0.35699679  0.          0.\n",
      "  0.          0.         -0.01591747 -0.49178334  0.44648998  0.\n",
      " -0.55212363  0.          0.        ]\n",
      "Model coefficients: [ 0.68111837 -0.69628545 -0.18476525 -0.33628198 -0.6051967  -0.07456787\n",
      "  0.         -0.34337778 -0.09202999 -0.39792537  0.          0.\n",
      "  0.          0.         -0.11169079 -0.53556009  0.9268913   0.\n",
      " -0.62637031  0.          0.        ]\n",
      "Model coefficients: [ 0.71444308 -0.67243453 -0.17722923 -0.31970658 -0.69119516 -0.03849401\n",
      "  0.         -0.43189209 -0.06516046 -0.53815024  0.          0.\n",
      "  0.          0.         -0.08947149 -0.51092545  0.93931229  0.\n",
      " -0.61090731  0.          0.        ]\n",
      "Model coefficients: [ 0.56950421 -0.85003231 -0.16023993 -0.32133129 -0.65277597 -0.01802763\n",
      "  0.         -0.42399466 -0.03677707 -0.48914958  0.         -0.34764198\n",
      "  0.          0.         -0.10088296 -0.51735455  0.98978395  0.\n",
      " -0.59774822  0.          0.        ]\n",
      "Model coefficients: [ 0.55417255 -0.88817769 -0.1577201  -0.31163293 -0.63522198 -0.09354187\n",
      "  0.         -0.48034197 -0.02676597 -0.47686486  0.          0.0197525\n",
      "  0.          0.          0.21144983 -0.51157597  1.00221803  0.\n",
      " -0.58044423  0.          0.        ]\n",
      "Model coefficients: [ 0.52219545 -0.91230839 -0.15424815 -0.31084897 -0.64314059 -0.07847169\n",
      "  0.         -0.48492504 -0.01713325 -0.46676839  0.          0.17438288\n",
      "  0.          0.          0.18841338 -0.50994369  1.14322115  0.\n",
      " -0.57531981  0.          0.        ]\n",
      "Model coefficients: [ 0.48642118 -0.91171907 -0.15332669 -0.33156143 -0.64908196 -0.10962692\n",
      "  0.         -0.36911347 -0.02820816 -0.47301519  0.          0.16911024\n",
      "  0.          0.          0.15787489 -0.52597948  1.3008368   0.\n",
      " -0.5800433   0.          0.        ]\n",
      "Model coefficients: [ 0.48642118 -0.91171907 -0.15332669 -0.33156143 -0.64908196 -0.10962692\n",
      "  0.         -0.36911347 -0.02820816 -0.47301519  0.          0.16911024\n",
      "  0.          0.          0.15787489 -0.52597948  1.3008368   0.\n",
      " -0.5800433   0.          0.        ]\n",
      "Model coefficients: [ 0.4396875  -0.92416945 -0.18188474 -0.37647302 -0.39953869 -0.2221904\n",
      "  0.         -0.12691401 -0.11486126 -0.52562238  0.          0.19106208\n",
      "  0.          0.          0.10727951 -0.140117    1.23753716  0.\n",
      " -0.63037301  0.          0.        ]\n",
      "Model coefficients: [ 0.45760521 -0.94122801 -0.18064987 -0.36348249 -0.39211057 -0.13796177\n",
      "  0.         -0.19371056 -0.10727446 -0.51714193  0.          0.21183244\n",
      "  0.          0.         -0.03373391 -0.12390788  1.24528451  0.\n",
      " -0.82000285  0.          0.        ]\n",
      "Model coefficients: [ 0.49004431 -1.01789952 -0.16595124 -0.36385619 -0.4341346  -0.12893237\n",
      "  0.         -0.18993615 -0.1950878  -0.50568941  0.          0.21869793\n",
      "  0.          0.         -0.03905768 -0.11372428  1.25117953  0.\n",
      " -0.82010945  0.          0.        ]\n",
      "Model coefficients: [ 0.48116502 -1.00805749 -0.16613709 -0.34520508 -0.44614119 -0.20741917\n",
      "  0.         -0.29265341 -0.17760813 -0.49124451  0.          0.17279955\n",
      "  0.          0.          0.25690532 -0.08324897  1.27509762  0.\n",
      " -0.48104736  0.          0.        ]\n",
      "Model coefficients: [ 0.48558208 -0.99102541 -0.15744804 -0.3505193  -0.53640086 -0.20214127\n",
      "  0.         -0.26250852 -0.15940393 -0.48663548  0.          0.17138862\n",
      "  0.          0.          0.24224456 -0.25530749  1.27704203  0.\n",
      " -0.47422034  0.          0.        ]\n",
      "Model coefficients: [ 0.23141798 -0.84936421 -0.17746831 -0.36144147 -0.50209089 -0.22065129\n",
      "  0.         -0.20300704 -0.16360812 -0.48202857  0.         -0.22062357\n",
      "  0.          0.          0.26136496 -0.28015666  0.97326512  0.\n",
      " -0.46454803  0.          0.        ]\n",
      "Model coefficients: [ 0.21339352 -0.83343792 -0.18014608 -0.39734346 -0.49957955 -0.27718428\n",
      "  0.         -0.01911177 -0.19190434 -0.50804504  0.         -0.20380076\n",
      "  0.          0.          0.20810947 -0.32488264  0.94140415  0.\n",
      " -0.48656139  0.          0.        ]\n",
      "Model coefficients: [ 0.31531515 -0.82232678 -0.18159611 -0.36594309 -0.49526048 -0.24944674\n",
      "  0.         -0.17962749 -0.18572687 -0.50163778  0.         -0.47471849\n",
      "  0.          0.          0.29073761 -0.28756028  0.76664377  0.\n",
      " -0.48515371  0.          0.        ]\n",
      "Model coefficients: [ 0.14560215 -0.75026776 -0.1989196  -0.38673442 -0.43824687 -0.53530625\n",
      "  0.         -0.0725542  -0.20730428 -0.51082668  0.         -0.38921684\n",
      "  0.          0.          0.32340474 -0.332688    0.54639585  0.\n",
      " -0.4758669   0.          0.        ]\n",
      "Model coefficients: [ 0.14324829 -0.76621552 -0.19885276 -0.37928014 -0.42360383 -0.56974315\n",
      "  0.         -0.11199286 -0.20323914 -0.50502739  0.         -0.19892647\n",
      "  0.          0.          0.50798107 -0.32844104  0.51238396  0.\n",
      " -0.51326971  0.          0.        ]\n",
      "Model coefficients: [ 0.14696761 -0.77385545 -0.19783552 -0.36175739 -0.42359045 -0.54652019\n",
      "  0.         -0.20462483 -0.1896916  -0.49178175 -0.30619849 -0.20081688\n",
      "  0.          0.          0.53351112 -0.30669141  0.53302706  0.\n",
      " -0.50179356 -0.30619849  0.        ]\n",
      "Model coefficients: [ 0.15413322 -0.75935373 -0.18477007 -0.34518224 -0.53631824 -0.51096354\n",
      "  0.         -0.29345182 -0.14685699 -0.46860614 -0.29309739 -0.2059704\n",
      "  0.          0.          0.55266515 -0.24814889  0.55919519  0.\n",
      " -0.47841543 -0.29309739  0.        ]\n",
      "Model coefficients: [ 0.19910905 -0.773716   -0.19022195 -0.33340005 -0.47969509 -0.4913547\n",
      "  0.         -0.35711673 -0.15888613 -0.4719301  -0.28384104 -0.16410903\n",
      "  0.          0.          0.56338592 -0.4710998   0.41096854  0.\n",
      " -0.48058545 -0.28384104  0.        ]\n",
      "Model coefficients: [ 0.09124677 -0.73982837 -0.19681501 -0.34108521 -0.45812467 -0.46901979\n",
      "  0.         -0.31014962 -0.16229497 -0.4688886  -0.29067749 -0.11537186\n",
      "  0.          0.          0.57390297 -0.47652979  0.28321124  0.\n",
      " -0.71069442 -0.29067749  0.        ]\n",
      "Model coefficients: [ 0.091487   -0.74335734 -0.19650845 -0.50776491 -0.45552604 -0.45954795\n",
      "  0.         -0.34897305 -0.15693004 -0.46358014 -0.46663661 -0.11574477\n",
      "  0.          0.          0.58491305 -0.46659369  0.29269828  0.\n",
      " -0.70805942 -0.25444034  0.        ]\n",
      "Model coefficients: [ 0.17918383 -0.78624699 -0.19152216 -0.50214779 -0.456862   -0.46762582\n",
      "  0.         -0.37263628 -0.15877359 -0.4682346  -0.46085336  0.00881999\n",
      "  0.          0.          0.57678515 -0.46612347  0.35365941  0.\n",
      " -0.72700592 -0.25197035  0.        ]\n",
      "Model coefficients: [ 0.08643222 -0.91647777 -0.17761485 -0.50049817 -0.43328052 -0.4459089\n",
      "  0.         -0.37928469 -0.12970717 -0.44046441 -0.45953729  0.03297871\n",
      "  0.          0.          0.56644924 -0.47519047  0.39085877  0.\n",
      " -0.71167893 -0.25109355  0.        ]\n",
      "Model coefficients: [ 0.0880117  -0.90482158 -0.16779305 -0.4835156  -0.52461235 -0.41683869\n",
      "  0.         -0.44913966 -0.0951215  -0.42217297 -0.44477125  0.02865166\n",
      "  0.          0.          0.58216722 -0.43049904  0.4097673   0.\n",
      " -0.69886024 -0.24247743  0.        ]\n",
      "Model coefficients: [ 0.09678006 -0.88081579 -0.16194291 -0.48670366 -0.59620609 -0.41285177\n",
      "  0.         -0.43579992 -0.08087464 -0.5968364  -0.44766556  0.02593923\n",
      "  0.          0.          0.575981   -0.41413897  0.40507598  0.\n",
      " -0.69506919 -0.24406261  0.        ]\n",
      "Model coefficients: [ 0.27186106 -0.93170193 -0.15183564 -0.51383869 -0.63320216 -0.21141208\n",
      "  0.         -0.32490529 -0.10227848 -0.61331215 -0.47144232  0.02746733\n",
      "  0.          0.          0.48608138 -0.42555137  0.30143528  0.\n",
      " -0.73134219 -0.25777229  0.        ]\n",
      "Model coefficients: [ 0.19098124 -0.88592786 -0.14717232 -0.52224193 -0.72032451 -0.31292534\n",
      "  0.         -0.29120211 -0.07832169 -0.59419536 -0.47868827  0.02831857\n",
      "  0.          0.          0.49842523 -0.41630114  0.33150643  0.\n",
      " -0.71166541 -0.26205058  0.        ]\n",
      "Model coefficients: [ 0.32986637 -0.66825801 -0.16822181 -0.52396486 -0.7546434  -0.36086551\n",
      "  0.         -0.28417501 -0.12393353 -0.63208107 -0.48051166 -0.0120171\n",
      "  0.          0.          0.520032   -0.40264762  0.27666179  0.\n",
      " -0.73328152 -0.26281021  0.        ]\n",
      "Model coefficients: [ 0.36448061 -0.65906962 -0.15713817 -0.52977215 -0.85806851 -0.34792011\n",
      "  0.         -0.26036542 -0.10489831 -0.62020059 -0.48562944  0.02165019\n",
      "  0.          0.          0.49915908 -0.36917251  0.15899775  0.\n",
      " -0.71808318 -0.26575148  0.        ]\n",
      "Model coefficients: [ 0.26031361 -0.60476117 -0.16554182 -0.53241403 -0.84074821 -0.32428326\n",
      "  0.         -0.24971941 -0.10513418 -0.8620139  -0.48795119  0.03723791\n",
      "  0.          0.          0.483052   -0.37995662  0.1841157   0.\n",
      " -0.70155041 -0.2670875   0.        ]\n",
      "Model coefficients: [ 0.2684099  -0.60012941 -0.16251848 -0.52596168 -0.86876515 -0.31424982\n",
      "  0.         -0.27485006 -0.09515582 -0.92732192 -0.48263647  0.03395105\n",
      "  0.          0.          0.48951977 -0.36545903  0.18942658  0.\n",
      " -0.69885903 -0.26374426  0.        ]\n",
      "Model coefficients: [ 0.28144535 -0.64845246 -0.27672173 -0.52571225 -0.89998172 -0.31029752\n",
      "  0.         -0.27521709 -0.08052848 -0.91989437 -0.48246315  0.03468866\n",
      "  0.          0.          0.48853844 -0.35747777  0.19025072  0.\n",
      " -0.69895772 -0.26360698  0.        ]\n",
      "Model coefficients: [ 0.37028648 -0.68418446 -0.26302922 -0.51242891 -0.9372169  -0.11647396\n",
      "  0.         -0.32860539 -0.07021665 -0.92450519 -0.47076066  0.05167699\n",
      "  0.          0.          0.40419373 -0.32586287  0.14174204  0.\n",
      " -0.43648616 -0.25692851  0.        ]\n",
      "Model coefficients: [ 0.34737448 -0.6743184  -0.2615842  -0.52373655 -0.95557004 -0.01095841\n",
      "  0.         -0.28169595 -0.06899039 -0.92227492 -0.48162548  0.0298707\n",
      "  0.          0.          0.53292061 -0.33543399  0.14257304  0.\n",
      " -0.48437273 -0.26245955  0.        ]\n",
      "Model coefficients: [ 0.26637414 -0.64399429 -0.26220255 -0.54818463 -0.98108099 -0.04386356\n",
      "  0.         -0.18631427 -0.07017419 -0.91221747 -0.50214557 -0.00103295\n",
      "  0.          0.          0.46953957 -0.37761169  0.28537602  0.\n",
      " -0.25048045 -0.2749962   0.        ]\n",
      "Model coefficients: [ 0.29152233 -0.6421746  -0.26116524 -0.55801936 -0.98936127 -0.01259604\n",
      "  0.         -0.14833271 -0.07781432 -0.92116175 -0.51049858 -0.16781446\n",
      "  0.          0.          0.35131249 -0.39290394  0.32503415  0.\n",
      " -0.42277576 -0.28003627  0.        ]\n",
      "Model coefficients: [ 0.34978933 -0.67795325 -0.25409125 -0.55454427 -0.99385553 -0.02147984\n",
      "  0.         -0.16298239 -0.07827209 -0.92885903 -0.50684315 -0.07382932\n",
      "  0.          0.          0.34338958 -0.39386871  0.37680869  0.\n",
      " -0.44588263 -0.27848028  0.        ]\n",
      "Model coefficients: [ 0.29376666 -0.4176246  -0.29515277 -0.59167141 -1.0324668  -0.05319641\n",
      "  0.         -0.01552368 -0.11966825 -0.95372568 -0.54179363 -0.06696909\n",
      "  0.          0.          0.29498077 -0.42799091  0.34703113  0.\n",
      " -0.44479648 -0.29667967  0.        ]\n",
      "Model coefficients: [ 0.30237509 -0.41528364 -0.28812812 -0.61341179 -1.07207739 -0.07307326\n",
      "  0.          0.06600099 -0.12293385 -0.95873774 -0.56034845 -0.05493722\n",
      "  0.          0.          0.26793703 -0.17541392  0.30830182  0.\n",
      " -0.44903921 -0.30776636  0.        ]\n",
      "Model coefficients: [ 0.30099347 -0.40853558 -0.28050266 -0.61805308 -1.1175154  -0.07128751\n",
      "  0.          0.08369502 -0.11431125 -0.95298105 -0.56433082 -0.05678934\n",
      "  0.          0.          0.26125162 -0.26208743  0.31348209  0.\n",
      " -0.44984001 -0.3101549   0.        ]\n",
      "Model coefficients: [ 0.30099924 -0.39801829 -0.26995486 -0.61836408 -1.18324458 -0.06162251\n",
      "  0.          0.08493372 -0.09903581 -0.94242975 -0.56455876 -0.05835491\n",
      "  0.          0.          0.25728939 -0.24547189  0.31797746  0.\n",
      " -0.44762766 -0.31033119  0.        ]\n",
      "Model coefficients: [ 0.3003882  -0.38834949 -0.2599713  -0.61812892 -1.24431156 -0.05244991\n",
      "  0.          0.08606369 -0.08359495 -0.93333935 -0.56557901 -0.06006761\n",
      "  0.          0.          0.25426621 -0.22964198  0.32210891  0.\n",
      " -0.44542368 -0.30998476  0.        ]\n",
      "Model coefficients: [ 0.32156754 -0.38321764 -0.25037556 -0.62365016 -1.30802446 -0.04889329\n",
      "  0.          0.10278519 -0.07695932 -0.93008336 -0.56759949 -0.03643608\n",
      "  0.          0.          0.23902952 -0.21269406  0.24594082  0.\n",
      " -0.43710412 -0.31344617  0.        ]\n",
      "Model coefficients: [ 0.32472396 -0.3871553  -0.24935081 -0.27711881 -1.30955497 -0.07441238\n",
      "  0.          0.18299331 -0.08829087 -0.93943515 -0.6398433  -0.02972714\n",
      "  0.          0.          0.2166781  -0.24103242  0.22552301  0.\n",
      " -0.4453704  -0.31614942  0.        ]\n",
      "Model coefficients: [ 0.32385928 -0.37936002 -0.24138835 -0.27748383 -1.36227897 -0.06705736\n",
      "  0.          0.1839392  -0.07648479 -0.93153957 -0.64000651 -0.03176797\n",
      "  0.          0.          0.21424533 -0.22875882  0.23109248  0.\n",
      " -0.44397333 -0.31629799  0.        ]\n",
      "Model coefficients: [ 0.33773019 -0.38324492 -0.24125333 -0.24963076 -1.35876802 -0.03891139\n",
      "  0.          0.11239305 -0.06798872 -0.92716166 -0.62397936 -0.04303248\n",
      "  0.          0.          0.26812491 -0.20510418  0.26125434  0.\n",
      " -0.58552273 -0.30661638  0.        ]\n",
      "Model coefficients: [ 0.32973463 -0.3966416  -0.23688032 -0.2847496  -1.367319    0.06791427\n",
      "  0.          0.20169973 -0.07406386 -0.93237906 -0.64405722  0.0602062\n",
      "  0.          0.         -0.0734107  -0.23551246  0.24400026  0.\n",
      " -0.88740672 -0.31907136  0.        ]\n",
      "Model coefficients: [ 0.21519896 -0.19860289 -0.25687992 -0.27069624 -1.45400126  0.12135465\n",
      "  0.          0.16435421  0.30018521 -0.55953058 -0.63462176  0.06513554\n",
      "  0.          0.         -0.08156505 -0.20427117  0.28782099  0.\n",
      " -0.86442063 -0.31382652  0.        ]\n",
      "Model coefficients: [ 0.21519896 -0.19860289 -0.25687992 -0.27069624 -1.45400126  0.12135465\n",
      "  0.          0.16435421  0.30018521 -0.55953058 -0.63462176  0.06513554\n",
      "  0.          0.         -0.08156505 -0.20427117  0.28782099  0.\n",
      " -0.86442063 -0.31382652  0.        ]\n",
      "Model coefficients: [ 0.1162042  -0.1688803  -0.26234663 -0.21765765 -1.4547479   0.16993358\n",
      "  0.          0.10791602  0.30730599 -0.53764914 -0.87515349  0.08077298\n",
      "  0.          0.         -0.08312622 -0.18621711  0.32831959  0.\n",
      " -0.84243516 -0.26509586  0.        ]\n",
      "Model coefficients: [ 0.12698928 -0.19440056 -0.25391937 -0.21838978 -1.47248271  0.16964576\n",
      "  0.          0.11029646  0.3230017  -0.58049674 -0.87744091  0.07963053\n",
      "  0.          0.         -0.0833256  -0.18271653  0.32749097  0.\n",
      " -0.84448114 -0.26514756  0.        ]\n",
      "Model coefficients: [ 0.0785338  -0.32189755 -0.23686123 -0.23023074 -1.44325174  0.03106113\n",
      "  0.          0.13895953  0.35065869 -0.54879689 -0.87862263  0.08777224\n",
      "  0.          0.         -0.05430542 -0.20260884  0.3466657   0.\n",
      " -0.83297385 -0.26968738  0.        ]\n",
      "Model coefficients: [ 0.11467277 -0.32569444 -0.23800497 -0.21811169 -1.43247094 -0.05799064\n",
      "  0.          0.10775519  0.34917674 -0.55416151 -0.87352397  0.06551248\n",
      "  0.          0.          0.01193232 -0.19467246  0.36163454  0.\n",
      " -0.93512122 -0.26564714  0.        ]\n",
      "Model coefficients: [ 0.13974704 -0.32246818 -0.23826196 -0.18088289 -1.43466612 -0.05002536\n",
      "  0.          0.00853122  0.35706297 -0.55041304 -0.84507063 -0.12721279\n",
      "  0.          0.          0.08819597 -0.16282798  0.42644761  0.\n",
      " -0.91923329 -0.25440084  0.        ]\n",
      "Model coefficients: [ 0.14767908 -0.31078382 -0.34548571 -0.184074   -1.45858674 -0.09264401\n",
      "  0.          0.0169216   0.35822759 -0.55149711 -0.84856591 -0.13450917\n",
      "  0.          0.          0.09975933 -0.16023938  0.42756365  0.\n",
      " -0.91636895 -0.25520205  0.        ]\n",
      "Model coefficients: [ 0.14767908 -0.31078382 -0.34548571 -0.184074   -1.45858674 -0.09264401\n",
      "  0.          0.0169216   0.35822759 -0.55149711 -0.84856591 -0.13450917\n",
      "  0.          0.          0.09975933 -0.16023938  0.42756365  0.\n",
      " -0.91636895 -0.25520205  0.        ]\n",
      "Model coefficients: [ 0.1527045  -0.33611735 -0.41455635 -0.18410197 -1.47466053 -0.08662745\n",
      "  0.          0.01643095  0.36846715 -0.54380284 -0.84816991 -0.13418997\n",
      "  0.          0.          0.09841582 -0.15582122  0.42904864  0.\n",
      " -0.91759865 -0.2552057   0.        ]\n",
      "Model coefficients: [ 0.08215945 -0.17411664 -0.43221706 -0.22189758 -1.52048924 -0.10513979\n",
      "  0.          0.11560157  0.29958561 -0.29231041 -0.87031215 -0.1335049\n",
      "  0.          0.          0.06787102 -0.18329258  0.42956252  0.\n",
      " -0.92905039 -0.26718129  0.        ]\n",
      "Model coefficients: [ 0.23141    -0.02450682 -0.50636427 -0.21841616 -1.35715951 -0.19314226\n",
      "  0.          0.11318061  0.20895016 -0.39717338 -0.89188243 -0.17037199\n",
      "  0.          0.          0.1068701  -0.2150989   0.36249477  0.\n",
      " -0.93693156 -0.26426417  0.        ]\n",
      "Model coefficients: [ 0.16506553 -0.00516009 -0.51244514 -0.22289857 -1.35925926 -0.1648862\n",
      "  0.          0.12229077  0.20963053 -0.3923854  -0.88556962 -0.15937982\n",
      "  0.          0.          0.11191198 -0.22115482  0.39059788  0.\n",
      " -1.03883361 -0.26669154  0.        ]\n",
      "Model coefficients: [ 0.09422503  0.17880495 -0.59889205 -0.21563791 -1.23421943 -0.1737523\n",
      "  0.          0.10070791  0.6108555  -0.50411729 -0.86780373 -0.1524536\n",
      "  0.          0.          0.11769339 -0.24502806  0.39378474  0.\n",
      " -1.01928171 -0.26530062  0.        ]\n",
      "Model coefficients: [ 0.00344749  0.0716353  -0.58250663 -0.18308427 -1.21393751 -0.10565488\n",
      "  0.          0.0080008   0.65128658 -0.43880518 -0.82497111 -0.12334303\n",
      "  0.          0.          0.11962043 -0.21950161  0.43852646  0.\n",
      " -0.9900669  -0.25695389  0.        ]\n",
      "Model coefficients: [ 0.00132455  0.08094471 -0.56978449 -0.18311836 -1.26092712 -0.09885829\n",
      "  0.          0.00796128  0.66291388 -0.4326329  -0.82439059 -0.12540189\n",
      "  0.          0.          0.1179298  -0.20782738  0.44507909  0.\n",
      " -0.98992398 -0.2569465   0.        ]\n",
      "Model coefficients: [-0.04722748  0.0331971  -0.56543472 -0.18962123 -1.24026635 -0.0853381\n",
      "  0.          0.02318983  0.6902898  -0.56257749 -0.8225389  -0.11073906\n",
      "  0.          0.          0.1037008  -0.21986999  0.45429486  0.\n",
      " -0.98653794 -0.25957161  0.        ]\n",
      "Model coefficients: [-0.04558903  0.03071509 -0.56478254  0.02604193 -1.24002658 -0.09819527\n",
      "  0.          0.06394553  0.68504954 -0.56917577 -0.87056517 -0.11134001\n",
      "  0.38252377  0.          0.09336368 -0.23609381  0.44504534  0.\n",
      " -0.99665833 -0.25799976  0.        ]\n",
      "Model coefficients: [-0.04756063  0.03094278 -0.57219823  0.04531802 -1.22005565 -0.08758294\n",
      "  0.          0.0200905   0.68260223 -0.56432172 -0.85676508 -0.11378595\n",
      "  0.3870318   0.          0.10617412 -0.40109174  0.46292095  0.\n",
      " -0.98915792 -0.25330757  0.        ]\n",
      "Model coefficients: [-0.09001498  0.0449226  -0.5795042   0.0356345  -1.21408766 -0.06609428\n",
      "  0.          0.04080213  0.67860675 -0.56336979 -0.85781396 -0.07717099\n",
      "  0.38515014  0.          0.10163171 -0.40543064  0.40052939  0.\n",
      " -1.08576225 -0.25653357  0.        ]\n",
      "Model coefficients: [-0.09099898  0.05029146 -0.58258131  0.06456081 -1.21412883 -0.04550425\n",
      "  0.         -0.02490252  0.68249208 -0.55362259 -0.83782229 -0.07649783\n",
      "  0.39317419  0.          0.11810509 -0.37772657  0.41270022 -0.39548549\n",
      " -1.07472809 -0.24892571  0.        ]\n",
      "Model coefficients: [-0.07537963  0.00238046 -0.56009638  0.07892359 -1.25027584 -0.02949585\n",
      "  0.         -0.05682553  0.70858684 -0.52867193 -0.83006836 -0.07678943\n",
      "  0.39640362  0.          0.12531738 -0.35643114  0.42005225 -0.38910984\n",
      " -1.07375202 -0.24522281  0.        ]\n",
      "Model coefficients: [-0.00623997  0.14066834 -0.58499714  0.09420583 -1.27167915 -0.0767662\n",
      "  0.         -0.0843544   0.67386606 -0.59048722 -0.83043005 -0.09478903\n",
      "  0.39610602  0.          0.11382895 -0.33325508  0.36982703 -0.37866623\n",
      " -0.85974327 -0.24309625  0.        ]\n",
      "Model coefficients: [-0.05140324  0.28854277 -0.04905932  0.09602071 -1.18051305 -0.1118437\n",
      "  0.         -0.09434935  0.60630675 -0.64747065 -0.82171731 -0.09471454\n",
      "  0.39878161  0.          0.12660627 -0.35115274  0.37421112 -0.37972229\n",
      " -0.85226958 -0.2418152   0.        ]\n",
      "Model coefficients: [-0.05470701  0.29946998 -0.03377082  0.09485485 -1.22602934 -0.10426873\n",
      "  0.         -0.09371562  0.61679543 -0.64510249 -0.82133243 -0.09655811\n",
      "  0.39990276  0.          0.124386   -0.34220336  0.38210318 -0.38185768\n",
      " -0.85181527 -0.24093516  0.        ]\n",
      "Model coefficients: [-0.03014238  0.30146754 -0.0299219   0.11552818 -1.21339848 -0.21646019\n",
      "  0.         -0.13841632  0.61458743 -0.64605064 -0.81097994 -0.11178409\n",
      "  0.40406895  0.          0.17822331 -0.32605789  0.38780606 -0.37219239\n",
      " -0.84115411 -0.23622309  0.        ]\n",
      "Model coefficients: [-0.03014238  0.30146754 -0.0299219   0.11552818 -1.21339848 -0.21646019\n",
      "  0.         -0.13841632  0.61458743 -0.64605064 -0.81097994 -0.11178409\n",
      "  0.40406895  0.          0.17822331 -0.32605789  0.38780606 -0.37219239\n",
      " -0.84115411 -0.23622309  0.        ]\n",
      "Model coefficients: [-0.03237337  0.30216951 -0.03733731  0.13008233 -1.19915909 -0.20743658\n",
      "  0.         -0.17093594  0.61348952 -0.64259709 -0.80112219 -0.11321055\n",
      "  0.40661307  0.          0.18756855 -0.45616275  0.40107755 -0.36461443\n",
      " -0.83778288 -0.2336086   0.        ]\n",
      "Model coefficients: [-0.06406985  0.32357881 -0.02717586  0.12503065 -1.23178492 -0.24516901\n",
      "  0.         -0.16181091  0.61861415 -0.64011588 -0.79981086 -0.11441595\n",
      "  0.40705882  0.          0.19425141 -0.45586631  0.41684797 -0.3683964\n",
      " -0.82803245 -0.23413635  0.        ]\n",
      "Model coefficients: [-0.05957947  0.321671   -0.01645708  0.10332203 -1.25295356 -0.25797921\n",
      "  0.         -0.11316575  0.61989577 -0.64512311 -0.81418467 -0.11142698\n",
      "  0.40177768  0.          0.18036188 -0.25749667  0.3962221  -0.37789592\n",
      " -0.83350746 -0.23873855  0.        ]\n",
      "Model coefficients: [-0.03718819  0.32097917 -0.01389524  0.11062664 -1.24712304 -0.31136634\n",
      "  0.         -0.12870638  0.61918384 -0.64888497 -0.81313223 -0.12334776\n",
      "  0.40440376  0.          0.21801962 -0.25071847  0.40384275 -0.37603204\n",
      " -0.89550738 -0.23640446  0.        ]\n",
      "Model coefficients: [ 0.02119961  0.30056455 -0.00348685  0.11667168 -1.25277946 -0.3291299\n",
      "  0.         -0.13780319  0.62362394 -0.65319904 -0.81817036 -0.16760799\n",
      "  0.40307145  0.          0.24315047 -0.25117884  0.47916953 -0.37083052\n",
      " -0.92278354 -0.23628632  0.        ]\n",
      "Model coefficients: [-0.04163918  0.28742053 -0.06689545  0.12869965 -1.09514612 -0.34003363\n",
      "  0.         -0.16366717  0.58704719 -0.65279471 -0.80197091 -0.23389375\n",
      "  0.40418558  0.          0.27727598 -0.28671688  0.71073759 -0.36283273\n",
      " -0.94350727 -0.23594301  0.        ]\n",
      "97\n"
     ]
    },
    {
     "data": {
      "image/png": "[encoded data removed]",
      "text/plain": [
       "<Figure size 1000x500 with 1 Axes>"
      ]
     },
     "metadata": {},
     "output_type": "display_data"
    }
   ],
   "source": [
    "spearman_correlations = simulation(movies)\n",
    "print(len(spearman_correlations))\n",
    "plot_spearman_correlation(\n",
    "    spearman_correlations, \"Evolution of the Spearman correlation (only genre feature)\"\n",
    ")"
   ]
  },
  {
   "cell_type": "markdown",
   "metadata": {},
   "source": [
    "As we can see, the algorithm is able to learn the user preferences and provide good recommendations.\n",
    "\n",
    "The spearman correlation increases with the number of movies seen by the user, stabilizing at around 0.8.\n"
   ]
  },
  {
   "cell_type": "code",
   "execution_count": 48,
   "metadata": {},
   "outputs": [
    {
     "name": "stdout",
     "output_type": "stream",
     "text": [
      "Top-3 genres predicted by the model: ['Sci-Fi' 'Family' 'Music']\n",
      "Top-3 genres in the ground truth: ['Family' 'Documentary' 'Music']\n",
      "\n",
      "Bottom-3 genres predicted by the model: ['Comedy' 'Thriller' 'History']\n",
      "Bottom-3 genres in the ground truth: ['War' 'Comedy' 'Sport']\n"
     ]
    }
   ],
   "source": [
    "top_3_model = model.coef_[0].argsort()[-3:][::-1]\n",
    "bottom_3_model = model.coef_[0].argsort()[:3]\n",
    "\n",
    "top_3_ground_truth = theta_user.argsort()[-3:][::-1]\n",
    "bottom_3_ground_truth = theta_user.argsort()[:3]\n",
    "\n",
    "print(f\"Top-3 genres predicted by the model: {movies.columns[top_3_model].values}\")\n",
    "print(f\"Top-3 genres in the ground truth: {movies.columns[top_3_ground_truth].values}\")\n",
    "\n",
    "print(\n",
    "    f\"\\nBottom-3 genres predicted by the model: {movies.columns[bottom_3_model].values}\"\n",
    ")\n",
    "print(\n",
    "    f\"Bottom-3 genres in the ground truth: {movies.columns[bottom_3_ground_truth].values}\"\n",
    ")"
   ]
  },
  {
   "cell_type": "markdown",
   "metadata": {},
   "source": [
    "We can confirm this finding by looking at the top-3 and bottom-3 genres, which are well predicted by the model.\n"
   ]
  },
  {
   "cell_type": "markdown",
   "metadata": {},
   "source": [
    "### Experimentation with other features\n"
   ]
  },
  {
   "cell_type": "markdown",
   "metadata": {},
   "source": [
    "#### Actors\n"
   ]
  },
  {
   "cell_type": "code",
   "execution_count": 49,
   "metadata": {},
   "outputs": [
    {
     "name": "stdout",
     "output_type": "stream",
     "text": [
      "Fraction of movies liked: 0.53\n"
     ]
    }
   ],
   "source": [
    "model = LogisticRegression(fit_intercept=False)\n",
    "\n",
    "actor_movies = pd.DataFrame(\n",
    "    mlb.fit_transform(catalogue[\"Actors\"]), columns=mlb.classes_\n",
    ")\n",
    "actor_movies = actor_movies.assign(like=None)\n",
    "theta_user = np.random.randn(actor_movies.drop(columns=\"like\").shape[1])\n",
    "\n",
    "# Initialize the model parameters\n",
    "model.coef_ = np.array([[0.0] * actor_movies.drop(columns=\"like\").shape[1]])\n",
    "model.classes_ = np.array([0.0, 1.0])\n",
    "model.intercept_ = 0.0\n",
    "\n",
    "while True:\n",
    "    q_a = 1 / (1 + np.exp(-actor_movies.drop(columns=\"like\").values @ theta_user))\n",
    "    if 0.1 <= np.mean(q_a) <= 0.9:\n",
    "        break\n",
    "    theta_user = np.random.randn(actor_movies.drop(columns=\"like\").shape[1])\n",
    "\n",
    "print(f\"Fraction of movies liked: {np.mean(q_a):.2f}\")"
   ]
  },
  {
   "cell_type": "code",
   "execution_count": null,
   "metadata": {},
   "outputs": [
    {
     "name": "stdout",
     "output_type": "stream",
     "text": [
      "Model coefficients: [0. 0. 0. ... 0. 0. 0.]\n",
      "Model coefficients: [0. 0. 0. ... 0. 0. 0.]\n",
      "Model coefficients: [0. 0. 0. ... 0. 0. 0.]\n"
     ]
    }
   ],
   "source": [
    "spearman_correlations = simulation(actor_movies)\n",
    "plot_spearman_correlation(\n",
    "    spearman_correlations, \"Evolution of the Spearman correlation (only actors feature)\"\n",
    ")"
   ]
  },
  {
   "cell_type": "markdown",
   "metadata": {},
   "source": [
    "Here we use the actors as features. We can see that the algorithm is able to learn the user preferences.\n",
    "\n",
    "With 100 movies seen, the Spearman correlation isn't as high as with genres. We have low but still increasing values. This indicates that the actors are less discriminative than the genres.\n",
    "\n",
    "In order to improve the performance, we could train the model on more data.\n"
   ]
  },
  {
   "cell_type": "markdown",
   "metadata": {},
   "source": [
    "#### Actors + Genres\n"
   ]
  },
  {
   "cell_type": "code",
   "execution_count": 1134,
   "metadata": {},
   "outputs": [
    {
     "name": "stdout",
     "output_type": "stream",
     "text": [
      "Fraction of movies liked: 0.58\n"
     ]
    }
   ],
   "source": [
    "model = LogisticRegression(fit_intercept=False)\n",
    "\n",
    "actor_movies = pd.DataFrame(\n",
    "    mlb.fit_transform(catalogue[\"Actors\"]), columns=mlb.classes_\n",
    ")\n",
    "genre_movies = pd.DataFrame(mlb.fit_transform(catalogue[\"Genre\"]), columns=mlb.classes_)\n",
    "actor_genre_movies = pd.concat([actor_movies, genre_movies], axis=1)\n",
    "actor_genre_movies = actor_genre_movies.assign(like=None)\n",
    "theta_user = np.random.randn(actor_genre_movies.drop(columns=\"like\").shape[1])\n",
    "\n",
    "# Initialize the model parameters\n",
    "model.coef_ = np.array([[0.0] * actor_genre_movies.drop(columns=\"like\").shape[1]])\n",
    "model.classes_ = np.array([0.0, 1.0])\n",
    "model.intercept_ = 0.0\n",
    "\n",
    "while True:\n",
    "    q_a = 1 / (1 + np.exp(-actor_genre_movies.drop(columns=\"like\").values @ theta_user))\n",
    "    if 0.1 <= np.mean(q_a) <= 0.9:\n",
    "        break\n",
    "    theta_user = np.random.randn(actor_genre_movies.drop(columns=\"like\").shape[1])\n",
    "\n",
    "print(f\"Fraction of movies liked: {np.mean(q_a):.2f}\")"
   ]
  },
  {
   "cell_type": "code",
   "execution_count": 1135,
   "metadata": {},
   "outputs": [
    {
     "data": {
      "image/png": "[encoded data removed]",
      "text/plain": [
       "<Figure size 1000x500 with 1 Axes>"
      ]
     },
     "metadata": {},
     "output_type": "display_data"
    }
   ],
   "source": [
    "spearman_correlations = simulation(actor_genre_movies)\n",
    "plot_spearman_correlation(\n",
    "    spearman_correlations,\n",
    "    \"Evolution of the Spearman correlation (actors and genre features)\",\n",
    ")"
   ]
  },
  {
   "cell_type": "markdown",
   "metadata": {},
   "source": [
    "In this case, we use both actors and genres as features. The Spearman correlation is higher than with actors only, but lower than with genres only.\n"
   ]
  },
  {
   "cell_type": "markdown",
   "metadata": {},
   "source": [
    "#### Actors + Genres + Directors\n"
   ]
  },
  {
   "cell_type": "code",
   "execution_count": 1136,
   "metadata": {},
   "outputs": [
    {
     "name": "stdout",
     "output_type": "stream",
     "text": [
      "Fraction of movies liked: 0.63\n"
     ]
    }
   ],
   "source": [
    "model = LogisticRegression(fit_intercept=False)\n",
    "\n",
    "actor_movies = pd.DataFrame(\n",
    "    mlb.fit_transform(catalogue[\"Actors\"]), columns=mlb.classes_\n",
    ")\n",
    "genre_movies = pd.DataFrame(mlb.fit_transform(catalogue[\"Genre\"]), columns=mlb.classes_)\n",
    "director_movies = pd.DataFrame(\n",
    "    mlb.fit_transform(catalogue[\"Director\"]), columns=mlb.classes_\n",
    ")\n",
    "actor_genre_director_movies = pd.concat(\n",
    "    [actor_movies, genre_movies, director_movies], axis=1\n",
    ")\n",
    "actor_genre_director_movies = actor_genre_director_movies.assign(like=None)\n",
    "theta_user = np.random.randn(actor_genre_director_movies.drop(columns=\"like\").shape[1])\n",
    "\n",
    "# Initialize the model parameters\n",
    "model.coef_ = np.array(\n",
    "    [[0.0] * actor_genre_director_movies.drop(columns=\"like\").shape[1]]\n",
    ")\n",
    "model.classes_ = np.array([0.0, 1.0])\n",
    "model.intercept_ = 0.0\n",
    "\n",
    "while True:\n",
    "    q_a = 1 / (\n",
    "        1\n",
    "        + np.exp(-actor_genre_director_movies.drop(columns=\"like\").values @ theta_user)\n",
    "    )\n",
    "    if 0.1 <= np.mean(q_a) <= 0.9:\n",
    "        break\n",
    "    theta_user = np.random.randn(\n",
    "        actor_genre_director_movies.drop(columns=\"like\").shape[1]\n",
    "    )\n",
    "\n",
    "print(f\"Fraction of movies liked: {np.mean(q_a):.2f}\")"
   ]
  },
  {
   "cell_type": "code",
   "execution_count": 1137,
   "metadata": {},
   "outputs": [
    {
     "data": {
      "image/png": "[encoded data removed]",
      "text/plain": [
       "<Figure size 1000x500 with 1 Axes>"
      ]
     },
     "metadata": {},
     "output_type": "display_data"
    }
   ],
   "source": [
    "spearman_correlations = simulation(actor_genre_director_movies)\n",
    "plot_spearman_correlation(\n",
    "    spearman_correlations,\n",
    "    \"Evolution of the Spearman correlation (actors, genre and director features)\",\n",
    ")"
   ]
  },
  {
   "cell_type": "markdown",
   "metadata": {},
   "source": [
    "The results are similar to the previous case, with a slightly higher Spearman correlation.\n",
    "\n",
    "This tells us that adding the director doesn't improve the performance of the model.\n",
    "\n",
    "In all the mixed cases, we have seen that the genres are the most discriminative features, and adding other features is adding noise more than information.\n"
   ]
  }
 ],
 "metadata": {
  "kernelspec": {
   "display_name": "venv",
   "language": "python",
   "name": "python3"
  },
  "language_info": {
   "codemirror_mode": {
    "name": "ipython",
    "version": 3
   },
   "file_extension": ".py",
   "mimetype": "text/x-python",
   "name": "python",
   "nbconvert_exporter": "python",
   "pygments_lexer": "ipython3",
   "version": "3.12.6"
  }
 },
 "nbformat": 4,
 "nbformat_minor": 4
}
